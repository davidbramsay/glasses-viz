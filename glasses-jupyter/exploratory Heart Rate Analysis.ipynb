{
 "cells": [
  {
   "cell_type": "markdown",
   "metadata": {},
   "source": [
    "From https://affect.media.mit.edu/pdfs/14.Hernandez.Li.Rehg.Picard-MobiHealth.pdf\n",
    "    \n",
    "Both 3-axis accelerometer and 3-axis gyroscope were retrieved at an average sampling rate of 50 Hz. In order to ensure a constant sampling rate, we performed cubic interpolation at a sampling rate of 256 Hz.\n",
    "\n",
    "They\n",
    "(1) HPF by **subtracting** a centered 3-sample time average.\n",
    "(2) 4th-order Bandpass Butterworth at 10-13 Hz\n",
    "(3) Take an L2 norm to go from 3 axes to a magnitude\n",
    "(4) 2nd-order Bandpass Butterworth at 0.75-2.5Hz\n",
    "\n",
    "This gives the 'Pulse Wave' that matches the 'Blood Volume Pulse'.  FFT to get peak Hz\\*60 = bpm, FFT between 0 and 2.5Hz. \n",
    "\n",
    "For respiration:\n",
    "(1) LPF with max frequency of 45Hz with moving average.\n",
    "(2) 4th-order Bandpass Butterworth from 0.13-0.75Hz\n",
    "(3) PCA to maximize variance (transform to dim of maximum variation)\n",
    "(4) FFT and take peak amplitude\n",
    "\n",
    "FFTs are 0-2.5Hz\n",
    "\n",
    "Also: https://www.ncbi.nlm.nih.gov/pmc/articles/PMC4384813/\n",
    "\n",
    "\"To sense the BCG at the head in a portable and wearable manner, we use a MEMS tri-axial digital accelerometer. Because head BCG is in the range of 10mGp−p, a highly sensitive and low noise accelerometer is needed. We choose Bosch's BMA180 accelerometer for its 14-bit resolution and 0.69mGRMS of measured noise at 10Hz bandwidth with ±2G range.\"\n",
    "\n",
    "BNO055 - 1mG quantization, error\n",
    "BNO080 - 8G mode, likley to not be sensitive enough to do this.  reports in increments of 0.4mG."
   ]
  }
 ],
 "metadata": {
  "kernelspec": {
   "display_name": "Python 3",
   "language": "python",
   "name": "python3"
  },
  "language_info": {
   "codemirror_mode": {
    "name": "ipython",
    "version": 3
   },
   "file_extension": ".py",
   "mimetype": "text/x-python",
   "name": "python",
   "nbconvert_exporter": "python",
   "pygments_lexer": "ipython3",
   "version": "3.9.4"
  }
 },
 "nbformat": 4,
 "nbformat_minor": 2
}
