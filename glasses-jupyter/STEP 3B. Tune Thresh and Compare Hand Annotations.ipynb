{
 "cells": [
  {
   "cell_type": "markdown",
   "metadata": {},
   "source": [
    "# Getting Started Comparing Hand Annotated Blinks with OF and Glasses\n",
    "We've hand annotated some of Patrick 3 with the 'Hand Annotate Videos' script, now let's see how we did.\n",
    "\n",
    "We need to load in our hand annotations `hand_annotations` from `hand_annotations.p`, which is a dictionary with key = index of video session, value = array of timestamps of hand labels.\n",
    "\n",
    "We need to load in our video sessions with the openface labels `vid_meta_data` from `video_blink_sessions.p`.  We'll just use the sessions we have hand annotations for.\n",
    "\n",
    "We need to load in our glasses blink data, time corrected.  We can either load in\n",
    "- (1) the results from our baseline classifier df, which is a df that includes a timestamp, duration, and peak velocities for each blink we identified, from `glasses_all_blink_timestamps_uncorrected.p`.  This is without the timestamp correction to align it with video, so we also need to load and apply `best_offset.p` to time align the blinks properly.\n",
    "- (2) we could load in the raw `blink_sess` from `sessions_blink.p`, which is the raw data right off the sensor.  This is also not time corrected and we'll need to apply `best_offset.p`\n",
    "\n",
    "Finally, we may need to load in `sessions_accel.p` if it turns out we need to use the accelerometer data to try and remove blink artifacts based on motion.  Again, this glasses data will need to have `best_offset.p` applied to its timestamps before using it."
   ]
  },
  {
   "cell_type": "code",
   "execution_count": 32,
   "metadata": {},
   "outputs": [],
   "source": [
    "import json\n",
    "from datetime import datetime , timezone\n",
    "import time\n",
    "import numpy as np\n",
    "import codecs\n",
    "import struct\n",
    "import matplotlib.pyplot as plt\n",
    "import pandas as pd\n",
    "import pickle\n",
    "import pycorrelate\n",
    "import collections\n",
    "import itertools\n",
    "from mpl_toolkits import mplot3d\n",
    "import cv2\n",
    "import imutils\n",
    "import os\n",
    "from scipy.spatial.transform import Rotation as R\n",
    "\n",
    "pd.options.display.float_format = '{:.3f}'.format\n",
    "pd.set_option('display.max_rows', 1000)\n",
    "%matplotlib inline"
   ]
  },
  {
   "cell_type": "markdown",
   "metadata": {},
   "source": [
    "### Step 1: Load Data (and correct glasses time offset to align everything)"
   ]
  },
  {
   "cell_type": "code",
   "execution_count": 213,
   "metadata": {},
   "outputs": [
    {
     "name": "stdout",
     "output_type": "stream",
     "text": [
      "Please Choose a Session to Work With:\n",
      "david_2,  patrick_1,  patrick_2,  beata_1,  david_3b,  irmandy_1,  juliana_1,  irmandy_2,  patrick_3,  "
     ]
    }
   ],
   "source": [
    "metadata = pickle.load(open('./cleaned_data/metadata.p', 'rb'))\n",
    "print('Please Choose a Session to Work With:')\n",
    "for k in metadata: print(k, end=',  ')"
   ]
  },
  {
   "cell_type": "code",
   "execution_count": 247,
   "metadata": {},
   "outputs": [],
   "source": [
    "#TODO \n",
    "\n",
    "SESSION = 'juliana_1'"
   ]
  },
  {
   "cell_type": "code",
   "execution_count": 248,
   "metadata": {},
   "outputs": [],
   "source": [
    "hand_annotations = pickle.load(open('./cleaned_data/' + SESSION + '/hand_annotations.p', \"rb\" ))\n",
    "\n",
    "vid_meta_data = pickle.load(open('./cleaned_data/' + SESSION + '/video_blink_sessions.p', \"rb\" ))\n",
    "\n",
    "best_offset = pickle.load(open('./cleaned_data/' + SESSION + '/best_offset.p', \"rb\" ))\n",
    "\n",
    "accel_sess = pickle.load(open('./cleaned_data/' + SESSION + '/sessions_accel.p', \"rb\" ))\n",
    "for i in range(len(accel_sess)): accel_sess[i]['timestamp_ms'] = accel_sess[i]['timestamp_ms'] + best_offset"
   ]
  },
  {
   "cell_type": "code",
   "execution_count": 249,
   "metadata": {},
   "outputs": [
    {
     "name": "stdout",
     "output_type": "stream",
     "text": [
      "hand annotations represent 516 blinks with 498.80 secs of recording.  That's a blink rate of 62.07 blinks/min.\n",
      "skipped 3 snippets with 263.56 sec of recording.  These are probably worse for OF because they were hard to classify by eye.\n",
      "skipped sections include 26 blinks found by openface.\n"
     ]
    }
   ],
   "source": [
    "total_blinks, total_dur_sec, total_num_skipped, total_dur_skipped, of_blinks_skipped = 0, 0, 0, 0, 0\n",
    "for k in hand_annotations:\n",
    "    try:\n",
    "        total_blinks += len(hand_annotations[k])\n",
    "        total_dur_sec += vid_meta_data['duration_sessions_sec'][k]\n",
    "    except:\n",
    "        total_num_skipped +=1\n",
    "        total_dur_skipped += vid_meta_data['duration_sessions_sec'][k]\n",
    "        of_blinks_skipped += vid_meta_data['blinks_per_session'][k]\n",
    "\n",
    "print('hand annotations represent %d blinks with %3.2f secs of recording.  That\\'s a blink rate of %2.2f blinks/min.'%(total_blinks, total_dur_sec, 60*total_blinks/total_dur_sec))\n",
    "print('skipped %d snippets with %3.2f sec of recording.  These are probably worse for OF because they were hard to classify by eye.'%(total_num_skipped, total_dur_skipped))\n",
    "print('skipped sections include %d blinks found by openface.'%of_blinks_skipped)"
   ]
  },
  {
   "cell_type": "markdown",
   "metadata": {},
   "source": [
    "#### Now we will eliminate the sections we skipped when hand annotating\n",
    "We skipped some sections during annotation because of the ambiguity/difficulty and saved them as 'None'.  OF would likely struggle with these, but we can't even really tell ourselves; OF shouldn't have been confident.  We'll work just with our known good data now and eliminate values of 'None' from our hand annotations."
   ]
  },
  {
   "cell_type": "code",
   "execution_count": 250,
   "metadata": {},
   "outputs": [],
   "source": [
    "filtered = {k: v for k, v in hand_annotations.items() if v is not None}\n",
    "hand_annotations.clear()\n",
    "hand_annotations.update(filtered)"
   ]
  },
  {
   "cell_type": "code",
   "execution_count": 219,
   "metadata": {},
   "outputs": [
    {
     "name": "stdout",
     "output_type": "stream",
     "text": [
      "359 163.5287\n",
      "72 20.71998333333333\n",
      "122 45.40088333333333\n",
      "352 151.55278333333334\n",
      "232 108.17171666666667\n",
      "353 154.3125\n",
      "8 1.6789166666666666\n",
      "618 230.44175\n",
      "610 224.65426666666667\n",
      "123 48.2404\n",
      "627 240.45958333333334\n",
      "46 13.531933333333333\n",
      "111 41.276466666666664\n",
      "50 15.590666666666667\n",
      "334 144.96533333333332\n",
      "625 238.75231666666667\n",
      "333 143.41155\n",
      "1836 468.23338333333334\n",
      "607 221.96378333333334\n",
      "------\n",
      "72 20.71998333333333\n",
      "122 45.40088333333333\n",
      "352 151.55278333333334\n",
      "232 108.17171666666667\n",
      "353 154.3125\n",
      "8 1.6789166666666666\n",
      "618 230.44175\n",
      "610 224.65426666666667\n",
      "123 48.2404\n",
      "627 240.45958333333334\n",
      "46 13.531933333333333\n",
      "111 41.276466666666664\n",
      "50 15.590666666666667\n",
      "334 144.96533333333332\n",
      "625 238.75231666666667\n",
      "333 143.41155\n",
      "1836 468.23338333333334\n"
     ]
    }
   ],
   "source": [
    "def string_to_timestamp_ms(datestring):\n",
    "    return datetime.strptime(datestring, '%m/%d/%y %I:%M:%S%p %Z').timestamp()*1000\n",
    "\n",
    "for k in hand_annotations: print(k, (vid_meta_data['session_times'][k][0]- string_to_timestamp_ms(metadata[SESSION]['vid_start']))/60000)\n",
    "\n",
    "#irmandy_2\n",
    "#del hand_annotations[97]\n",
    "\n",
    "#beata_1\n",
    "#del hand_annotations[359]\n",
    "#del hand_annotations[607]\n",
    "\n",
    "print('------')\n",
    "for k in hand_annotations: print(k, (vid_meta_data['session_times'][k][0]- string_to_timestamp_ms(metadata[SESSION]['vid_start']))/60000)\n"
   ]
  },
  {
   "cell_type": "markdown",
   "metadata": {},
   "source": [
    "### Step 2: For simplicity, add motion to df_glasses_blinks and remove accel_sess, since we won't need it anymore"
   ]
  },
  {
   "cell_type": "code",
   "execution_count": 251,
   "metadata": {},
   "outputs": [],
   "source": [
    "def df_between_timestamps(df, time_col, start_time, end_time):\n",
    "    return df[(start_time <= df[time_col]) & (df[time_col] <= end_time)].copy()\n",
    "\n",
    "def rotation_mag_between_rows(row_start, row_end):\n",
    "    rotation = R.from_quat(row_start[['quatReal', 'quatI', 'quatJ', 'quatK']]).inv() * R.from_quat(row_end[['quatReal', 'quatI', 'quatJ', 'quatK']])\n",
    "    return rotation.magnitude()\n",
    "    \n",
    "def get_rotation_mag_by_timestamp(timestamp):\n",
    "    for sess in accel_sess:\n",
    "        #if our timestamp is in this session\n",
    "        if sess['timestamp_ms'].iloc[0] <= timestamp <= sess['timestamp_ms'].iloc[-1]:\n",
    "            #get the two closest timestamps\n",
    "            df_closest = sess.iloc[(sess['timestamp_ms']-timestamp).abs().argsort()[:2]]\n",
    "            #return the rotation of these two\n",
    "            return rotation_mag_between_rows(df_closest.iloc[0], df_closest.iloc[1])\n",
    "    #if we fail to find it in our glasses data for acceleration, return np.nan\n",
    "    return np.nan"
   ]
  },
  {
   "cell_type": "markdown",
   "metadata": {},
   "source": [
    "We now have clean, easy to use and work with data that is all time aligned!\n",
    "\n",
    "`vid_meta_data` - a dict with sessions of good tracking from OF, timestamped at the start and end, as well as lists of timestamps of blink events.\n",
    "\n",
    "`hand_annotations` - a dict where the key indexes the session from `vid_meta_data`, and the value is a list of timestamps of blink events.\n",
    "\n",
    "`df_glasses_blinks` - a df where every row represents a blink captured by our glasses/basic glasses algorithm, timestamped, and including blink duration, vel_open, vel_close, and rotation_magnitude of the head during that blink."
   ]
  },
  {
   "cell_type": "markdown",
   "metadata": {},
   "source": [
    "### Step 3: Compare Hand Annotations with Blink Classification from OF and the Glasses\n",
    "\n",
    "We'll start by simply: \n",
    "\n",
    "(1) printing basic hand annotation data (duration annotated, blinks/sec, number of sessions, number of blinks, etc)\n",
    "\n",
    "(2) reducing our blink list for glasses and video into one list for each, which only includes blinks that occur during our hand anotation sections.\n",
    "\n",
    "(3) comparing the OF list and the glasses list to the hand annotation list.  Iterate over real blink times, removing first instance of classified blink that falls within some error bar.  Get metrics for true/false positives and compare.\n",
    "\n",
    "(4) store indices of glasses blinks that are false positives, and create a df for true positives and false positives.  Look at differences between vel/duration/rotation_mag when true or false positive.\n",
    "\n",
    "(5) plot(?) each over top of one another?  May be useful\n",
    "\n"
   ]
  },
  {
   "cell_type": "code",
   "execution_count": 253,
   "metadata": {},
   "outputs": [],
   "source": [
    "\n",
    "def grab_blinks(blink_sess, thresh=0.06, blink_dur_ms=175, lpf_samples=50, dx_lpf_samples=25, reverse=False):\n",
    "    #get array of (1)timestamps of blinks, (2) [peak close velocity, peak open velocity], (3) duration\n",
    "    \n",
    "    def moving_average(x, w):\n",
    "        return np.convolve(x, np.ones(w), 'same') / w\n",
    "    \n",
    "    #step 1: LPF input, take derivative, LPF derivative\n",
    "    smooth_input = moving_average(blink_sess['value'], lpf_samples)\n",
    "    dx = np.append([np.nan], np.diff(smooth_input))\n",
    "    smooth_dx = moving_average(dx, dx_lpf_samples)\n",
    "    df_results = pd.DataFrame({'timestamp_ms':blink_sess['timestamp_ms'], 'dx':smooth_dx})\n",
    "    \n",
    "    #step 2, apply threshold\n",
    "    if reverse:\n",
    "        decision = (smooth_dx > thresh)\n",
    "    else:\n",
    "        decision = (smooth_dx < -1*thresh)\n",
    "\n",
    "    #plt.plot(df_results['timestamp_ms'], df_results['dx'])\n",
    "    #plt.plot(df_results['timestamp_ms'], decision)\n",
    "    #plt.show()\n",
    "    \n",
    "    #step 3, use this thresholded value to decide if we are blinking subject to debounce.\n",
    "    #grab the blink time. within the bounds of the blink, find the duration and peak velocities using the derivative.\n",
    "    df_blinks = pd.DataFrame()\n",
    "    samples_per_blink = int(blink_dur_ms)  # happen to sample at 1kHz so 1 sample == 1 ms\n",
    "    samples_blink_debounce = int(samples_per_blink/2)\n",
    "    i, blinkrow = 0, {}\n",
    "    while i<len(decision):\n",
    "        if decision[i]: #we have a blink\n",
    "            blinkrow['timestamp_ms'] = df_results['timestamp_ms'].iloc[i] #timestamp of this blink\n",
    "            \n",
    "            df_thisblink = df_results.iloc[i:i+samples_per_blink] #grab the data associated with this blink\n",
    "            if reverse:\n",
    "                max_close = df_thisblink[df_thisblink['dx'] == df_thisblink['dx'].max()]\n",
    "                max_open  = df_thisblink[df_thisblink['dx'] == df_thisblink['dx'].min()]\n",
    "            else:\n",
    "                max_close = df_thisblink[df_thisblink['dx'] == df_thisblink['dx'].min()]\n",
    "                max_open  = df_thisblink[df_thisblink['dx'] == df_thisblink['dx'].max()]\n",
    "            \n",
    "            blinkrow['vel_close'] = abs(max_close['dx'].iloc[0]) #peak close velocity\n",
    "            blinkrow['vel_open']  = abs(max_open['dx'].iloc[-1]) #peak open velocity\n",
    "            blinkrow['duration_ms'] = max_open['timestamp_ms'].iloc[-1] - max_close['timestamp_ms'].iloc[0] #duration\n",
    "            \n",
    "            df_blinks = df_blinks.append(blinkrow, ignore_index=True)\n",
    "            i += samples_blink_debounce #move ahead debounce samples before checking for blinks again\n",
    "        else: i += 1\n",
    "            \n",
    "    return df_blinks\n",
    "\n",
    "def get_all_blink_sessions(blink_sessions, thresh=0.06, blink_dur_ms=250, lpf_samples=50, dx_lpf_samples=25, reverse=False):\n",
    "    \n",
    "    df_result = pd.DataFrame()\n",
    "    for sess in blink_sessions:\n",
    "        df_blinks = grab_blinks(sess,\n",
    "                                thresh=thresh, \n",
    "                                blink_dur_ms=blink_dur_ms, \n",
    "                                lpf_samples=lpf_samples, \n",
    "                                dx_lpf_samples=dx_lpf_samples, \n",
    "                                reverse=reverse)\n",
    "        df_result = df_result.append(df_blinks, ignore_index=True)\n",
    "        \n",
    "    return df_result"
   ]
  },
  {
   "cell_type": "code",
   "execution_count": 254,
   "metadata": {},
   "outputs": [],
   "source": [
    "def debounce_data(list_of_times, debounce_dur_ms=200):\n",
    "    \n",
    "    indices_to_remove = []\n",
    "    for i in range(1, len(list_of_times)):\n",
    "        if list_of_times[i-1] >= list_of_times[i] - debounce_dur_ms:\n",
    "            indices_to_remove.append(i)\n",
    "\n",
    "    for index in sorted(indices_to_remove, reverse=True):\n",
    "        del list_of_times[index]\n",
    "        \n",
    "    return list_of_times\n",
    "\n",
    "def test_results(annotated_blinklist, test_blinklist, tolerance_ms=400):\n",
    "    results = {'true_pos':0, 'real_pos':len(annotated_blinklist)}\n",
    "\n",
    "    for  atime in annotated_blinklist:\n",
    "        for ttime in test_blinklist:\n",
    "            if ttime-tolerance_ms <= atime <= ttime+tolerance_ms:\n",
    "                results['true_pos'] += 1\n",
    "                test_blinklist.remove(ttime)\n",
    "                break\n",
    "    results['false_pos'] = len(test_blinklist)\n",
    "    results['sensitivity'] = results['true_pos'] / results['real_pos'] * 100\n",
    "    results['false_discovery'] = results['false_pos'] / (results['false_pos'] + results['true_pos']) * 100\n",
    "    \n",
    "    return results, test_blinklist"
   ]
  },
  {
   "cell_type": "code",
   "execution_count": null,
   "metadata": {},
   "outputs": [
    {
     "name": "stdout",
     "output_type": "stream",
     "text": [
      "TESTING:  0.035 400 175 ------\n",
      "\t\t   GLASS sens: 85.9 \tfalse: 53.7 \tdiff: 32.2 ++\n",
      "\t\tOPENFACE sens: 31.4 \tfalse: 36.0 \tdiff: -4.6 ++\n",
      "\t\t                     \t             \t           ++++\n",
      "TESTING:  0.035 500 175 ------\n",
      "\t\t   GLASS sens: 89.9 \tfalse: 51.5 \tdiff: 38.5 ++\n",
      "\t\tOPENFACE sens: 33.5 \tfalse: 31.6 \tdiff: 1.9\n",
      "TESTING:  0.035 1000 175 ------\n",
      "\t\t   GLASS sens: 99.6 \tfalse: 46.2 \tdiff: 53.4 ++\n",
      "\t\tOPENFACE sens: 38.4 \tfalse: 21.7 \tdiff: 16.6\n",
      "TESTING:  0.035 1100 175 ------\n",
      "\t\t   GLASS sens: 100.0 \tfalse: 46.0 \tdiff: 54.0 ++\n",
      "\t\tOPENFACE sens: 39.7 \tfalse: 19.0 \tdiff: 20.8\n",
      "TESTING:  0.035 1300 175 ------\n",
      "\t\t   GLASS sens: 100.0 \tfalse: 46.0 \tdiff: 54.0 ++\n",
      "\t\tOPENFACE sens: 40.5 \tfalse: 17.4 \tdiff: 23.1\n",
      "TESTING:  0.035 1400 175 ------\n",
      "\t\t   GLASS sens: 100.0 \tfalse: 46.0 \tdiff: 54.0 ++\n",
      "\t\tOPENFACE sens: 41.3 \tfalse: 15.8 \tdiff: 25.5\n",
      "TESTING:  0.04 400 175 ------\n",
      "\t\t   GLASS sens: 83.9 \tfalse: 49.7 \tdiff: 34.2\n",
      "\t\tOPENFACE sens: 31.4 \tfalse: 36.0 \tdiff: -4.6 ++\n",
      "\t\t                     \t             \t           ++++\n",
      "TESTING:  0.04 500 175 ------\n",
      "\t\t   GLASS sens: 88.4 \tfalse: 47.0 \tdiff: 41.3\n",
      "\t\tOPENFACE sens: 33.5 \tfalse: 31.6 \tdiff: 1.9\n",
      "\t\t                     \t             \t           ++++\n",
      "TESTING:  0.04 1000 175 ------\n",
      "\t\t   GLASS sens: 99.0 \tfalse: 40.7 \tdiff: 58.4 ++\n",
      "\t\tOPENFACE sens: 38.4 \tfalse: 21.7 \tdiff: 16.6\n",
      "\t\t                     \t             \t           ++++\n",
      "TESTING:  0.04 1100 175 ------\n",
      "\t\t   GLASS sens: 99.4 \tfalse: 40.4 \tdiff: 59.0 ++\n",
      "\t\tOPENFACE sens: 39.7 \tfalse: 19.0 \tdiff: 20.8\n",
      "TESTING:  0.04 1300 175 ------\n",
      "\t\t   GLASS sens: 99.6 \tfalse: 40.3 \tdiff: 59.3 ++\n",
      "\t\tOPENFACE sens: 40.5 \tfalse: 17.4 \tdiff: 23.1\n",
      "TESTING:  0.04 1400 175 ------\n",
      "\t\t   GLASS sens: 99.8 \tfalse: 40.2 \tdiff: 59.6 ++\n",
      "\t\tOPENFACE sens: 41.3 \tfalse: 15.8 \tdiff: 25.5\n",
      "TESTING:  0.05 400 175 ------\n",
      "\t\t   GLASS sens: 79.7 \tfalse: 40.7 \tdiff: 39.0\n",
      "\t\tOPENFACE sens: 31.4 \tfalse: 36.0 \tdiff: -4.6 ++\n",
      "\t\t                     \t             \t           ++++\n",
      "TESTING:  0.05 500 175 ------\n",
      "\t\t   GLASS sens: 83.9 \tfalse: 37.5 \tdiff: 46.4\n",
      "\t\tOPENFACE sens: 33.5 \tfalse: 31.6 \tdiff: 1.9\n",
      "\t\t                     \t             \t           ++++\n",
      "TESTING:  0.05 1000 175 ------\n",
      "\t\t   GLASS sens: 96.1 \tfalse: 28.4 \tdiff: 67.7 ++\n",
      "\t\tOPENFACE sens: 38.4 \tfalse: 21.7 \tdiff: 16.6\n",
      "\t\t                     \t             \t           ++++\n",
      "TESTING:  0.05 1100 175 ------\n",
      "\t\t   GLASS sens: 97.1 \tfalse: 27.7 \tdiff: 69.4 ++\n",
      "\t\tOPENFACE sens: 39.7 \tfalse: 19.0 \tdiff: 20.8\n",
      "TESTING:  0.05 1300 175 ------\n",
      "\t\t   GLASS sens: 97.3 \tfalse: 27.6 \tdiff: 69.7 ++\n",
      "\t\tOPENFACE sens: 40.5 \tfalse: 17.4 \tdiff: 23.1\n",
      "TESTING:  0.05 1400 175 ------\n",
      "\t\t   GLASS sens: 97.7 \tfalse: 27.3 \tdiff: 70.4 ++\n",
      "\t\tOPENFACE sens: 41.3 \tfalse: 15.8 \tdiff: 25.5\n",
      "TESTING:  0.06 400 175 ------\n",
      "\t\t   GLASS sens: 75.8 \tfalse: 30.4 \tdiff: 45.3\n",
      "\t\tOPENFACE sens: 31.4 \tfalse: 36.0 \tdiff: -4.6 ++\n",
      "TESTING:  0.06 500 175 ------\n",
      "\t\t   GLASS sens: 79.5 \tfalse: 27.0 \tdiff: 52.4\n",
      "\t\tOPENFACE sens: 33.5 \tfalse: 31.6 \tdiff: 1.9\n",
      "TESTING:  0.06 1000 175 ------\n",
      "\t\t   GLASS sens: 92.1 \tfalse: 15.5 \tdiff: 76.6 ++\n",
      "\t\tOPENFACE sens: 38.4 \tfalse: 21.7 \tdiff: 16.6\n",
      "\t\t                     \t             \t           ++++\n",
      "TESTING:  0.06 1100 175 ------\n",
      "\t\t   GLASS sens: 92.8 \tfalse: 14.8 \tdiff: 78.1 ++\n",
      "\t\tOPENFACE sens: 39.7 \tfalse: 19.0 \tdiff: 20.8\n",
      "TESTING:  0.06 1300 175 ------\n",
      "\t\t   GLASS sens: 93.2 \tfalse: 14.4 \tdiff: 78.8 ++\n",
      "\t\tOPENFACE sens: 40.5 \tfalse: 17.4 \tdiff: 23.1\n",
      "TESTING:  0.06 1400 175 ------\n",
      "\t\t   GLASS sens: 93.4 \tfalse: 14.2 \tdiff: 79.2 ++\n",
      "\t\tOPENFACE sens: 41.3 \tfalse: 15.8 \tdiff: 25.5\n",
      "TESTING:  0.07 400 175 ------\n",
      "\t\t   GLASS sens: 64.7 \tfalse: 26.3 \tdiff: 38.5\n",
      "\t\tOPENFACE sens: 31.4 \tfalse: 36.0 \tdiff: -4.6 ++\n",
      "TESTING:  0.07 500 175 ------\n",
      "\t\t   GLASS sens: 69.2 \tfalse: 21.2 \tdiff: 48.0\n",
      "\t\tOPENFACE sens: 33.5 \tfalse: 31.6 \tdiff: 1.9\n",
      "TESTING:  0.07 1000 175 ------\n",
      "\t\t   GLASS sens: 81.8 \tfalse: 6.8 \tdiff: 74.9\n",
      "\t\tOPENFACE sens: 38.4 \tfalse: 21.7 \tdiff: 16.6\n",
      "TESTING:  0.07 1100 175 ------\n",
      "\t\t   GLASS sens: 82.4 \tfalse: 6.2 \tdiff: 76.2\n",
      "\t\tOPENFACE sens: 39.7 \tfalse: 19.0 \tdiff: 20.8\n",
      "TESTING:  0.07 1300 175 ------\n",
      "\t\t   GLASS sens: 83.1 \tfalse: 5.3 \tdiff: 77.8\n",
      "\t\tOPENFACE sens: 40.5 \tfalse: 17.4 \tdiff: 23.1\n",
      "TESTING:  0.07 1400 175 ------\n",
      "\t\t   GLASS sens: 83.1 \tfalse: 5.3 \tdiff: 77.8\n",
      "\t\tOPENFACE sens: 41.3 \tfalse: 15.8 \tdiff: 25.5\n",
      "TESTING:  0.08 400 175 ------\n",
      "\t\t   GLASS sens: 54.3 \tfalse: 24.5 \tdiff: 29.7\n",
      "\t\tOPENFACE sens: 31.4 \tfalse: 36.0 \tdiff: -4.6 ++\n",
      "TESTING:  0.08 500 175 ------\n",
      "\t\t   GLASS sens: 57.9 \tfalse: 19.4 \tdiff: 38.5\n",
      "\t\tOPENFACE sens: 33.5 \tfalse: 31.6 \tdiff: 1.9\n",
      "TESTING:  0.08 1000 175 ------\n",
      "\t\t   GLASS sens: 68.6 \tfalse: 4.6 \tdiff: 64.0\n",
      "\t\tOPENFACE sens: 38.4 \tfalse: 21.7 \tdiff: 16.6\n",
      "TESTING:  0.08 1100 175 ------\n",
      "\t\t   GLASS sens: 69.4 \tfalse: 3.5 \tdiff: 65.9\n",
      "\t\tOPENFACE sens: 39.7 \tfalse: 19.0 \tdiff: 20.8\n",
      "TESTING:  0.08 1300 175 ------\n",
      "\t\t   GLASS sens: 69.8 \tfalse: 3.0 \tdiff: 66.8\n",
      "\t\tOPENFACE sens: 40.5 \tfalse: 17.4 \tdiff: 23.1\n",
      "TESTING:  0.08 1400 175 ------\n",
      "\t\t   GLASS sens: 69.8 \tfalse: 3.0 \tdiff: 66.8\n",
      "\t\tOPENFACE sens: 41.3 \tfalse: 15.8 \tdiff: 25.5\n",
      "TESTING:  0.09 400 175 ------\n",
      "\t\t   GLASS sens: 40.3 \tfalse: 24.1 \tdiff: 16.2\n",
      "\t\tOPENFACE sens: 31.4 \tfalse: 36.0 \tdiff: -4.6 ++\n",
      "TESTING:  0.09 500 175 ------\n",
      "\t\t   GLASS sens: 43.2 \tfalse: 18.6 \tdiff: 24.6\n",
      "\t\tOPENFACE sens: 33.5 \tfalse: 31.6 \tdiff: 1.9\n",
      "TESTING:  0.09 1000 175 ------\n",
      "\t\t   GLASS sens: 51.2 \tfalse: 3.6 \tdiff: 47.5\n",
      "\t\tOPENFACE sens: 38.4 \tfalse: 21.7 \tdiff: 16.6\n",
      "TESTING:  0.09 1100 175 ------\n",
      "\t\t   GLASS sens: 51.9 \tfalse: 2.2 \tdiff: 49.7\n",
      "\t\tOPENFACE sens: 39.7 \tfalse: 19.0 \tdiff: 20.8\n",
      "TESTING:  0.09 1300 175 ------\n",
      "\t\t   GLASS sens: 52.1 \tfalse: 1.8 \tdiff: 50.3\n",
      "\t\tOPENFACE sens: 40.5 \tfalse: 17.4 \tdiff: 23.1\n",
      "TESTING:  0.09 1400 175 ------\n",
      "\t\t   GLASS sens: 52.1 \tfalse: 1.8 \tdiff: 50.3\n",
      "\t\tOPENFACE sens: 41.3 \tfalse: 15.8 \tdiff: 25.5\n",
      "TESTING:  0.1 400 175 ------\n",
      "\t\t   GLASS sens: 27.5 \tfalse: 24.1 \tdiff: 3.5\n",
      "\t\tOPENFACE sens: 31.4 \tfalse: 36.0 \tdiff: -4.6 ++\n",
      "TESTING:  0.1 500 175 ------\n",
      "\t\t   GLASS sens: 29.3 \tfalse: 19.3 \tdiff: 10.0\n",
      "\t\tOPENFACE sens: 33.5 \tfalse: 31.6 \tdiff: 1.9\n",
      "TESTING:  0.1 1000 175 ------\n",
      "\t\t   GLASS sens: 35.3 \tfalse: 2.7 \tdiff: 32.6\n",
      "\t\tOPENFACE sens: 38.4 \tfalse: 21.7 \tdiff: 16.6\n",
      "TESTING:  0.1 1100 175 ------\n",
      "\t\t   GLASS sens: 35.9 \tfalse: 1.1 \tdiff: 34.8\n",
      "\t\tOPENFACE sens: 39.7 \tfalse: 19.0 \tdiff: 20.8\n",
      "TESTING:  0.1 1300 175 ------\n",
      "\t\t   GLASS sens: 35.9 \tfalse: 1.1 \tdiff: 34.8\n",
      "\t\tOPENFACE sens: 40.5 \tfalse: 17.4 \tdiff: 23.1\n",
      "TESTING:  0.1 1400 175 ------\n",
      "\t\t   GLASS sens: 35.9 \tfalse: 1.1 \tdiff: 34.8\n",
      "\t\tOPENFACE sens: 41.3 \tfalse: 15.8 \tdiff: 25.5\n",
      "TESTING:  0.11 400 175 ------\n",
      "\t\t   GLASS sens: 16.3 \tfalse: 22.9 \tdiff: -6.7\n",
      "\t\tOPENFACE sens: 31.4 \tfalse: 36.0 \tdiff: -4.6 ++\n",
      "TESTING:  0.11 500 175 ------\n",
      "\t\t   GLASS sens: 17.2 \tfalse: 18.3 \tdiff: -1.1\n",
      "\t\tOPENFACE sens: 33.5 \tfalse: 31.6 \tdiff: 1.9\n",
      "TESTING:  0.11 1000 175 ------\n",
      "\t\t   GLASS sens: 20.5 \tfalse: 2.8 \tdiff: 17.8\n",
      "\t\tOPENFACE sens: 38.4 \tfalse: 21.7 \tdiff: 16.6\n",
      "TESTING:  0.11 1100 175 ------\n",
      "\t\t   GLASS sens: 20.7 \tfalse: 1.8 \tdiff: 18.9\n",
      "\t\tOPENFACE sens: 39.7 \tfalse: 19.0 \tdiff: 20.8\n",
      "TESTING:  0.11 1300 175 ------\n",
      "\t\t   GLASS sens: 20.7 \tfalse: 1.8 \tdiff: 18.9\n",
      "\t\tOPENFACE sens: 40.5 \tfalse: 17.4 \tdiff: 23.1\n",
      "TESTING:  0.11 1400 175 ------\n",
      "\t\t   GLASS sens: 20.7 \tfalse: 1.8 \tdiff: 18.9\n",
      "\t\tOPENFACE sens: 41.3 \tfalse: 15.8 \tdiff: 25.5\n",
      "TESTING:  0.12 400 175 ------\n",
      "\t\t   GLASS sens: 7.4 \tfalse: 17.4 \tdiff: -10.0\n",
      "\t\tOPENFACE sens: 31.4 \tfalse: 36.0 \tdiff: -4.6 ++\n",
      "TESTING:  0.12 500 175 ------\n",
      "\t\t   GLASS sens: 7.9 \tfalse: 10.9 \tdiff: -2.9\n",
      "\t\tOPENFACE sens: 33.5 \tfalse: 31.6 \tdiff: 1.9\n",
      "TESTING:  0.12 1000 175 ------\n",
      "\t\t   GLASS sens: 8.9 \tfalse: 0.0 \tdiff: 8.9\n",
      "\t\tOPENFACE sens: 38.4 \tfalse: 21.7 \tdiff: 16.6\n",
      "TESTING:  0.12 1100 175 ------\n",
      "\t\t   GLASS sens: 8.9 \tfalse: 0.0 \tdiff: 8.9\n",
      "\t\tOPENFACE sens: 39.7 \tfalse: 19.0 \tdiff: 20.8\n",
      "TESTING:  0.12 1300 175 ------\n",
      "\t\t   GLASS sens: 8.9 \tfalse: 0.0 \tdiff: 8.9\n",
      "\t\tOPENFACE sens: 40.5 \tfalse: 17.4 \tdiff: 23.1\n",
      "TESTING:  0.12 1400 175 ------\n",
      "\t\t   GLASS sens: 8.9 \tfalse: 0.0 \tdiff: 8.9\n",
      "\t\tOPENFACE sens: 41.3 \tfalse: 15.8 \tdiff: 25.5\n",
      "TESTING:  0.13 400 175 ------\n",
      "\t\t   GLASS sens: 2.1 \tfalse: 21.4 \tdiff: -19.3\n",
      "\t\tOPENFACE sens: 31.4 \tfalse: 36.0 \tdiff: -4.6 ++\n",
      "TESTING:  0.13 500 175 ------\n",
      "\t\t   GLASS sens: 2.5 \tfalse: 7.1 \tdiff: -4.6\n",
      "\t\tOPENFACE sens: 33.5 \tfalse: 31.6 \tdiff: 1.9\n",
      "TESTING:  0.13 1000 175 ------\n",
      "\t\t   GLASS sens: 2.7 \tfalse: 0.0 \tdiff: 2.7\n",
      "\t\tOPENFACE sens: 38.4 \tfalse: 21.7 \tdiff: 16.6\n",
      "TESTING:  0.13 1100 175 ------\n",
      "\t\t   GLASS sens: 2.7 \tfalse: 0.0 \tdiff: 2.7\n",
      "\t\tOPENFACE sens: 39.7 \tfalse: 19.0 \tdiff: 20.8\n",
      "TESTING:  0.13 1300 175 ------\n",
      "\t\t   GLASS sens: 2.7 \tfalse: 0.0 \tdiff: 2.7\n",
      "\t\tOPENFACE sens: 40.5 \tfalse: 17.4 \tdiff: 23.1\n",
      "TESTING:  0.13 1400 175 ------\n",
      "\t\t   GLASS sens: 2.7 \tfalse: 0.0 \tdiff: 2.7\n",
      "\t\tOPENFACE sens: 41.3 \tfalse: 15.8 \tdiff: 25.5\n",
      "TESTING:  0.14 400 175 ------\n",
      "\t\t   GLASS sens: 0.8 \tfalse: 20.0 \tdiff: -19.2\n",
      "\t\tOPENFACE sens: 31.4 \tfalse: 36.0 \tdiff: -4.6 ++\n",
      "TESTING:  0.14 500 175 ------\n",
      "\t\t   GLASS sens: 0.8 \tfalse: 20.0 \tdiff: -19.2\n",
      "\t\tOPENFACE sens: 33.5 \tfalse: 31.6 \tdiff: 1.9\n",
      "TESTING:  0.14 1000 175 ------\n",
      "\t\t   GLASS sens: 1.0 \tfalse: 0.0 \tdiff: 1.0\n",
      "\t\tOPENFACE sens: 38.4 \tfalse: 21.7 \tdiff: 16.6\n",
      "TESTING:  0.14 1100 175 ------\n",
      "\t\t   GLASS sens: 1.0 \tfalse: 0.0 \tdiff: 1.0\n",
      "\t\tOPENFACE sens: 39.7 \tfalse: 19.0 \tdiff: 20.8\n",
      "TESTING:  0.14 1300 175 ------\n",
      "\t\t   GLASS sens: 1.0 \tfalse: 0.0 \tdiff: 1.0\n",
      "\t\tOPENFACE sens: 40.5 \tfalse: 17.4 \tdiff: 23.1\n",
      "TESTING:  0.14 1400 175 ------\n",
      "\t\t   GLASS sens: 1.0 \tfalse: 0.0 \tdiff: 1.0\n",
      "\t\tOPENFACE sens: 41.3 \tfalse: 15.8 \tdiff: 25.5\n",
      "TESTING:  0.15 400 175 ------\n",
      "\t\t   GLASS sens: 0.4 \tfalse: 33.3 \tdiff: -32.9\n",
      "\t\tOPENFACE sens: 31.4 \tfalse: 36.0 \tdiff: -4.6 ++\n",
      "TESTING:  0.15 500 175 ------\n",
      "\t\t   GLASS sens: 0.4 \tfalse: 33.3 \tdiff: -32.9\n",
      "\t\tOPENFACE sens: 33.5 \tfalse: 31.6 \tdiff: 1.9\n",
      "TESTING:  0.15 1000 175 ------\n",
      "\t\t   GLASS sens: 0.6 \tfalse: 0.0 \tdiff: 0.6\n",
      "\t\tOPENFACE sens: 38.4 \tfalse: 21.7 \tdiff: 16.6\n",
      "TESTING:  0.15 1100 175 ------\n",
      "\t\t   GLASS sens: 0.6 \tfalse: 0.0 \tdiff: 0.6\n",
      "\t\tOPENFACE sens: 39.7 \tfalse: 19.0 \tdiff: 20.8\n",
      "TESTING:  0.15 1300 175 ------\n",
      "\t\t   GLASS sens: 0.6 \tfalse: 0.0 \tdiff: 0.6\n",
      "\t\tOPENFACE sens: 40.5 \tfalse: 17.4 \tdiff: 23.1\n",
      "TESTING:  0.15 1400 175 ------\n",
      "\t\t   GLASS sens: 0.6 \tfalse: 0.0 \tdiff: 0.6\n",
      "\t\tOPENFACE sens: 41.3 \tfalse: 15.8 \tdiff: 25.5\n",
      "TESTING:  0.16 400 175 ------\n",
      "\t\t   GLASS sens: 0.4 \tfalse: 0.0 \tdiff: 0.4\n",
      "\t\tOPENFACE sens: 31.4 \tfalse: 36.0 \tdiff: -4.6 ++\n",
      "TESTING:  0.16 500 175 ------\n",
      "\t\t   GLASS sens: 0.4 \tfalse: 0.0 \tdiff: 0.4\n",
      "\t\tOPENFACE sens: 33.5 \tfalse: 31.6 \tdiff: 1.9\n",
      "TESTING:  0.16 1000 175 ------\n",
      "\t\t   GLASS sens: 0.4 \tfalse: 0.0 \tdiff: 0.4\n",
      "\t\tOPENFACE sens: 38.4 \tfalse: 21.7 \tdiff: 16.6\n",
      "TESTING:  0.16 1100 175 ------\n",
      "\t\t   GLASS sens: 0.4 \tfalse: 0.0 \tdiff: 0.4\n",
      "\t\tOPENFACE sens: 39.7 \tfalse: 19.0 \tdiff: 20.8\n",
      "TESTING:  0.16 1300 175 ------\n",
      "\t\t   GLASS sens: 0.4 \tfalse: 0.0 \tdiff: 0.4\n",
      "\t\tOPENFACE sens: 40.5 \tfalse: 17.4 \tdiff: 23.1\n",
      "TESTING:  0.16 1400 175 ------\n",
      "\t\t   GLASS sens: 0.4 \tfalse: 0.0 \tdiff: 0.4\n",
      "\t\tOPENFACE sens: 41.3 \tfalse: 15.8 \tdiff: 25.5\n",
      "TESTING:  0.035 400 300 ------\n",
      "\t\t   GLASS sens: 81.2 \tfalse: 27.6 \tdiff: 53.6\n",
      "\t\tOPENFACE sens: 31.4 \tfalse: 36.0 \tdiff: -4.6 ++\n",
      "TESTING:  0.035 500 300 ------\n",
      "\t\t   GLASS sens: 85.3 \tfalse: 24.0 \tdiff: 61.3\n",
      "\t\tOPENFACE sens: 33.5 \tfalse: 31.6 \tdiff: 1.9\n",
      "TESTING:  0.035 1000 300 ------\n",
      "\t\t   GLASS sens: 96.9 \tfalse: 13.6 \tdiff: 83.3 ++\n",
      "\t\tOPENFACE sens: 38.4 \tfalse: 21.7 \tdiff: 16.6\n",
      "\t\t                     \t             \t           ++++\n",
      "TESTING:  0.035 1100 300 ------\n"
     ]
    }
   ],
   "source": [
    "blink_sess = pickle.load(open('./cleaned_data/' + SESSION + '/sessions_blink.p', 'rb'))\n",
    "\n",
    "blink_durs = [175, 300]\n",
    "threshs = [0.035, 0.04, 0.05, 0.06, 0.07, 0.08, 0.09, 0.1, 0.11, 0.12, 0.13, 0.14, 0.15, 0.16]\n",
    "#threshs = [0.1, 0.12, 0.14, 0.16]\n",
    "margins = [400, 500, 1000, 1100, 1300, 1400]\n",
    "\n",
    "best_diff = 0\n",
    "worst_diff = 100\n",
    "combined_diff = 0\n",
    "\n",
    "for blink_dur, thresh, margin in itertools.product(blink_durs, threshs, margins):\n",
    "\n",
    "    print('TESTING: ',thresh, margin, blink_dur,'------')\n",
    "    \n",
    "    df_glasses_blinks = get_all_blink_sessions(blink_sess, thresh=thresh, blink_dur_ms=blink_dur, lpf_samples=100, dx_lpf_samples=50)\n",
    "    df_glasses_blinks['timestamp_ms'] = df_glasses_blinks['timestamp_ms'] + best_offset\n",
    "\n",
    "    glasses_blinks_during_handannotate_times = []\n",
    "    vblinks, ablinks = [], []\n",
    "    for i in hand_annotations:\n",
    "        glasses_blinks_during_handannotate_times.append(df_between_timestamps(df_glasses_blinks, \n",
    "                                                      'timestamp_ms', \n",
    "                                                      vid_meta_data['session_times'][i][0], \n",
    "                                                      vid_meta_data['session_times'][i][1]))\n",
    "\n",
    "        vblinks.extend(vid_meta_data['blink_timestamps_per_session'][i])\n",
    "        ablinks.extend(hand_annotations[i])\n",
    "\n",
    "    df_gblinks = pd.concat(glasses_blinks_during_handannotate_times)\n",
    "    gblinks = df_gblinks['timestamp_ms'].tolist()    \n",
    "    \n",
    "    r, _ = test_results(ablinks, gblinks, margin)\n",
    "    diff1 = (r['sensitivity']-r['false_discovery'])\n",
    "    if round(diff1*5) >= best_diff:\n",
    "        best_diff = round(diff1*5)\n",
    "        print('\\t\\t   GLASS sens: %2.1f \\tfalse: %2.1f \\tdiff: %2.1f ++'%(r['sensitivity'], r['false_discovery'], diff1))\n",
    "    else:\n",
    "        print('\\t\\t   GLASS sens: %2.1f \\tfalse: %2.1f \\tdiff: %2.1f'%(r['sensitivity'], r['false_discovery'], diff1))\n",
    "    r, _ = test_results(ablinks, vblinks, margin)\n",
    "    diff2 = (r['sensitivity']-r['false_discovery'])\n",
    "    if round(diff2*5) <= worst_diff:\n",
    "        worst_diff = round(diff2*5)\n",
    "        print('\\t\\tOPENFACE sens: %2.1f \\tfalse: %2.1f \\tdiff: %2.1f ++'%(r['sensitivity'], r['false_discovery'], diff2))\n",
    "    else:\n",
    "        print('\\t\\tOPENFACE sens: %2.1f \\tfalse: %2.1f \\tdiff: %2.1f'%(r['sensitivity'], r['false_discovery'], diff2))\n",
    "    if (diff1-diff2) >= combined_diff:\n",
    "        combined_diff = (diff1-diff2)\n",
    "        print('\\t\\t                     \\t             \\t           ++++')\n",
    "        "
   ]
  },
  {
   "cell_type": "markdown",
   "metadata": {},
   "source": [
    "# RUN TO HERE\n",
    "get best margin, blink_dur, and thresh"
   ]
  },
  {
   "cell_type": "code",
   "execution_count": 232,
   "metadata": {},
   "outputs": [],
   "source": [
    "BEST_MARGIN = 1400\n",
    "THRESH = 0.1\n",
    "BLINK_DUR = 300"
   ]
  },
  {
   "cell_type": "code",
   "execution_count": 233,
   "metadata": {},
   "outputs": [],
   "source": [
    "df_glasses_blinks = get_all_blink_sessions(blink_sess, thresh=THRESH, blink_dur_ms=BLINK_DUR)\n",
    "df_glasses_blinks['timestamp_ms'] = df_glasses_blinks['timestamp_ms'] + best_offset\n",
    "\n",
    "glasses_blinks_during_handannotate_times = []\n",
    "vblinks, ablinks = [], []\n",
    "for i in hand_annotations:\n",
    "    glasses_blinks_during_handannotate_times.append(df_between_timestamps(df_glasses_blinks, \n",
    "                                                  'timestamp_ms', \n",
    "                                                  vid_meta_data['session_times'][i][0], \n",
    "                                                  vid_meta_data['session_times'][i][1]))\n",
    "\n",
    "    vblinks.extend(vid_meta_data['blink_timestamps_per_session'][i])\n",
    "    ablinks.extend(hand_annotations[i])\n",
    "\n",
    "df_gblinks = pd.concat(glasses_blinks_during_handannotate_times)\n",
    "gblinks = df_gblinks['timestamp_ms'].tolist()"
   ]
  },
  {
   "cell_type": "code",
   "execution_count": 234,
   "metadata": {},
   "outputs": [
    {
     "name": "stdout",
     "output_type": "stream",
     "text": [
      "glasses:  {'true_pos': 263, 'real_pos': 364, 'false_pos': 91, 'sensitivity': 72.25274725274726, 'false_discovery': 25.70621468926554}\n",
      "openface: {'true_pos': 194, 'real_pos': 364, 'false_pos': 268, 'sensitivity': 53.2967032967033, 'false_discovery': 58.00865800865801}\n"
     ]
    }
   ],
   "source": [
    "#gblinks_debounce = debounce_data(gblinks)\n",
    "gresults, false_pos_times = test_results(ablinks, gblinks, BEST_MARGIN)\n",
    "print('glasses: ',gresults)\n",
    "\n",
    "vresults, _ = test_results(ablinks, vblinks, BEST_MARGIN)\n",
    "print('openface:',vresults)"
   ]
  },
  {
   "cell_type": "code",
   "execution_count": 235,
   "metadata": {},
   "outputs": [
    {
     "data": {
      "text/html": [
       "<div>\n",
       "<style scoped>\n",
       "    .dataframe tbody tr th:only-of-type {\n",
       "        vertical-align: middle;\n",
       "    }\n",
       "\n",
       "    .dataframe tbody tr th {\n",
       "        vertical-align: top;\n",
       "    }\n",
       "\n",
       "    .dataframe thead th {\n",
       "        text-align: right;\n",
       "    }\n",
       "</style>\n",
       "<table border=\"1\" class=\"dataframe\">\n",
       "  <thead>\n",
       "    <tr style=\"text-align: right;\">\n",
       "      <th></th>\n",
       "      <th>duration_ms</th>\n",
       "      <th>timestamp_ms</th>\n",
       "      <th>vel_close</th>\n",
       "      <th>vel_open</th>\n",
       "      <th>asym</th>\n",
       "      <th>weighted_asym</th>\n",
       "    </tr>\n",
       "  </thead>\n",
       "  <tbody>\n",
       "    <tr>\n",
       "      <th>273</th>\n",
       "      <td>134.000</td>\n",
       "      <td>1617381439468.000</td>\n",
       "      <td>0.151</td>\n",
       "      <td>0.112</td>\n",
       "      <td>0.039</td>\n",
       "      <td>0.148</td>\n",
       "    </tr>\n",
       "    <tr>\n",
       "      <th>274</th>\n",
       "      <td>158.000</td>\n",
       "      <td>1617381455715.000</td>\n",
       "      <td>0.170</td>\n",
       "      <td>0.104</td>\n",
       "      <td>0.066</td>\n",
       "      <td>0.242</td>\n",
       "    </tr>\n",
       "    <tr>\n",
       "      <th>275</th>\n",
       "      <td>162.000</td>\n",
       "      <td>1617381463516.000</td>\n",
       "      <td>0.178</td>\n",
       "      <td>0.090</td>\n",
       "      <td>0.087</td>\n",
       "      <td>0.326</td>\n",
       "    </tr>\n",
       "    <tr>\n",
       "      <th>276</th>\n",
       "      <td>109.000</td>\n",
       "      <td>1617381468017.000</td>\n",
       "      <td>0.141</td>\n",
       "      <td>0.115</td>\n",
       "      <td>0.027</td>\n",
       "      <td>0.104</td>\n",
       "    </tr>\n",
       "    <tr>\n",
       "      <th>277</th>\n",
       "      <td>155.000</td>\n",
       "      <td>1617381479391.000</td>\n",
       "      <td>0.173</td>\n",
       "      <td>0.086</td>\n",
       "      <td>0.087</td>\n",
       "      <td>0.338</td>\n",
       "    </tr>\n",
       "  </tbody>\n",
       "</table>\n",
       "</div>"
      ],
      "text/plain": [
       "     duration_ms      timestamp_ms  vel_close  vel_open  asym  weighted_asym\n",
       "273      134.000 1617381439468.000      0.151     0.112 0.039          0.148\n",
       "274      158.000 1617381455715.000      0.170     0.104 0.066          0.242\n",
       "275      162.000 1617381463516.000      0.178     0.090 0.087          0.326\n",
       "276      109.000 1617381468017.000      0.141     0.115 0.027          0.104\n",
       "277      155.000 1617381479391.000      0.173     0.086 0.087          0.338"
      ]
     },
     "execution_count": 235,
     "metadata": {},
     "output_type": "execute_result"
    }
   ],
   "source": [
    "df_gblinks['asym'] = df_gblinks['vel_close']-df_gblinks['vel_open']\n",
    "df_gblinks['weighted_asym'] = (df_gblinks['vel_close']-df_gblinks['vel_open'])/(df_gblinks['vel_close']+df_gblinks['vel_open'])\n",
    "\n",
    "df_gblinks.head()"
   ]
  },
  {
   "cell_type": "code",
   "execution_count": 236,
   "metadata": {},
   "outputs": [],
   "source": [
    "gblinks_success = df_gblinks[~df_gblinks['timestamp_ms'].isin(false_pos_times)]\n",
    "gblinks_failed  = df_gblinks[df_gblinks['timestamp_ms'].isin(false_pos_times)]"
   ]
  },
  {
   "cell_type": "code",
   "execution_count": 237,
   "metadata": {},
   "outputs": [
    {
     "name": "stdout",
     "output_type": "stream",
     "text": [
      "263\n",
      "91\n"
     ]
    }
   ],
   "source": [
    "print(len(gblinks_success))\n",
    "print(len(gblinks_failed))"
   ]
  },
  {
   "cell_type": "code",
   "execution_count": 238,
   "metadata": {},
   "outputs": [
    {
     "data": {
      "text/plain": [
       "<AxesSubplot:>"
      ]
     },
     "execution_count": 238,
     "metadata": {},
     "output_type": "execute_result"
    },
    {
     "data": {
      "image/png": "[encoded data removed]",
      "text/plain": [
       "<Figure size 432x288 with 1 Axes>"
      ]
     },
     "metadata": {
      "needs_background": "light"
     },
     "output_type": "display_data"
    }
   ],
   "source": [
    "gblinks_success['vel_open'].hist(bins=20)\n",
    "gblinks_failed['vel_open'].hist(bins=20,alpha=0.5)"
   ]
  },
  {
   "cell_type": "code",
   "execution_count": 239,
   "metadata": {},
   "outputs": [
    {
     "data": {
      "text/plain": [
       "<AxesSubplot:>"
      ]
     },
     "execution_count": 239,
     "metadata": {},
     "output_type": "execute_result"
    },
    {
     "data": {
      "image/png": "[encoded data removed]",
      "text/plain": [
       "<Figure size 432x288 with 1 Axes>"
      ]
     },
     "metadata": {
      "needs_background": "light"
     },
     "output_type": "display_data"
    }
   ],
   "source": [
    "gblinks_success['vel_close'].hist(bins=20)\n",
    "gblinks_failed['vel_close'].hist(bins=20,alpha=0.5)"
   ]
  },
  {
   "cell_type": "code",
   "execution_count": 240,
   "metadata": {},
   "outputs": [
    {
     "data": {
      "text/plain": [
       "<AxesSubplot:>"
      ]
     },
     "execution_count": 240,
     "metadata": {},
     "output_type": "execute_result"
    },
    {
     "data": {
      "image/png": "[encoded data removed]",
      "text/plain": [
       "<Figure size 432x288 with 1 Axes>"
      ]
     },
     "metadata": {
      "needs_background": "light"
     },
     "output_type": "display_data"
    }
   ],
   "source": [
    "gblinks_success['duration_ms'].hist(bins=20)\n",
    "gblinks_failed['duration_ms'].hist(bins=20,alpha=0.5)"
   ]
  },
  {
   "cell_type": "code",
   "execution_count": 241,
   "metadata": {},
   "outputs": [
    {
     "data": {
      "text/plain": [
       "<AxesSubplot:>"
      ]
     },
     "execution_count": 241,
     "metadata": {},
     "output_type": "execute_result"
    },
    {
     "data": {
      "image/png": "[encoded data removed]",
      "text/plain": [
       "<Figure size 432x288 with 1 Axes>"
      ]
     },
     "metadata": {
      "needs_background": "light"
     },
     "output_type": "display_data"
    }
   ],
   "source": [
    "gblinks_success['asym'].hist(bins=20)\n",
    "gblinks_failed['asym'].hist(bins=20, alpha=0.5)"
   ]
  },
  {
   "cell_type": "code",
   "execution_count": 242,
   "metadata": {},
   "outputs": [
    {
     "data": {
      "text/plain": [
       "<AxesSubplot:>"
      ]
     },
     "execution_count": 242,
     "metadata": {},
     "output_type": "execute_result"
    },
    {
     "data": {
      "image/png": "[encoded data removed]",
      "text/plain": [
       "<Figure size 432x288 with 1 Axes>"
      ]
     },
     "metadata": {
      "needs_background": "light"
     },
     "output_type": "display_data"
    }
   ],
   "source": [
    "gblinks_success['weighted_asym'].hist(bins=20)\n",
    "gblinks_failed['weighted_asym'].hist(bins=20, alpha=0.5)"
   ]
  },
  {
   "cell_type": "code",
   "execution_count": 243,
   "metadata": {},
   "outputs": [
    {
     "name": "stdout",
     "output_type": "stream",
     "text": [
      "filtered out 66 results\n",
      "original glasses:  {'true_pos': 263, 'real_pos': 364, 'false_pos': 91, 'sensitivity': 72.25274725274726, 'false_discovery': 25.70621468926554}\n",
      "filtered glasses:  {'true_pos': 232, 'real_pos': 364, 'false_pos': 56, 'sensitivity': 63.73626373626373, 'false_discovery': 19.444444444444446}\n",
      "filtered glasses:  {'true_pos': 263, 'real_pos': 364, 'false_pos': 89, 'sensitivity': 72.25274725274726, 'false_discovery': 25.28409090909091}\n"
     ]
    }
   ],
   "source": [
    "#lets filter our blink list by IF vel_close < 0.12 and/or vel_open < 0.05 and retest\n",
    "gblinks = df_gblinks['timestamp_ms'].tolist()\n",
    "#gblinks_filtered1 = df_gblinks[(df_gblinks['vel_open'] > 0.05) & (df_gblinks['vel_close'] > 0.12)]['timestamp_ms'].tolist()\n",
    "#gblinks_filtered2 = df_gblinks[(df_gblinks['vel_open'] > 0.05) | (df_gblinks['vel_close'] > 0.12)]['timestamp_ms'].tolist()\n",
    "gblinks_filtered1 = df_gblinks[(df_gblinks['weighted_asym'] < 0.5) & (df_gblinks['weighted_asym'] > 0.0)]['timestamp_ms'].tolist()\n",
    "gblinks_filtered2 = df_gblinks[(df_gblinks['duration_ms'] > 50) & (df_gblinks['vel_open'] < 0.4) & (df_gblinks['vel_close'] < 0.4)]['timestamp_ms'].tolist()\n",
    "\n",
    "\n",
    "\n",
    "\n",
    "print('filtered out', len(gblinks)-len(gblinks_filtered1),'results')\n",
    "gresults, false_pos_times = test_results(ablinks, gblinks, BEST_MARGIN)\n",
    "\n",
    "print('original glasses: ',gresults)\n",
    "gresults, false_pos_times = test_results(ablinks, gblinks_filtered1, BEST_MARGIN)\n",
    "print('filtered glasses: ',gresults)\n",
    "gresults, false_pos_times = test_results(ablinks, gblinks_filtered2, BEST_MARGIN)\n",
    "print('filtered glasses: ',gresults)"
   ]
  },
  {
   "cell_type": "code",
   "execution_count": 244,
   "metadata": {},
   "outputs": [
    {
     "name": "stdout",
     "output_type": "stream",
     "text": [
      "filtered out 18 results\n",
      "original glasses:  {'true_pos': 263, 'real_pos': 364, 'false_pos': 91, 'sensitivity': 72.25274725274726, 'false_discovery': 25.70621468926554}\n",
      "filtered glasses:  {'true_pos': 253, 'real_pos': 364, 'false_pos': 83, 'sensitivity': 69.5054945054945, 'false_discovery': 24.702380952380953}\n"
     ]
    }
   ],
   "source": [
    "gblinks = df_gblinks['timestamp_ms'].tolist()\n",
    "gblinks_filtered1 = df_gblinks[(df_gblinks['vel_open'] > 0.05) | (df_gblinks['vel_close'] > 0.12)]['timestamp_ms'].tolist()\n",
    "#gblinks_filtered2 = df_gblinks[((df_gblinks['vel_open'] > 0.06) | (df_gblinks['vel_close'] > 0.12)) & (df_gblinks['rotation_magnitude'] < 0.05)]['timestamp_ms'].tolist()\n",
    "\n",
    "\n",
    "print('filtered out', len(gblinks)-len(gblinks_filtered1),'results')\n",
    "gresults, false_pos_times = test_results(ablinks, gblinks, BEST_MARGIN)\n",
    "\n",
    "print('original glasses: ',gresults)\n",
    "gresults, false_pos_times = test_results(ablinks, gblinks_filtered1, BEST_MARGIN)\n",
    "print('filtered glasses: ',gresults)\n",
    "#gresults, false_pos_times = test_results(ablinks, gblinks_filtered2, BEST_MARGIN)\n",
    "#print('filtered glasses: ',gresults)"
   ]
  },
  {
   "cell_type": "code",
   "execution_count": 245,
   "metadata": {},
   "outputs": [
    {
     "name": "stdout",
     "output_type": "stream",
     "text": [
      "{'openface': {'true_pos': 194, 'real_pos': 364, 'false_pos': 268, 'sensitivity': 53.2967032967033, 'false_discovery': 58.00865800865801}, 'glasses': {'true_pos': 263, 'real_pos': 364, 'false_pos': 91, 'sensitivity': 72.25274725274726, 'false_discovery': 25.70621468926554}, 'glasses_filtered': {'true_pos': 253, 'real_pos': 364, 'false_pos': 83, 'sensitivity': 69.5054945054945, 'false_discovery': 24.702380952380953}}\n"
     ]
    }
   ],
   "source": [
    "#lets save our results!\n",
    "final_results = {}\n",
    "\n",
    "vblinks = []\n",
    "for i in hand_annotations: vblinks.extend(vid_meta_data['blink_timestamps_per_session'][i])\n",
    "vresults, _ = test_results(ablinks, vblinks, BEST_MARGIN)\n",
    "final_results['openface'] = vresults\n",
    "\n",
    "gblinks = df_gblinks['timestamp_ms'].tolist()\n",
    "gresults, _ = test_results(ablinks, gblinks, BEST_MARGIN)\n",
    "final_results['glasses'] = gresults\n",
    "\n",
    "gblinks_filtered = df_gblinks[(df_gblinks['vel_open'] > 0.05) | (df_gblinks['vel_close'] > 0.12)]['timestamp_ms'].tolist()\n",
    "gresults, _ = test_results(ablinks, gblinks_filtered, BEST_MARGIN)\n",
    "final_results['glasses_filtered'] = gresults\n",
    "\n",
    "print(final_results)"
   ]
  },
  {
   "cell_type": "code",
   "execution_count": 246,
   "metadata": {},
   "outputs": [],
   "source": [
    "final_results['best_margin'] = BEST_MARGIN\n",
    "final_results['applied_thresh'] = THRESH\n",
    "pickle.dump(final_results, open( './cleaned_data/' + SESSION + '/final_results_handtuned.p', \"wb\" ))"
   ]
  },
  {
   "cell_type": "code",
   "execution_count": null,
   "metadata": {},
   "outputs": [],
   "source": [
    "#irmandy with 50/25, beata with 100/50"
   ]
  }
 ],
 "metadata": {
  "kernelspec": {
   "display_name": "Python 3",
   "language": "python",
   "name": "python3"
  },
  "language_info": {
   "codemirror_mode": {
    "name": "ipython",
    "version": 3
   },
   "file_extension": ".py",
   "mimetype": "text/x-python",
   "name": "python",
   "nbconvert_exporter": "python",
   "pygments_lexer": "ipython3",
   "version": "3.9.4"
  }
 },
 "nbformat": 4,
 "nbformat_minor": 2
}
