{
 "cells": [
  {
   "cell_type": "code",
   "execution_count": 1,
   "metadata": {},
   "outputs": [],
   "source": [
    "import json\n",
    "from datetime import datetime , timezone\n",
    "import time\n",
    "import numpy as np\n",
    "import codecs\n",
    "import struct\n",
    "import matplotlib.pyplot as plt\n",
    "import pandas as pd\n",
    "import pickle\n",
    "import pycorrelate\n",
    "import collections\n",
    "import itertools\n",
    "from mpl_toolkits import mplot3d\n",
    "import cv2\n",
    "import imutils\n",
    "import os\n",
    "\n",
    "pd.set_option('display.max_rows', 1000)\n",
    "%matplotlib inline"
   ]
  },
  {
   "cell_type": "markdown",
   "metadata": {},
   "source": [
    "### 1. Pick a session to work with!"
   ]
  },
  {
   "cell_type": "code",
   "execution_count": 2,
   "metadata": {},
   "outputs": [
    {
     "name": "stdout",
     "output_type": "stream",
     "text": [
      "Please Choose a Session to Work With:\n",
      "david_2,  patrick_1,  patrick_2,  beata_1,  david_3b,  irmandy_1,  juliana_1,  irmandy_2,  patrick_3,  "
     ]
    }
   ],
   "source": [
    "metadata = pickle.load(open('./cleaned_data/metadata.p', 'rb'))\n",
    "print('Please Choose a Session to Work With:')\n",
    "for k in metadata: print(k, end=',  ')"
   ]
  },
  {
   "cell_type": "code",
   "execution_count": 3,
   "metadata": {},
   "outputs": [],
   "source": [
    "SESSION = 'patrick_3'"
   ]
  },
  {
   "cell_type": "markdown",
   "metadata": {},
   "source": [
    "let's print some basic summary statistics based on the metadata for this session:"
   ]
  },
  {
   "cell_type": "code",
   "execution_count": 4,
   "metadata": {},
   "outputs": [
    {
     "name": "stdout",
     "output_type": "stream",
     "text": [
      "patrick_3 on 04/28\n",
      "----------\n",
      "04:25 hr of glassess data starting at 04/28/21 01:10:27PM EDT\n",
      "04:26 hr of    video data starting at 04/28/21 01:10:00PM EDT\n",
      "----------\n",
      "glasses sessions:\n",
      "session 0: 04/28/21 01:10:27PM EDT to 04/28/21 05:35:58PM EDT \tduration:  265.52 min\n"
     ]
    }
   ],
   "source": [
    "s_meta = metadata[SESSION]\n",
    "\n",
    "try:\n",
    "    print(SESSION, 'on', s_meta['date'])\n",
    "    print('-'*10)\n",
    "    print(s_meta['glasses_sessions_total_duration_string'], 'hr of glassess data starting at', \\\n",
    "          s_meta['glasses_session_times'][0][0])\n",
    "    print('%02d:%02d hr of    video data starting at ' % (s_meta['vid_duration_sec'] / 60 // 60, \n",
    "           s_meta['vid_duration_sec'] / 60 % 60 )  + s_meta['vid_start'])\n",
    "    print('-'*10)\n",
    "    print('glasses sessions:')\n",
    "    for i in range(len(s_meta['glasses_session_times'])):\n",
    "        print('session ' + str(i) + ':',s_meta['glasses_session_times'][i][0],'to',\\\n",
    "              s_meta['glasses_session_times'][i][1],'\\tduration:%8.2f min' % s_meta['glasses_session_durations_min'][i])\n",
    "except:\n",
    "    print('failed to load video analysis file.')"
   ]
  },
  {
   "cell_type": "markdown",
   "metadata": {},
   "source": [
    "### Load the Data\n",
    "...and let's load in the data, and plot what we have just to take a look, by session"
   ]
  },
  {
   "cell_type": "code",
   "execution_count": 5,
   "metadata": {},
   "outputs": [
    {
     "name": "stderr",
     "output_type": "stream",
     "text": [
      "/usr/local/lib/python3.9/site-packages/IPython/core/interactiveshell.py:3165: DtypeWarning: Columns (6,7,8) have mixed types.Specify dtype option on import or set low_memory=False.\n",
      "  has_raised = await self.run_ast_nodes(code_ast.body, cell_name,\n"
     ]
    }
   ],
   "source": [
    "#load video data (eyeratio and openface features), 60 Hz (16 ms between samples)\n",
    "df_vid = pd.read_csv('./cleaned_data/' + SESSION + '/video_consolidated.csv', index_col=0)\n",
    "\n",
    "#load glasses blink data, 1kHz (1 ms between samples)\n",
    "blink_sess = pickle.load(open('./cleaned_data/' + SESSION + '/sessions_blink.p', 'rb'))\n",
    "\n",
    "#load glasses accel data, 10 Hz (100 ms between samples)\n",
    "accel_sess = pickle.load(open('./cleaned_data/' + SESSION + '/sessions_accel.p', 'rb'))\n",
    "\n",
    "# give some stupid FutureWarning error thanks to pandas and numpy not being in sync.\n",
    "# https://stackoverflow.com/questions/48818335/why-pandas-read-csv-issues-this-warning-elementwise-comparison-failed"
   ]
  },
  {
   "cell_type": "code",
   "execution_count": 6,
   "metadata": {},
   "outputs": [
    {
     "data": {
      "text/html": [
       "<div>\n",
       "<style scoped>\n",
       "    .dataframe tbody tr th:only-of-type {\n",
       "        vertical-align: middle;\n",
       "    }\n",
       "\n",
       "    .dataframe tbody tr th {\n",
       "        vertical-align: top;\n",
       "    }\n",
       "\n",
       "    .dataframe thead th {\n",
       "        text-align: right;\n",
       "    }\n",
       "</style>\n",
       "<table border=\"1\" class=\"dataframe\">\n",
       "  <thead>\n",
       "    <tr style=\"text-align: right;\">\n",
       "      <th></th>\n",
       "      <th>index_x</th>\n",
       "      <th>eye_ratio</th>\n",
       "      <th>index_y</th>\n",
       "      <th>AU45_r</th>\n",
       "      <th>AU45_c</th>\n",
       "      <th>pose_Rx</th>\n",
       "      <th>pose_Ry</th>\n",
       "      <th>pose_Rz</th>\n",
       "      <th>pose_Tx</th>\n",
       "      <th>pose_Ty</th>\n",
       "      <th>pose_Tz</th>\n",
       "      <th>success</th>\n",
       "      <th>confidence</th>\n",
       "      <th>tick_ms</th>\n",
       "      <th>est_timestamp_ms</th>\n",
       "    </tr>\n",
       "  </thead>\n",
       "  <tbody>\n",
       "    <tr>\n",
       "      <th>0</th>\n",
       "      <td>0</td>\n",
       "      <td>NaN</td>\n",
       "      <td>0</td>\n",
       "      <td>0.0</td>\n",
       "      <td>0.0</td>\n",
       "      <td>-0.456</td>\n",
       "      <td>0.494</td>\n",
       "      <td>-0.023</td>\n",
       "      <td>-20929110.0</td>\n",
       "      <td>-11772625.0</td>\n",
       "      <td>28614018.0</td>\n",
       "      <td>0</td>\n",
       "      <td>0.0</td>\n",
       "      <td>0</td>\n",
       "      <td>1619629800000</td>\n",
       "    </tr>\n",
       "    <tr>\n",
       "      <th>1</th>\n",
       "      <td>1</td>\n",
       "      <td>NaN</td>\n",
       "      <td>1</td>\n",
       "      <td>0.0</td>\n",
       "      <td>0.0</td>\n",
       "      <td>-0.456</td>\n",
       "      <td>0.494</td>\n",
       "      <td>-0.023</td>\n",
       "      <td>-20929110.0</td>\n",
       "      <td>-11772625.0</td>\n",
       "      <td>28614018.0</td>\n",
       "      <td>0</td>\n",
       "      <td>0.0</td>\n",
       "      <td>17</td>\n",
       "      <td>1619629800017</td>\n",
       "    </tr>\n",
       "    <tr>\n",
       "      <th>2</th>\n",
       "      <td>2</td>\n",
       "      <td>NaN</td>\n",
       "      <td>2</td>\n",
       "      <td>0.0</td>\n",
       "      <td>0.0</td>\n",
       "      <td>-0.456</td>\n",
       "      <td>0.494</td>\n",
       "      <td>-0.023</td>\n",
       "      <td>-20929110.0</td>\n",
       "      <td>-11772625.0</td>\n",
       "      <td>28614018.0</td>\n",
       "      <td>0</td>\n",
       "      <td>0.0</td>\n",
       "      <td>33</td>\n",
       "      <td>1619629800033</td>\n",
       "    </tr>\n",
       "    <tr>\n",
       "      <th>3</th>\n",
       "      <td>3</td>\n",
       "      <td>NaN</td>\n",
       "      <td>3</td>\n",
       "      <td>0.0</td>\n",
       "      <td>0.0</td>\n",
       "      <td>-0.456</td>\n",
       "      <td>0.494</td>\n",
       "      <td>-0.023</td>\n",
       "      <td>-20929110.0</td>\n",
       "      <td>-11772625.0</td>\n",
       "      <td>28614018.0</td>\n",
       "      <td>0</td>\n",
       "      <td>0.0</td>\n",
       "      <td>50</td>\n",
       "      <td>1619629800050</td>\n",
       "    </tr>\n",
       "    <tr>\n",
       "      <th>4</th>\n",
       "      <td>4</td>\n",
       "      <td>NaN</td>\n",
       "      <td>4</td>\n",
       "      <td>0.0</td>\n",
       "      <td>0.0</td>\n",
       "      <td>-0.456</td>\n",
       "      <td>0.494</td>\n",
       "      <td>-0.023</td>\n",
       "      <td>-20929110.0</td>\n",
       "      <td>-11772625.0</td>\n",
       "      <td>28614018.0</td>\n",
       "      <td>0</td>\n",
       "      <td>0.0</td>\n",
       "      <td>67</td>\n",
       "      <td>1619629800067</td>\n",
       "    </tr>\n",
       "  </tbody>\n",
       "</table>\n",
       "</div>"
      ],
      "text/plain": [
       "   index_x  eye_ratio  index_y  AU45_r  AU45_c pose_Rx pose_Ry pose_Rz  \\\n",
       "0        0        NaN        0     0.0     0.0  -0.456   0.494  -0.023   \n",
       "1        1        NaN        1     0.0     0.0  -0.456   0.494  -0.023   \n",
       "2        2        NaN        2     0.0     0.0  -0.456   0.494  -0.023   \n",
       "3        3        NaN        3     0.0     0.0  -0.456   0.494  -0.023   \n",
       "4        4        NaN        4     0.0     0.0  -0.456   0.494  -0.023   \n",
       "\n",
       "      pose_Tx     pose_Ty     pose_Tz  success  confidence  tick_ms  \\\n",
       "0 -20929110.0 -11772625.0  28614018.0        0         0.0        0   \n",
       "1 -20929110.0 -11772625.0  28614018.0        0         0.0       17   \n",
       "2 -20929110.0 -11772625.0  28614018.0        0         0.0       33   \n",
       "3 -20929110.0 -11772625.0  28614018.0        0         0.0       50   \n",
       "4 -20929110.0 -11772625.0  28614018.0        0         0.0       67   \n",
       "\n",
       "   est_timestamp_ms  \n",
       "0     1619629800000  \n",
       "1     1619629800017  \n",
       "2     1619629800033  \n",
       "3     1619629800050  \n",
       "4     1619629800067  "
      ]
     },
     "execution_count": 6,
     "metadata": {},
     "output_type": "execute_result"
    }
   ],
   "source": [
    "df_vid.head()"
   ]
  },
  {
   "cell_type": "code",
   "execution_count": 7,
   "metadata": {},
   "outputs": [],
   "source": [
    "#STREAM A SECTION OF VIDEO WITH A DF OVERLAY OF BLINK TIMES\n",
    "\n",
    "#show video with overlay of a df with timestamps and an offset so we can manually check blink alignment of both the video DF and our video analysis DF\n",
    "#above we were aligning the video to the glasses; here we'll align our glasses to the video\n",
    "\n",
    "#lets just do everything in minutes like we were doing in the above\n",
    "def stream_with_blink_data_overlay(video_filename, frame_data, start_frame, end_frame):\n",
    "\n",
    "    WINDOW_NAME = 'blink_window'\n",
    "    cv2.namedWindow(WINDOW_NAME, cv2.WINDOW_AUTOSIZE)\n",
    "    cv2.startWindowThread()\n",
    "    \n",
    "    vs = cv2.VideoCapture(video_filename)\n",
    "    vs.set(cv2.CAP_PROP_POS_FRAMES, start_frame)\n",
    "    time.sleep(1.0)\n",
    "    \n",
    "    print(frame_data)\n",
    "    \n",
    "    blink_count, prev_frame = 0,0\n",
    "    \n",
    "    for fno in range(0, end_frame-start_frame):\n",
    "        _, frame = vs.read()  \n",
    "        \n",
    "        if not fno:\n",
    "            os.system('''/usr/bin/osascript -e 'tell app \"Finder\" to set frontmost of process \"Python\" to true' ''') \n",
    "    \n",
    "        if frame_data[start_frame+fno] and not prev_frame:\n",
    "            blink_count += 1\n",
    "            \n",
    "        \n",
    "        cv2.putText(frame, \"COUNT: %d\"%(blink_count), (20, 30),\n",
    "            cv2.FONT_HERSHEY_SIMPLEX, 0.7, (0, 0, 255), 2)\n",
    "       \n",
    "        if frame_data[start_frame+fno]:\n",
    "            cv2.putText(frame, \"BLINKING NOW!!!!!!\", (300, 30),\n",
    "                cv2.FONT_HERSHEY_SIMPLEX, 0.7, (0, 0, 255), 2)\n",
    "\n",
    "        # show the frame\n",
    "        cv2.imshow(WINDOW_NAME, frame)\n",
    "        key = cv2.waitKey(1) & 0xFF\n",
    "\n",
    "        prev_frame = frame_data[start_frame+fno]\n",
    "        \n",
    "        # if the `q` key was pressed, break from the loop\n",
    "        if key == ord(\"q\"):\n",
    "            break\n",
    "\n",
    "    # do a bit of cleanup\n",
    "    cv2.waitKey(1)\n",
    "    cv2.destroyAllWindows()\n",
    "    cv2.waitKey(1)\n",
    "    os.system('''/usr/bin/osascript -e 'tell app \"Finder\" to set frontmost of process \"Chrome\" to true' ''') \n"
   ]
  },
  {
   "cell_type": "code",
   "execution_count": 8,
   "metadata": {},
   "outputs": [
    {
     "data": {
      "image/png": "[encoded data removed]",
      "text/plain": [
       "<Figure size 1440x288 with 1 Axes>"
      ]
     },
     "metadata": {
      "needs_background": "light"
     },
     "output_type": "display_data"
    },
    {
     "name": "stdout",
     "output_type": "stream",
     "text": [
      "254023    1.0\n",
      "254024    1.0\n",
      "254025    1.0\n",
      "254026    1.0\n",
      "254027    1.0\n",
      "         ... \n",
      "257618    0.0\n",
      "257619    0.0\n",
      "257620    0.0\n",
      "257621    0.0\n",
      "257622    0.0\n",
      "Name: AU45_c, Length: 3600, dtype: float64\n"
     ]
    }
   ],
   "source": [
    "start_frame = 254023\n",
    "dur_min = 1\n",
    "\n",
    "fig, ax = plt.subplots(figsize=(20,4))\n",
    "plt.plot(df_vid['AU45_c'].iloc[start_frame:start_frame+60*60*dur_min])\n",
    "plt.show()\n",
    "\n",
    "stream_with_blink_data_overlay('/Volumes/ExtDrive_(ResEnv)/data_cap_val_2/' + SESSION + '/video_crop_1.mp4',  #/openface/video_adobe.mp4\n",
    "                               df_vid['AU45_c'].iloc[start_frame:start_frame+60*60*dur_min], \n",
    "                               start_frame, \n",
    "                               start_frame+60*60*dur_min) #one min\n"
   ]
  },
  {
   "cell_type": "code",
   "execution_count": 9,
   "metadata": {},
   "outputs": [
    {
     "data": {
      "image/png": "[encoded data removed]",
      "text/plain": [
       "<Figure size 1440x288 with 1 Axes>"
      ]
     },
     "metadata": {
      "needs_background": "light"
     },
     "output_type": "display_data"
    },
    {
     "name": "stdout",
     "output_type": "stream",
     "text": [
      "254023    0.0\n",
      "254024    1.0\n",
      "254025    1.0\n",
      "254026    1.0\n",
      "254027    1.0\n",
      "         ... \n",
      "257618    0.0\n",
      "257619    0.0\n",
      "257620    0.0\n",
      "257621    0.0\n",
      "257622    0.0\n",
      "Length: 3600, dtype: float64\n"
     ]
    }
   ],
   "source": [
    "#change it to rising edge and blink_dur\n",
    "blinksig = df_vid['AU45_c'].iloc[start_frame:start_frame+60*60*dur_min].values\n",
    "prev = 0\n",
    "\n",
    "blink_dur_frames = 12\n",
    "\n",
    "final_blinksig = np.zeros(len(blinksig))\n",
    "for i in range(1, len(blinksig)):\n",
    "    if blinksig[i] and not prev:\n",
    "        final_blinksig[i-1] = 0\n",
    "        \n",
    "        if i+blink_dur_frames > len(blinksig):\n",
    "            final_blinksig[i:-1] = 1\n",
    "        else:\n",
    "            final_blinksig[i:i+blink_dur_frames] = 1\n",
    "        \n",
    "    prev= blinksig[i]\n",
    "        \n",
    "df_final_blinksig = pd.Series(data=final_blinksig, index=range(start_frame,start_frame+60*60*dur_min))\n",
    "\n",
    "df_final_blinksig[254023]\n",
    "fig, ax = plt.subplots(figsize=(20,4))\n",
    "plt.plot(df_vid['AU45_c'].iloc[start_frame:start_frame+60*60*dur_min])\n",
    "plt.plot(df_final_blinksig*.8)\n",
    "plt.show()\n",
    "\n",
    "\n",
    "stream_with_blink_data_overlay('/Volumes/ExtDrive_(ResEnv)/data_cap_val_2/' + SESSION + '/video_crop_1.mp4',  #/openface/video_adobe.mp4\n",
    "                               df_final_blinksig, \n",
    "                               start_frame, \n",
    "                               start_frame+60*60*dur_min) #one min\n"
   ]
  },
  {
   "cell_type": "code",
   "execution_count": 12,
   "metadata": {},
   "outputs": [
    {
     "name": "stdout",
     "output_type": "stream",
     "text": [
      "index_x                     14571\n",
      "eye_ratio                0.002575\n",
      "index_y                    254023\n",
      "AU45_r                       1.07\n",
      "AU45_c                        1.0\n",
      "pose_Rx                    -0.104\n",
      "pose_Ry                       0.3\n",
      "pose_Rz                    -0.124\n",
      "pose_Tx                      14.0\n",
      "pose_Ty                      -8.8\n",
      "pose_Tz                     499.9\n",
      "success                         1\n",
      "confidence                   0.98\n",
      "tick_ms                   4237950\n",
      "est_timestamp_ms    1619634037950\n",
      "Name: 254023, dtype: object\n",
      "1619629800000\n"
     ]
    }
   ],
   "source": [
    "print(df_vid.iloc[start_frame])\n",
    "print(df_vid['est_timestamp_ms'].iloc[0])"
   ]
  },
  {
   "cell_type": "code",
   "execution_count": null,
   "metadata": {},
   "outputs": [],
   "source": [
    "#the above starts at timestamp 1619634037950\n",
    "#the vid starttime is timestamp 1619629800000\n",
    "#it lasts one min, and uses a blink duration of 0.2s"
   ]
  },
  {
   "cell_type": "code",
   "execution_count": 2,
   "metadata": {},
   "outputs": [
    {
     "name": "stdout",
     "output_type": "stream",
     "text": [
      "frame time is 1619634037950 based on what we've saved\n",
      "frame time should be: 1619634033716.6667 based on calculated frame number\n",
      "difference of  4233.333251953125\n"
     ]
    }
   ],
   "source": [
    "#something is amiss with our other code -- the timing is off significantly\n",
    "#does this have to do with using timestamps instead of frame indices?\n",
    "\n",
    "fps = 60\n",
    "start_time = 1619629800000\n",
    "frame_num = 254023\n",
    "print('frame time is 1619634037950 based on what we\\'ve saved')\n",
    "print('frame time should be:', start_time+(frame_num/60*1000), 'based on calculated frame number')\n",
    "print('difference of ', 1619634037950 - (start_time+(frame_num/60*1000)))"
   ]
  },
  {
   "cell_type": "code",
   "execution_count": 3,
   "metadata": {},
   "outputs": [
    {
     "name": "stdout",
     "output_type": "stream",
     "text": [
      "effective FPS based on the timestamp: 59.94006536179049\n"
     ]
    }
   ],
   "source": [
    "#what is the effective sample rate if we trust the timestamps instead of using FPS?\n",
    "print('effective FPS based on the timestamp:', frame_num/((1619634037950-start_time)/1000))"
   ]
  },
  {
   "cell_type": "code",
   "execution_count": 4,
   "metadata": {},
   "outputs": [
    {
     "name": "stdout",
     "output_type": "stream",
     "text": [
      "frame time is 1619634037950 based on what we've saved\n",
      "frame time should be: 1619634037954.6213 based on calculated frame number\n",
      "difference of  -4.621337890625\n"
     ]
    }
   ],
   "source": [
    "#F**k me the actual framerate is 59.94\n",
    "\n",
    "fps = 59.94\n",
    "start_time = 1619629800000\n",
    "frame_num = 254023\n",
    "print('frame time is 1619634037950 based on what we\\'ve saved')\n",
    "print('frame time should be:', start_time+(frame_num/fps*1000), 'based on calculated frame number')\n",
    "print('difference of ', 1619634037950 - (start_time+(frame_num/fps*1000)))\n"
   ]
  },
  {
   "cell_type": "code",
   "execution_count": null,
   "metadata": {},
   "outputs": [],
   "source": []
  }
 ],
 "metadata": {
  "kernelspec": {
   "display_name": "Python 3",
   "language": "python",
   "name": "python3"
  },
  "language_info": {
   "codemirror_mode": {
    "name": "ipython",
    "version": 3
   },
   "file_extension": ".py",
   "mimetype": "text/x-python",
   "name": "python",
   "nbconvert_exporter": "python",
   "pygments_lexer": "ipython3",
   "version": "3.9.4"
  }
 },
 "nbformat": 4,
 "nbformat_minor": 2
}
