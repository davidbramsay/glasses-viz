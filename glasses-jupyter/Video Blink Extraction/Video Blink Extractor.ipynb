{
 "cells": [
  {
   "cell_type": "code",
   "execution_count": 1,
   "metadata": {},
   "outputs": [],
   "source": [
    "# import the necessary packages\n",
    "from scipy.spatial import distance as dist\n",
    "from imutils.video import FileVideoStream\n",
    "from imutils.video import VideoStream\n",
    "from imutils import face_utils\n",
    "import matplotlib.pyplot as plt\n",
    "import numpy as np\n",
    "import pandas as pd\n",
    "import imutils\n",
    "import time\n",
    "import dlib\n",
    "import cv2\n",
    "\n",
    "%matplotlib inline"
   ]
  },
  {
   "cell_type": "code",
   "execution_count": 2,
   "metadata": {},
   "outputs": [],
   "source": [
    "#blink detection: https://github.com/rishikksh20/Liveness-Detection/blob/master/detect_blinks.py\n",
    "\n",
    "#seems we're using ./build/bin/FeatureExtraction -f ~/projects/behAV_example/jimcarrey.mp4 -out_dir ~/projects/behAV_example/data -of jimcarrey_of\n",
    "\n",
    "#Patrick's script:\n",
    "#concat gopro vids first\n",
    "#> ls *.MP4 | sed \"s/^/file '/g; s/$/'/g\" > filelist.txt\n",
    "#> ffmpeg -f concat -safe 0 -i filelist.txt -c copy video.mp4\n",
    "#OpenFace to output only csv file (saves space and time)\n",
    "#> FeatureExtraction.exe -f \"E:\\data_cap_val_2\\patrick_1\\GoPro\\video.mp4\" -2Dfp -3Dfp -pdmparams -pose -aus -gaze"
   ]
  },
  {
   "cell_type": "code",
   "execution_count": 2,
   "metadata": {},
   "outputs": [],
   "source": [
    "video_filename = 'vid_analysis/jim_1080p_1m39.mp4'"
   ]
  },
  {
   "cell_type": "markdown",
   "metadata": {},
   "source": [
    "Example Code to Stream video with blink detector running"
   ]
  },
  {
   "cell_type": "code",
   "execution_count": 3,
   "metadata": {},
   "outputs": [],
   "source": [
    "def eye_aspect_ratio(eye):\n",
    "    # compute the euclidean distances between the two sets of\n",
    "    # vertical eye landmarks (x, y)-coordinates\n",
    "    A = dist.euclidean(eye[1], eye[5])\n",
    "    B = dist.euclidean(eye[2], eye[4])\n",
    "\n",
    "    # compute the euclidean distance between the horizontal\n",
    "    # eye landmark (x, y)-coordinates\n",
    "    C = dist.euclidean(eye[0], eye[3])\n",
    "\n",
    "    # compute the eye aspect ratio\n",
    "    ear = (A + B) / (2.0 * C)\n",
    "\n",
    "    # return the eye aspect ratio\n",
    "    return ear\n",
    "\n",
    "def example_stream_blink_detector(video_filename, thresh=0.00325, consec_frames=3, resize_width=None):\n",
    "    \n",
    "    COUNTER = 0\n",
    "    TOTAL = 0\n",
    "    WINDOW_NAME = 'blink_window'\n",
    "    \n",
    "    # initialize dlib's face detector (HOG-based) and then create\n",
    "    # the facial landmark predictor\n",
    "    print(\"[INFO] loading facial landmark predictor...\")\n",
    "    detector = dlib.get_frontal_face_detector()\n",
    "    predictor = dlib.shape_predictor('shape_predictor_68_face_landmarks.dat')\n",
    "    \n",
    "    (lStart, lEnd) = face_utils.FACIAL_LANDMARKS_IDXS[\"left_eye\"]\n",
    "    (rStart, rEnd) = face_utils.FACIAL_LANDMARKS_IDXS[\"right_eye\"]\n",
    "\n",
    "    # start the video stream thread\n",
    "    print(\"[INFO] starting video stream thread...\")\n",
    "    vs = FileVideoStream(video_filename).start()\n",
    "    \n",
    "    cv2.namedWindow(WINDOW_NAME, cv2.WINDOW_AUTOSIZE)\n",
    "    cv2.startWindowThread()\n",
    "\n",
    "    time.sleep(1.0)\n",
    "\n",
    "    # loop over frames from the video stream\n",
    "    while True:\n",
    "        \n",
    "        frame = vs.read()\n",
    "        if frame is None: break\n",
    "\n",
    "        if resize_width is not None: frame = imutils.resize(frame, width=resize_width)\n",
    "        gray = cv2.cvtColor(frame, cv2.COLOR_BGR2GRAY)\n",
    "\n",
    "        # detect faces in the grayscale frame\n",
    "        rects = detector(gray, 0)\n",
    "\n",
    "        # loop over the face detections\n",
    "        for rect in rects:\n",
    "            # determine the facial landmarks for the face region, then\n",
    "            # convert the facial landmark (x, y)-coordinates to a NumPy\n",
    "            # array\n",
    "            shape = predictor(gray, rect)\n",
    "            shape = face_utils.shape_to_np(shape)\n",
    "\n",
    "            # extract the left and right eye coordinates, then use the\n",
    "            # coordinates to compute the eye aspect ratio for both eyes\n",
    "            leftEye = shape[lStart:lEnd]\n",
    "            rightEye = shape[rStart:rEnd]\n",
    "            leftEAR = eye_aspect_ratio(leftEye)\n",
    "            rightEAR = eye_aspect_ratio(rightEye)\n",
    "\n",
    "            # average the eye aspect ratio together for both eyes\n",
    "            ear = (leftEAR + rightEAR) / 2.0\n",
    "            (x, y, w, h) = face_utils.rect_to_bb(rect)\n",
    "            ear_ratio = ear/w\n",
    "            # compute the convex hull for the left and right eye, then\n",
    "            # visualize each of the eyes\n",
    "            leftEyeHull = cv2.convexHull(leftEye)\n",
    "            rightEyeHull = cv2.convexHull(rightEye)\n",
    "            cv2.drawContours(frame, [leftEyeHull], -1, (0, 255, 0), 1)\n",
    "            cv2.drawContours(frame, [rightEyeHull], -1, (0, 255, 0), 1)\n",
    "\n",
    "            # check to see if the eye aspect ratio is below the blink\n",
    "            # threshold, and if so, increment the blink frame counter\n",
    "            if ear_ratio < thresh:\n",
    "                COUNTER += 1\n",
    "            else:\n",
    "                if COUNTER >= consec_frames:\n",
    "                    TOTAL += 1\n",
    "\n",
    "                COUNTER = 0\n",
    "\n",
    "            # draw the total number of blinks on the frame along with\n",
    "            # the computed eye aspect ratio for the frame\n",
    "            cv2.putText(frame, \"Blinks: {}\".format(TOTAL), (10, 30),\n",
    "                cv2.FONT_HERSHEY_SIMPLEX, 0.7, (0, 0, 255), 2)\n",
    "            cv2.putText(frame, \"EAR: {:.5f}\".format(ear), (300, 30),\n",
    "                cv2.FONT_HERSHEY_SIMPLEX, 0.7, (0, 0, 255), 2)\n",
    "\n",
    "        # show the frame\n",
    "        cv2.imshow(WINDOW_NAME, frame)\n",
    "        key = cv2.waitKey(1) & 0xFF\n",
    "\n",
    "        # if the `q` key was pressed, break from the loop\n",
    "        if key == ord(\"q\"):\n",
    "            break\n",
    "\n",
    "    # do a bit of cleanup\n",
    "    cv2.waitKey(1)\n",
    "    cv2.destroyAllWindows()\n",
    "    cv2.waitKey(1)\n",
    "    vs.stop()"
   ]
  },
  {
   "cell_type": "code",
   "execution_count": 11,
   "metadata": {},
   "outputs": [
    {
     "name": "stdout",
     "output_type": "stream",
     "text": [
      "[INFO] loading facial landmark predictor...\n",
      "[INFO] starting video stream thread...\n"
     ]
    }
   ],
   "source": [
    "example_stream_blink_detector(video_filename, resize_width=720)"
   ]
  },
  {
   "cell_type": "markdown",
   "metadata": {},
   "source": [
    "Now we write code to analyze the video for the eye aspect ratio and save it to a CSV without streaming\n",
    "the video to the screen.  We can then analyze what threshold works the best (testing several, since we\n",
    "know people typically blink ~15 times a min), and then apply that threshold and stream the video with\n",
    "a blink indicator overlaid, just to make sure it's working the way we were hoping/intending."
   ]
  },
  {
   "cell_type": "code",
   "execution_count": null,
   "metadata": {},
   "outputs": [],
   "source": [
    "def expected_blinks(duration_min):\n",
    "    print('we expect about', duration_min*15,'blinks in this period.')\n",
    "\n",
    "    \n",
    "#returns pd.dataframe with eye aspect ratio/timestamp for each frame and FPS\n",
    "#no face recognition give NaN for eye detector\n",
    "def analyze_video_for_blinks(video_filename, csv_name=None, resize_width=720):\n",
    "    \n",
    "    frame_data = {}\n",
    "    counter = 0\n",
    "    \n",
    "    print(\"[INFO] loading facial landmark predictor...\")\n",
    "    detector = dlib.get_frontal_face_detector()\n",
    "    predictor = dlib.shape_predictor('shape_predictor_68_face_landmarks.dat')\n",
    "\n",
    "    # grab the indexes of the facial landmarks for the left and\n",
    "    # right eye, respectively\n",
    "    (lStart, lEnd) = face_utils.FACIAL_LANDMARKS_IDXS[\"left_eye\"]\n",
    "    (rStart, rEnd) = face_utils.FACIAL_LANDMARKS_IDXS[\"right_eye\"]\n",
    "\n",
    "    # start the video stream thread\n",
    "    print(\"[INFO] starting video stream thread...\")\n",
    "    vs = cv2.VideoCapture(video_filename)\n",
    "    \n",
    "    total_frames = int(vs.get(cv2.CAP_PROP_FRAME_COUNT))\n",
    "    fps = vs.get(cv2.CAP_PROP_FPS)\n",
    "    print('FPS:',fps,'\\tTotal Frames:',total_frames,'\\tDuration (s):',total_frames/fps)   \n",
    "\n",
    "    eye_ratio_data = pd.DataFrame()\n",
    "    \n",
    "    time.sleep(1.0)\n",
    "    \n",
    "    # loop over frames from the video stream\n",
    "    for fno in range(0, total_frames):\n",
    "        \n",
    "        if not fno % (fps*30): print('%8d frames processed (%3.2f min)' % (fno, fno/fps/60))\n",
    "            \n",
    "        _, frame = vs.read()\n",
    "        frame = imutils.resize(frame, width=resize_width)\n",
    "        gray = cv2.cvtColor(frame, cv2.COLOR_BGR2GRAY)\n",
    "\n",
    "        frame_data['timestamp'] = vs.get(cv2.CAP_PROP_POS_MSEC)\n",
    "        frame_data['eye_ratio'] = np.nan\n",
    "        \n",
    "        # detect faces in the grayscale frame\n",
    "        rects = detector(gray, 0)\n",
    "                \n",
    "        # loop over any face detections\n",
    "        for rect in rects:\n",
    "            # determine the facial landmarks for the face region, then\n",
    "            # convert the facial landmark (x, y)-coordinates to a NumPy\n",
    "            # array\n",
    "            shape = predictor(gray, rect)\n",
    "            shape = face_utils.shape_to_np(shape)\n",
    "\n",
    "            # extract the left and right eye coordinates, then use the\n",
    "            # coordinates to compute the eye aspect ratio for both eyes\n",
    "            leftEye = shape[lStart:lEnd]\n",
    "            rightEye = shape[rStart:rEnd]\n",
    "            leftEAR = eye_aspect_ratio(leftEye)\n",
    "            rightEAR = eye_aspect_ratio(rightEye)\n",
    "\n",
    "            # average the eye aspect ratio together for both eyes\n",
    "            ear = (leftEAR + rightEAR) / 2.0\n",
    "            (x, y, w, h) = face_utils.rect_to_bb(rect)\n",
    "            ear_ratio = ear/w\n",
    "            \n",
    "            if np.isnan(frame_data['eye_ratio']): frame_data['eye_ratio'] = ear_ratio\n",
    "            elif ear_ratio < frame_data['eye_ratio']: frame_data['eye_ratio'] = ear_ratio\n",
    "                \n",
    "        eye_ratio_data = eye_ratio_data.append(frame_data, ignore_index=True)\n",
    "\n",
    "    print('[INFO] completed blink analysis.')\n",
    "    \n",
    "    if csv_name is not None: \n",
    "        print('[INFO] saving to', csv_name)\n",
    "        eye_ratio_data.to_csv(csv_name)\n",
    "        \n",
    "    return eye_ratio_data, fps\n",
    "   \n",
    "#stream the video with blink annotations\n",
    "def stream_with_blink_data_overlay(video_filename, ratio_data, resize_width=720):\n",
    "    if 'blink_signal' not in ratio_data.columns:\n",
    "        print('ERROR: must pass a pandas dataframe that already has' + \\\n",
    "                'a blink signal calculated, use add_blink_signal_to_dataframe')\n",
    "        return\n",
    "    \n",
    "    blink_data = ratio_data['blink_signal'].tolist()\n",
    "    \n",
    "    WINDOW_NAME = 'blink_window'\n",
    "    cv2.namedWindow(WINDOW_NAME, cv2.WINDOW_AUTOSIZE)\n",
    "    cv2.startWindowThread()\n",
    "\n",
    "    vs = FileVideoStream(video_filename).start()\n",
    "    time.sleep(1.0)\n",
    "    \n",
    "    for fno in range(0, len(blink_data)):\n",
    "        frame = vs.read()  \n",
    "        frame = imutils.resize(frame, width=resize_width)\n",
    "    \n",
    "        if blink_data[fno] and not np.isnan(blink_data[fno]):\n",
    "            cv2.putText(frame, \"BLINKING NOW!!!!!!\", (10, 30),\n",
    "                cv2.FONT_HERSHEY_SIMPLEX, 0.7, (0, 0, 255), 2)\n",
    "       \n",
    "        # show the frame\n",
    "        cv2.imshow(WINDOW_NAME, frame)\n",
    "        key = cv2.waitKey(1) & 0xFF\n",
    "\n",
    "        # if the `q` key was pressed, break from the loop\n",
    "        if key == ord(\"q\"):\n",
    "            break\n",
    "\n",
    "    # do a bit of cleanup\n",
    "    cv2.waitKey(1)\n",
    "    cv2.destroyAllWindows()\n",
    "    cv2.waitKey(1)\n",
    "    vs.stop()"
   ]
  },
  {
   "cell_type": "code",
   "execution_count": 8,
   "metadata": {},
   "outputs": [
    {
     "name": "stdout",
     "output_type": "stream",
     "text": [
      "[INFO] loading facial landmark predictor...\n",
      "[INFO] starting video stream thread...\n",
      "FPS: 30.0 \tTotal Frames: 2994 \tDuration (s): 99.8\n",
      "       0 frames processed (0.00 min)\n"
     ]
    },
    {
     "ename": "NameError",
     "evalue": "name 'eye_aspect_ratio' is not defined",
     "output_type": "error",
     "traceback": [
      "\u001b[0;31m---------------------------------------------------------------------------\u001b[0m",
      "\u001b[0;31mNameError\u001b[0m                                 Traceback (most recent call last)",
      "\u001b[0;32m<ipython-input-8-0c150ff54c3d>\u001b[0m in \u001b[0;36m<module>\u001b[0;34m\u001b[0m\n\u001b[0;32m----> 1\u001b[0;31m \u001b[0mratio_data\u001b[0m\u001b[0;34m,\u001b[0m \u001b[0mfps\u001b[0m \u001b[0;34m=\u001b[0m \u001b[0manalyze_video_for_blinks\u001b[0m\u001b[0;34m(\u001b[0m\u001b[0mvideo_filename\u001b[0m\u001b[0;34m,\u001b[0m \u001b[0;34m'vid_analysis/test_eyeratio.csv'\u001b[0m\u001b[0;34m)\u001b[0m\u001b[0;34m\u001b[0m\u001b[0;34m\u001b[0m\u001b[0m\n\u001b[0m",
      "\u001b[0;32m<ipython-input-5-ef71795514ae>\u001b[0m in \u001b[0;36manalyze_video_for_blinks\u001b[0;34m(video_filename, csv_name, resize_width)\u001b[0m\n\u001b[1;32m     58\u001b[0m             \u001b[0mleftEye\u001b[0m \u001b[0;34m=\u001b[0m \u001b[0mshape\u001b[0m\u001b[0;34m[\u001b[0m\u001b[0mlStart\u001b[0m\u001b[0;34m:\u001b[0m\u001b[0mlEnd\u001b[0m\u001b[0;34m]\u001b[0m\u001b[0;34m\u001b[0m\u001b[0;34m\u001b[0m\u001b[0m\n\u001b[1;32m     59\u001b[0m             \u001b[0mrightEye\u001b[0m \u001b[0;34m=\u001b[0m \u001b[0mshape\u001b[0m\u001b[0;34m[\u001b[0m\u001b[0mrStart\u001b[0m\u001b[0;34m:\u001b[0m\u001b[0mrEnd\u001b[0m\u001b[0;34m]\u001b[0m\u001b[0;34m\u001b[0m\u001b[0;34m\u001b[0m\u001b[0m\n\u001b[0;32m---> 60\u001b[0;31m             \u001b[0mleftEAR\u001b[0m \u001b[0;34m=\u001b[0m \u001b[0meye_aspect_ratio\u001b[0m\u001b[0;34m(\u001b[0m\u001b[0mleftEye\u001b[0m\u001b[0;34m)\u001b[0m\u001b[0;34m\u001b[0m\u001b[0;34m\u001b[0m\u001b[0m\n\u001b[0m\u001b[1;32m     61\u001b[0m             \u001b[0mrightEAR\u001b[0m \u001b[0;34m=\u001b[0m \u001b[0meye_aspect_ratio\u001b[0m\u001b[0;34m(\u001b[0m\u001b[0mrightEye\u001b[0m\u001b[0;34m)\u001b[0m\u001b[0;34m\u001b[0m\u001b[0;34m\u001b[0m\u001b[0m\n\u001b[1;32m     62\u001b[0m \u001b[0;34m\u001b[0m\u001b[0m\n",
      "\u001b[0;31mNameError\u001b[0m: name 'eye_aspect_ratio' is not defined"
     ]
    }
   ],
   "source": [
    "ratio_data, fps = analyze_video_for_blinks(video_filename, 'vid_analysis/test_eyeratio.csv')"
   ]
  },
  {
   "cell_type": "code",
   "execution_count": 14,
   "metadata": {},
   "outputs": [
    {
     "data": {
      "text/html": [
       "<div>\n",
       "<style scoped>\n",
       "    .dataframe tbody tr th:only-of-type {\n",
       "        vertical-align: middle;\n",
       "    }\n",
       "\n",
       "    .dataframe tbody tr th {\n",
       "        vertical-align: top;\n",
       "    }\n",
       "\n",
       "    .dataframe thead th {\n",
       "        text-align: right;\n",
       "    }\n",
       "</style>\n",
       "<table border=\"1\" class=\"dataframe\">\n",
       "  <thead>\n",
       "    <tr style=\"text-align: right;\">\n",
       "      <th></th>\n",
       "      <th>eye_ratio</th>\n",
       "      <th>timestamp</th>\n",
       "    </tr>\n",
       "  </thead>\n",
       "  <tbody>\n",
       "    <tr>\n",
       "      <th>0</th>\n",
       "      <td>NaN</td>\n",
       "      <td>0.000000</td>\n",
       "    </tr>\n",
       "    <tr>\n",
       "      <th>1</th>\n",
       "      <td>NaN</td>\n",
       "      <td>33.333333</td>\n",
       "    </tr>\n",
       "    <tr>\n",
       "      <th>2</th>\n",
       "      <td>NaN</td>\n",
       "      <td>66.666667</td>\n",
       "    </tr>\n",
       "    <tr>\n",
       "      <th>3</th>\n",
       "      <td>NaN</td>\n",
       "      <td>100.000000</td>\n",
       "    </tr>\n",
       "    <tr>\n",
       "      <th>4</th>\n",
       "      <td>NaN</td>\n",
       "      <td>133.333333</td>\n",
       "    </tr>\n",
       "  </tbody>\n",
       "</table>\n",
       "</div>"
      ],
      "text/plain": [
       "   eye_ratio   timestamp\n",
       "0        NaN    0.000000\n",
       "1        NaN   33.333333\n",
       "2        NaN   66.666667\n",
       "3        NaN  100.000000\n",
       "4        NaN  133.333333"
      ]
     },
     "execution_count": 14,
     "metadata": {},
     "output_type": "execute_result"
    }
   ],
   "source": [
    "ratio_data.head()"
   ]
  },
  {
   "cell_type": "code",
   "execution_count": 15,
   "metadata": {},
   "outputs": [
    {
     "data": {
      "image/png": "[encoded data removed]",
      "text/plain": [
       "<Figure size 432x288 with 1 Axes>"
      ]
     },
     "metadata": {
      "needs_background": "light"
     },
     "output_type": "display_data"
    }
   ],
   "source": [
    "plt.plot(ratio_data.timestamp, ratio_data.eye_ratio)\n",
    "plt.show()"
   ]
  },
  {
   "cell_type": "code",
   "execution_count": null,
   "metadata": {},
   "outputs": [],
   "source": [
    "def suggest_blink_thresh(ratio_data, thresh_ms=100, thresh_range=[.0015,.0045], fps=60, steps=20):\n",
    "    #pull data that actually has detections\n",
    "    ratio_data_real = ratio_data.dropna()\n",
    "    blink_data = ratio_data_real['eye_ratio'].tolist()\n",
    "    \n",
    "    best_thresh, distance= None, np.inf\n",
    "    #check how many blinks we expect\n",
    "    duration_face_recognized_min = len(blink_data)/(fps*60.)\n",
    "    expected_num_blinks = duration_face_recognized_min * 15 #roughly 15 per min\n",
    "    print('expected %.1f blinks over %.2f min of identified face.' % (expected_num_blinks, duration_face_recognized_min))\n",
    "    print('-------------------------------------')\n",
    "    \n",
    "    #calc num blinks\n",
    "    for thresh in np.linspace(thresh_range[0], thresh_range[1], steps):\n",
    "        blink_count, thresh_count = 0, 0\n",
    "        for val in blink_data:\n",
    "            if val < thresh: thresh_count += 1\n",
    "            else: thresh_count = 0\n",
    "            if thresh_count == int(fps*(thresh_ms/1000.)): blink_count +=1 \n",
    "        \n",
    "        if abs(blink_count-expected_num_blinks) <= distance:\n",
    "            distance = abs(blink_count-expected_num_blinks)\n",
    "            best_thresh = thresh\n",
    "            \n",
    "        print('thresh = %2.4f, %5d blinks detected.' % (thresh, blink_count))\n",
    "        \n",
    "    return best_thresh\n",
    "\n",
    "def add_blink_signal_to_dataframe(ratio_data, thresh, thresh_ms=100, fps=60):\n",
    "    new_col = []\n",
    "    thresh_count = 0\n",
    "              \n",
    "    for val in ratio_data['eye_ratio']:\n",
    "        if 0 < val < thresh: \n",
    "              thresh_count += 1\n",
    "        else:\n",
    "            #handle previous potential blink if we've just finished counting\n",
    "            if thresh_count >= fps*(thresh_ms/1000.):\n",
    "                new_col.extend([1]*(thresh_count))\n",
    "            else:\n",
    "                new_col.extend([0]*(thresh_count))     \n",
    "            \n",
    "            #add the value for current data\n",
    "            if np.isnan(val): new_col.append(np.nan)\n",
    "            else: new_col.append(0)     \n",
    "              \n",
    "            thresh_count = 0\n",
    "    \n",
    "    if thresh_count >= fps*(thresh_ms/1000.):\n",
    "        new_col.extend([1]*(thresh_count))\n",
    "    else:\n",
    "        new_col.extend([0]*(thresh_count)) \n",
    "              \n",
    "    ratio_data['blink_signal'] = new_col\n",
    "    return ratio_data\n",
    "              \n",
    "def plot_blink_signal(ratio_data):\n",
    "    if 'blink_signal' not in ratio_data.columns:\n",
    "        print('ERROR: must pass a pandas dataframe that already has' + \\\n",
    "                'a blink signal calculated, use add_blink_signal_to_dataframe')\n",
    "        return\n",
    "              \n",
    "    plt.plot(ratio_data.timestamp, ratio_data.eye_ratio)\n",
    "    plt.plot(ratio_data.timestamp, ratio_data.blink_signal*ratio_data.eye_ratio.max())\n",
    "    plt.show()"
   ]
  },
  {
   "cell_type": "code",
   "execution_count": 7,
   "metadata": {},
   "outputs": [
    {
     "ename": "NameError",
     "evalue": "name 'ratio_data' is not defined",
     "output_type": "error",
     "traceback": [
      "\u001b[0;31m---------------------------------------------------------------------------\u001b[0m",
      "\u001b[0;31mNameError\u001b[0m                                 Traceback (most recent call last)",
      "\u001b[0;32m<ipython-input-7-67db5454ff12>\u001b[0m in \u001b[0;36m<module>\u001b[0;34m\u001b[0m\n\u001b[0;32m----> 1\u001b[0;31m \u001b[0mbest_thresh\u001b[0m \u001b[0;34m=\u001b[0m \u001b[0msuggest_blink_thresh\u001b[0m\u001b[0;34m(\u001b[0m\u001b[0mratio_data\u001b[0m\u001b[0;34m,\u001b[0m \u001b[0mfps\u001b[0m\u001b[0;34m=\u001b[0m\u001b[0;36m30\u001b[0m\u001b[0;34m)\u001b[0m\u001b[0;34m\u001b[0m\u001b[0;34m\u001b[0m\u001b[0m\n\u001b[0m\u001b[1;32m      2\u001b[0m \u001b[0mprint\u001b[0m\u001b[0;34m(\u001b[0m\u001b[0;34m'\\nBEST THRESHOLD: '\u001b[0m\u001b[0;34m,\u001b[0m\u001b[0mbest_thresh\u001b[0m\u001b[0;34m,\u001b[0m\u001b[0;34m'\\n'\u001b[0m\u001b[0;34m)\u001b[0m\u001b[0;34m\u001b[0m\u001b[0;34m\u001b[0m\u001b[0m\n\u001b[1;32m      3\u001b[0m \u001b[0;34m\u001b[0m\u001b[0m\n\u001b[1;32m      4\u001b[0m \u001b[0mratio_data_w_blink\u001b[0m \u001b[0;34m=\u001b[0m \u001b[0madd_blink_signal_to_dataframe\u001b[0m\u001b[0;34m(\u001b[0m\u001b[0mratio_data\u001b[0m\u001b[0;34m,\u001b[0m \u001b[0mbest_thresh\u001b[0m\u001b[0;34m,\u001b[0m \u001b[0mfps\u001b[0m\u001b[0;34m=\u001b[0m\u001b[0;36m30\u001b[0m\u001b[0;34m)\u001b[0m\u001b[0;34m\u001b[0m\u001b[0;34m\u001b[0m\u001b[0m\n\u001b[1;32m      5\u001b[0m \u001b[0mplot_blink_signal\u001b[0m\u001b[0;34m(\u001b[0m\u001b[0mratio_data_w_blink\u001b[0m\u001b[0;34m)\u001b[0m\u001b[0;34m\u001b[0m\u001b[0;34m\u001b[0m\u001b[0m\n",
      "\u001b[0;31mNameError\u001b[0m: name 'ratio_data' is not defined"
     ]
    }
   ],
   "source": [
    "best_thresh = suggest_blink_thresh(ratio_data, fps=30)\n",
    "print('\\nBEST THRESHOLD: ',best_thresh,'\\n')\n",
    "\n",
    "ratio_data_w_blink = add_blink_signal_to_dataframe(ratio_data, best_thresh, fps=30)\n",
    "plot_blink_signal(ratio_data_w_blink)"
   ]
  },
  {
   "cell_type": "code",
   "execution_count": 20,
   "metadata": {},
   "outputs": [
    {
     "name": "stdout",
     "output_type": "stream",
     "text": [
      "[INFO] starting video stream thread...\n"
     ]
    }
   ],
   "source": [
    "stream_with_blink_data_overlay(video_filename, ratio_data_w_blink)"
   ]
  },
  {
   "cell_type": "markdown",
   "metadata": {},
   "source": [
    "So all the above works (we can analyze the video, then find a good threshold, then apply that to get a 0/1\n",
    "indicator for blinking, then stream it back to check it worked well).\n",
    "\n",
    "Let's just double check that the original csv we saved will load in and work exactly as expected."
   ]
  },
  {
   "cell_type": "code",
   "execution_count": null,
   "metadata": {},
   "outputs": [],
   "source": [
    "#double check we can load the csv and use as normal\n",
    "\n",
    "double_check = pd.read_csv('vid_analysis/test_eyeratio.csv')\n",
    "best_thresh = suggest_blink_thresh(double_check, fps=30)\n",
    "print('\\nBEST THRESHOLD: ',best_thresh,'\\n')\n",
    "\n",
    "dc_w_blink = add_blink_signal_to_dataframe(double_check, best_thresh, fps=30)\n",
    "plot_blink_signal(dc_w_blink)"
   ]
  },
  {
   "cell_type": "code",
   "execution_count": 7,
   "metadata": {},
   "outputs": [
    {
     "name": "stdout",
     "output_type": "stream",
     "text": [
      "expected 23.1 blinks over 1.54 min of identified face.\n",
      "-------------------------------------\n",
      "thresh = 0.0015,     1 blinks detected.\n",
      "thresh = 0.0017,     1 blinks detected.\n",
      "thresh = 0.0018,     2 blinks detected.\n",
      "thresh = 0.0020,     2 blinks detected.\n",
      "thresh = 0.0021,     3 blinks detected.\n",
      "thresh = 0.0023,     6 blinks detected.\n",
      "thresh = 0.0024,     8 blinks detected.\n",
      "thresh = 0.0026,    11 blinks detected.\n",
      "thresh = 0.0028,    14 blinks detected.\n",
      "thresh = 0.0029,    16 blinks detected.\n",
      "thresh = 0.0031,    19 blinks detected.\n",
      "thresh = 0.0032,    24 blinks detected.\n",
      "thresh = 0.0034,    27 blinks detected.\n",
      "thresh = 0.0036,    35 blinks detected.\n",
      "thresh = 0.0037,    43 blinks detected.\n",
      "thresh = 0.0039,    49 blinks detected.\n",
      "thresh = 0.0040,    61 blinks detected.\n",
      "thresh = 0.0042,    85 blinks detected.\n",
      "thresh = 0.0043,   100 blinks detected.\n",
      "thresh = 0.0045,   133 blinks detected.\n",
      "\n",
      "BEST THRESHOLD:  0.0032368421052631578 \n",
      "\n"
     ]
    },
    {
     "data": {
      "image/png": "[encoded data removed]",
      "text/plain": [
       "<Figure size 432x288 with 1 Axes>"
      ]
     },
     "metadata": {
      "needs_background": "light"
     },
     "output_type": "display_data"
    }
   ],
   "source": [
    "#double check we can load the csv generated by run_blink_extractor.py and use as normal\n",
    "\n",
    "double_check = pd.read_csv('vid_analysis/jim_1080p_1m39_eyeratio.csv')\n",
    "best_thresh = suggest_blink_thresh(double_check, fps=30)\n",
    "print('\\nBEST THRESHOLD: ',best_thresh,'\\n')\n",
    "\n",
    "dc_w_blink = add_blink_signal_to_dataframe(double_check, best_thresh, fps=30)\n",
    "plot_blink_signal(dc_w_blink)"
   ]
  },
  {
   "cell_type": "code",
   "execution_count": null,
   "metadata": {},
   "outputs": [],
   "source": [
    "#double check our multi-threaded version gives the same exact data\n",
    "\n",
    "double_check_2 = pd.read_csv('vid_analysis/jim_1080p_1m39_eyeratio.csv')\n",
    "best_thresh = suggest_blink_thresh(double_check_2, fps=30)\n",
    "print('\\nBEST THRESHOLD: ',best_thresh,'\\n')\n",
    "\n",
    "dc_w_blink = add_blink_signal_to_dataframe(double_check_2, best_thresh, fps=30)\n",
    "plot_blink_signal(dc_w_blink)\n",
    "\n",
    "print(len(double_check))\n",
    "print(len(double_check_2))\n",
    "print(double_check.head())\n",
    "print(double_check_2.head())\n",
    "\n",
    "print(double_check.tail())\n",
    "print(double_check_2.tail())\n",
    "\n"
   ]
  }
 ],
 "metadata": {
  "kernelspec": {
   "display_name": "Python 3",
   "language": "python",
   "name": "python3"
  },
  "language_info": {
   "codemirror_mode": {
    "name": "ipython",
    "version": 3
   },
   "file_extension": ".py",
   "mimetype": "text/x-python",
   "name": "python",
   "nbconvert_exporter": "python",
   "pygments_lexer": "ipython3",
   "version": "3.9.4"
  }
 },
 "nbformat": 4,
 "nbformat_minor": 5
}
