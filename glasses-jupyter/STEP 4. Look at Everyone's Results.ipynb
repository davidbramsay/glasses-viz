{
 "cells": [
  {
   "cell_type": "code",
   "execution_count": 7,
   "metadata": {},
   "outputs": [],
   "source": [
    "import json\n",
    "from datetime import datetime , timezone\n",
    "import time\n",
    "import numpy as np\n",
    "import codecs\n",
    "import struct\n",
    "import matplotlib.pyplot as plt\n",
    "import pandas as pd\n",
    "import pickle\n",
    "import pycorrelate\n",
    "import collections\n",
    "import itertools\n",
    "from mpl_toolkits import mplot3d\n",
    "import cv2\n",
    "import imutils\n",
    "import os\n",
    "from scipy.spatial.transform import Rotation as R\n",
    "\n",
    "pd.options.display.float_format = '{:.3f}'.format\n",
    "pd.set_option('display.max_rows', 1000)\n",
    "%matplotlib inline"
   ]
  },
  {
   "cell_type": "markdown",
   "metadata": {},
   "source": [
    "### General Stats\n",
    "hours of video recorded and glasses data collected:"
   ]
  },
  {
   "cell_type": "code",
   "execution_count": 8,
   "metadata": {},
   "outputs": [
    {
     "name": "stdout",
     "output_type": "stream",
     "text": [
      "Total Video Recorded: 45:13 hr:min\n",
      "Total Glasses Recorded: 47:2 hr:min\n",
      "Roughly 9.0 hrs per participant\n"
     ]
    }
   ],
   "source": [
    "metadata = pickle.load(open('./cleaned_data/metadata.p', 'rb'))\n",
    "total_video_min, total_glasses_min = 0, 0\n",
    "for k in metadata:\n",
    "    total_glasses_min += sum(metadata[k]['glasses_session_durations_min'])\n",
    "    total_video_min += metadata[k]['vid_duration_sec']/60\n",
    "    \n",
    "print('Total Video Recorded: %d:%d hr:min'%(int(total_video_min/60), total_video_min%60))\n",
    "print('Total Glasses Recorded: %d:%d hr:min'%(int(total_glasses_min/60),total_glasses_min%60))\n",
    "print('Roughly',45/5,'hrs per participant')"
   ]
  },
  {
   "cell_type": "markdown",
   "metadata": {},
   "source": [
    "### Blinking Stats\n",
    "hand annotations, how fast people blink, etc"
   ]
  },
  {
   "cell_type": "code",
   "execution_count": 15,
   "metadata": {},
   "outputs": [],
   "source": [
    "sessions = ['juliana_1', 'beata_1', 'irmandy_2', 'david_3b', 'patrick_3']"
   ]
  },
  {
   "cell_type": "code",
   "execution_count": 10,
   "metadata": {},
   "outputs": [
    {
     "name": "stdout",
     "output_type": "stream",
     "text": [
      "juliana_1 516 hand-annotated blinks with 498.80 secs of recording. 62.07 blinks/min.\n",
      "juliana_1 skipped 3 snippets with 263.56 sec of recording, including 26 blinks found by openface.\n",
      "\n",
      "beata_1 501 hand-annotated blinks with 2663.91 secs of recording. 11.28 blinks/min.\n",
      "beata_1 skipped 4 snippets with 542.39 sec of recording, including 28 blinks found by openface.\n",
      "\n",
      "irmandy_2 518 hand-annotated blinks with 683.97 secs of recording. 45.44 blinks/min.\n",
      "irmandy_2 skipped 1 snippets with 55.92 sec of recording, including 0 blinks found by openface.\n",
      "\n",
      "david_3b 507 hand-annotated blinks with 1855.35 secs of recording. 16.40 blinks/min.\n",
      "david_3b skipped 5 snippets with 296.51 sec of recording, including 80 blinks found by openface.\n",
      "\n",
      "patrick_3 544 hand-annotated blinks with 1657.78 secs of recording. 19.69 blinks/min.\n",
      "patrick_3 skipped 8 snippets with 26.11 sec of recording, including 21 blinks found by openface.\n",
      "\n",
      "------------------------------\n",
      " OVERALL \n",
      "2586 hand-annotated blinks with 7359.80 secs of recording. 21.08 blinks/min.\n",
      "skipped 21 snippets with 1184.50 sec of recording, including 155 blinks found by openface.\n",
      "\n",
      "over 2 hours of hand-annotated blink footage, skipped about 15 min of footage that openface is confident about.\n",
      "captured 2586 blinks, with an overall average blink rate of 21 blinks/min.  Average blink rates per user varied between 11 and 62 blinks/min.\n"
     ]
    }
   ],
   "source": [
    "t_total_blinks, t_total_dur_sec, t_total_num_skipped, t_total_dur_skipped, t_of_blinks_skipped = 0, 0, 0, 0, 0\n",
    "\n",
    "for SESSION in sessions:\n",
    "    hand_annotations = pickle.load(open('./cleaned_data/' + SESSION + '/hand_annotations.p', \"rb\" ))\n",
    "    vid_meta_data    = pickle.load(open('./cleaned_data/' + SESSION + '/video_blink_sessions.p', \"rb\" ))\n",
    "    \n",
    "    total_blinks, total_dur_sec, total_num_skipped, total_dur_skipped, of_blinks_skipped = 0, 0, 0, 0, 0\n",
    "    for k in hand_annotations:\n",
    "        try:\n",
    "            total_blinks += len(hand_annotations[k])\n",
    "            total_dur_sec += vid_meta_data['duration_sessions_sec'][k]\n",
    "        except:\n",
    "            total_num_skipped +=1\n",
    "            total_dur_skipped += vid_meta_data['duration_sessions_sec'][k]\n",
    "            of_blinks_skipped += vid_meta_data['blinks_per_session'][k]\n",
    "\n",
    "    print(SESSION,'%d hand-annotated blinks with %3.2f secs of recording. %2.2f blinks/min.'%(total_blinks, total_dur_sec, 60*total_blinks/total_dur_sec))\n",
    "    print(SESSION,'skipped %d snippets with %3.2f sec of recording, including %d blinks found by openface.'%(total_num_skipped, total_dur_skipped, of_blinks_skipped))\n",
    "    print('')\n",
    "    t_total_blinks      += total_blinks\n",
    "    t_total_dur_sec     += total_dur_sec\n",
    "    t_total_num_skipped += total_num_skipped\n",
    "    t_total_dur_skipped += total_dur_skipped\n",
    "    t_of_blinks_skipped += of_blinks_skipped\n",
    "    \n",
    "print('-'*30)\n",
    "print(' OVERALL ')\n",
    "print('%d hand-annotated blinks with %3.2f secs of recording. %2.2f blinks/min.'%(t_total_blinks, t_total_dur_sec, 60*t_total_blinks/t_total_dur_sec))\n",
    "print('skipped %d snippets with %3.2f sec of recording, including %d blinks found by openface.'%(t_total_num_skipped, t_total_dur_skipped, t_of_blinks_skipped))\n",
    "    \n",
    "print('')\n",
    "\n",
    "print('over 2 hours of hand-annotated blink footage, skipped about 15 min of footage that openface is confident about.' )\n",
    "print('captured 2586 blinks, with an overall average blink rate of 21 blinks/min.  Average blink rates per user varied between 11 and 62 blinks/min.' )"
   ]
  },
  {
   "cell_type": "markdown",
   "metadata": {},
   "source": [
    "### Results\n",
    "openface results, our results"
   ]
  },
  {
   "cell_type": "code",
   "execution_count": 14,
   "metadata": {},
   "outputs": [
    {
     "name": "stdout",
     "output_type": "stream",
     "text": [
      "beata_1\n",
      "beat openface    : Sensitivity/False Disc: 53.30 , 58.01\n",
      "beat glasses     : Sensitivity/False Disc: 72.25 , 25.71\n",
      "beat filt glasses: Sensitivity/False Disc: 69.51 , 24.70\n",
      "irmandy_2\n",
      "irma openface    : Sensitivity/False Disc: 66.81 , 20.10\n",
      "irma glasses     : Sensitivity/False Disc: 84.91 , 27.71\n",
      "irma filt glasses: Sensitivity/False Disc: 43.53 , 10.62\n",
      "david_3b\n",
      "davi openface    : Sensitivity/False Disc: 75.94 , 37.90\n",
      "davi glasses     : Sensitivity/False Disc: 85.21 , 20.15\n",
      "davi filt glasses: Sensitivity/False Disc: 85.21 , 20.15\n",
      "patrick_3\n",
      "patr openface    : Sensitivity/False Disc: 66.91 , 45.99\n",
      "patr glasses     : Sensitivity/False Disc: 85.11 , 19.90\n",
      "patr filt glasses: Sensitivity/False Disc: 83.27 , 16.42\n",
      "------------------------------\n",
      " OVERALL \n",
      " OPENFACE SENS/FALSE DISC 66.68 , 41.56\n",
      " GLASS    SENS/FALSE DISC 82.60 , 27.11\n",
      " GLASSFIL SENS/FALSE DISC 71.31 , 18.54\n"
     ]
    }
   ],
   "source": [
    "# 'RAW'\n",
    "of_true_pos, g_true_pos, gf_true_pos = 0, 0, 0\n",
    "of_false_pos, g_false_pos, gf_false_pos = 0, 0, 0\n",
    "real_pos = 0\n",
    "\n",
    "for SESSION in sessions:\n",
    "    results = pickle.load(open('./cleaned_data/' + SESSION + '/final_results_handtuned.p', \"rb\" ))\n",
    "    print(SESSION)\n",
    "    print(SESSION[:4],'openface    : Sensitivity/False Disc: %3.2f , %3.2f'%(results['openface']['sensitivity'], results['openface']['false_discovery']))\n",
    "    print(SESSION[:4],'glasses     : Sensitivity/False Disc: %3.2f , %3.2f'%(results['glasses']['sensitivity'], results['glasses']['false_discovery']))\n",
    "    print(SESSION[:4],'filt glasses: Sensitivity/False Disc: %3.2f , %3.2f'%(results['glasses_filtered']['sensitivity'], results['glasses_filtered']['false_discovery']))\n",
    "    \n",
    "    of_true_pos  += results['openface']['true_pos']\n",
    "    g_true_pos   += results['glasses']['true_pos']\n",
    "    gf_true_pos  += results['glasses_filtered']['true_pos']\n",
    "    of_false_pos += results['openface']['false_pos']\n",
    "    g_false_pos  += results['glasses']['false_pos']\n",
    "    gf_false_pos += results['glasses_filtered']['false_pos']\n",
    "    real_pos     += results['openface']['real_pos']\n",
    "    \n",
    "print('-'*30)\n",
    "print(' OVERALL ')\n",
    "print(' OPENFACE SENS/FALSE DISC %3.2f , %3.2f'%(of_true_pos/real_pos*100, of_false_pos/(of_false_pos+of_true_pos)*100))\n",
    "print(' GLASS    SENS/FALSE DISC %3.2f , %3.2f'%(g_true_pos/real_pos*100, g_false_pos/(g_false_pos+of_true_pos)*100))\n",
    "print(' GLASSFIL SENS/FALSE DISC %3.2f , %3.2f'%(gf_true_pos/real_pos*100, gf_false_pos/(gf_false_pos+gf_true_pos)*100))\n"
   ]
  },
  {
   "cell_type": "code",
   "execution_count": null,
   "metadata": {},
   "outputs": [],
   "source": [
    "Glasses  80.0/48.1\n",
    "Openface 53.8/43.9"
   ]
  },
  {
   "cell_type": "code",
   "execution_count": 5,
   "metadata": {},
   "outputs": [
    {
     "name": "stdout",
     "output_type": "stream",
     "text": [
      "juliana_1\n",
      "juli openface    : Sensitivity/False Disc: 38.37 , 21.74\n",
      "juli glasses     : Sensitivity/False Disc: 94.19 , 6.72\n",
      "juli filt glasses: Sensitivity/False Disc: 91.86 , 5.01\n",
      "beata_1\n",
      "beat openface    : Sensitivity/False Disc: 47.50 , 54.05\n",
      "beat glasses     : Sensitivity/False Disc: 90.22 , 58.76\n",
      "beat filt glasses: Sensitivity/False Disc: 90.22 , 58.76\n",
      "irmandy_2\n",
      "irma openface    : Sensitivity/False Disc: 64.48 , 19.32\n",
      "irma glasses     : Sensitivity/False Disc: 61.00 , 21.59\n",
      "irma filt glasses: Sensitivity/False Disc: 57.72 , 19.62\n",
      "david_3b\n",
      "davi openface    : Sensitivity/False Disc: 75.94 , 37.90\n",
      "davi glasses     : Sensitivity/False Disc: 85.21 , 19.85\n",
      "davi filt glasses: Sensitivity/False Disc: 85.21 , 19.85\n",
      "patrick_3\n",
      "patr openface    : Sensitivity/False Disc: 68.93 , 44.36\n",
      "patr glasses     : Sensitivity/False Disc: 81.80 , 16.51\n",
      "patr filt glasses: Sensitivity/False Disc: 80.33 , 14.65\n",
      "------------------------------\n",
      " OVERALL \n",
      " OPENFACE SENS/FALSE DISC 59.16 , 38.28\n",
      " GLASS    SENS/FALSE DISC 82.41 , 38.58\n",
      " GLASSFIL SENS/FALSE DISC 80.97 , 30.62\n"
     ]
    }
   ],
   "source": [
    "# 'ALGO'\n",
    "of_true_pos, g_true_pos, gf_true_pos = 0, 0, 0\n",
    "of_false_pos, g_false_pos, gf_false_pos = 0, 0, 0\n",
    "real_pos = 0\n",
    "\n",
    "for SESSION in sessions:\n",
    "    results = pickle.load(open('./cleaned_data/' + SESSION + '/final_results_algo.p', \"rb\" ))\n",
    "    print(SESSION)\n",
    "    print(SESSION[:4],'openface    : Sensitivity/False Disc: %3.2f , %3.2f'%(results['openface']['sensitivity'], results['openface']['false_discovery']))\n",
    "    print(SESSION[:4],'glasses     : Sensitivity/False Disc: %3.2f , %3.2f'%(results['glasses']['sensitivity'], results['glasses']['false_discovery']))\n",
    "    print(SESSION[:4],'filt glasses: Sensitivity/False Disc: %3.2f , %3.2f'%(results['glasses_filtered']['sensitivity'], results['glasses_filtered']['false_discovery']))\n",
    "    \n",
    "    of_true_pos  += results['openface']['true_pos']\n",
    "    g_true_pos   += results['glasses']['true_pos']\n",
    "    gf_true_pos  += results['glasses_filtered']['true_pos']\n",
    "    of_false_pos += results['openface']['false_pos']\n",
    "    g_false_pos  += results['glasses']['false_pos']\n",
    "    gf_false_pos += results['glasses_filtered']['false_pos']\n",
    "    real_pos     += results['openface']['real_pos']\n",
    "    \n",
    "print('-'*30)\n",
    "print(' OVERALL ')\n",
    "print(' OPENFACE SENS/FALSE DISC %3.2f , %3.2f'%(of_true_pos/real_pos*100, of_false_pos/(of_false_pos+of_true_pos)*100))\n",
    "print(' GLASS    SENS/FALSE DISC %3.2f , %3.2f'%(g_true_pos/real_pos*100, g_false_pos/(g_false_pos+of_true_pos)*100))\n",
    "print(' GLASSFIL SENS/FALSE DISC %3.2f , %3.2f'%(gf_true_pos/real_pos*100, gf_false_pos/(gf_false_pos+gf_true_pos)*100))\n"
   ]
  },
  {
   "cell_type": "code",
   "execution_count": null,
   "metadata": {},
   "outputs": [],
   "source": []
  }
 ],
 "metadata": {
  "kernelspec": {
   "display_name": "Python 3",
   "language": "python",
   "name": "python3"
  },
  "language_info": {
   "codemirror_mode": {
    "name": "ipython",
    "version": 3
   },
   "file_extension": ".py",
   "mimetype": "text/x-python",
   "name": "python",
   "nbconvert_exporter": "python",
   "pygments_lexer": "ipython3",
   "version": "3.9.7"
  }
 },
 "nbformat": 4,
 "nbformat_minor": 2
}
