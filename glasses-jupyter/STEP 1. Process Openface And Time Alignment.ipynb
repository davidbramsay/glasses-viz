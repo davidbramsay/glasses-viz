{
 "cells": [
  {
   "cell_type": "markdown",
   "metadata": {},
   "source": [
    "# EXPECTS:\n",
    " `metadata.p` from Process Incoming data about all user sessions.\n",
    " `video_consolidated.p` from Processing Incoming data script in the user folder of interest, which is simply the pared down raw openface and eyeratio data that has had an approximate timestamp added based on what we believe from the GoPro.\n",
    " `sessions_blink.p` from Processing Incoming data script in the user folder of interest, which is just a list of DFs of glasses blink data, timestamped roughly using the serverTimestamp as a starting point and the uC tick as the main clock source.\n",
    " \n",
    "# OUTPUTS:\n",
    " - the goal of this script is to output `best_offset.p` to the user session folder, which is the offset to add to the glasses data to align it to the video.\n",
    " \n",
    " - it is also to output `video_blink_sessions.p` -- a df of the video data that has been chopped into snippets in which the classifier believes it has succeeded continuously, along with session info and timestamps for each blink within the video.  We typically open this and save it as `vid_meta_data`.\n",
    "\n",
    " - it will also output `glasses_all_blink_timestamps_uncorrected.p` to the user folder, which is a list of blink times from the glasses without the offset applied.  These are discovered with our default algorithm set at thresh=0.06, blink_dur_ms=250, lpf_samples=50, dx_lpf_samples=25.\n",
    " \n",
    "We will still need to APPLY a debounce to the video (could change threshold), and our BEST_OFFSET to any glasses data we work with, in the future."
   ]
  },
  {
   "cell_type": "code",
   "execution_count": 1,
   "metadata": {},
   "outputs": [],
   "source": [
    "import json\n",
    "from datetime import datetime , timezone\n",
    "import time\n",
    "import numpy as np\n",
    "import codecs\n",
    "import struct\n",
    "import matplotlib.pyplot as plt\n",
    "import pandas as pd\n",
    "import pickle\n",
    "import pycorrelate\n",
    "import collections\n",
    "import itertools\n",
    "from mpl_toolkits import mplot3d\n",
    "import cv2\n",
    "import imutils\n",
    "import os\n",
    "\n",
    "pd.set_option('display.max_rows', 1000)\n",
    "%matplotlib inline"
   ]
  },
  {
   "cell_type": "markdown",
   "metadata": {},
   "source": [
    "### 1. Pick a session to work with!"
   ]
  },
  {
   "cell_type": "code",
   "execution_count": 5,
   "metadata": {},
   "outputs": [
    {
     "name": "stdout",
     "output_type": "stream",
     "text": [
      "Please Choose a Session to Work With:\n",
      "david_2,  patrick_1,  patrick_2,  beata_1,  david_3b,  irmandy_1,  juliana_1,  irmandy_2,  patrick_3,  "
     ]
    }
   ],
   "source": [
    "metadata = pickle.load(open('./cleaned_data/metadata.p', 'rb'))\n",
    "print('Please Choose a Session to Work With:')\n",
    "for k in metadata: print(k, end=',  ')"
   ]
  },
  {
   "cell_type": "code",
   "execution_count": 2,
   "metadata": {},
   "outputs": [],
   "source": [
    "SESSION = 'patrick_3'"
   ]
  },
  {
   "cell_type": "markdown",
   "metadata": {},
   "source": [
    "let's print some basic summary statistics based on the metadata for this session:"
   ]
  },
  {
   "cell_type": "code",
   "execution_count": 7,
   "metadata": {},
   "outputs": [
    {
     "name": "stdout",
     "output_type": "stream",
     "text": [
      "patrick_3 on 04/28\n",
      "----------\n",
      "04:25 hr of glassess data starting at 04/28/21 01:10:27PM EDT\n",
      "04:26 hr of    video data starting at 04/28/21 01:10:00PM EDT\n",
      "----------\n",
      "glasses sessions:\n",
      "session 0: 04/28/21 01:10:27PM EDT to 04/28/21 05:35:58PM EDT \tduration:  265.52 min\n"
     ]
    }
   ],
   "source": [
    "s_meta = metadata[SESSION]\n",
    "\n",
    "try:\n",
    "    print(SESSION, 'on', s_meta['date'])\n",
    "    print('-'*10)\n",
    "    print(s_meta['glasses_sessions_total_duration_string'], 'hr of glassess data starting at', \\\n",
    "          s_meta['glasses_session_times'][0][0])\n",
    "    print('%02d:%02d hr of    video data starting at ' % (s_meta['vid_duration_sec'] / 60 // 60, \n",
    "           s_meta['vid_duration_sec'] / 60 % 60 )  + s_meta['vid_start'])\n",
    "    print('-'*10)\n",
    "    print('glasses sessions:')\n",
    "    for i in range(len(s_meta['glasses_session_times'])):\n",
    "        print('session ' + str(i) + ':',s_meta['glasses_session_times'][i][0],'to',\\\n",
    "              s_meta['glasses_session_times'][i][1],'\\tduration:%8.2f min' % s_meta['glasses_session_durations_min'][i])\n",
    "except:\n",
    "    print('failed to load video analysis file.')"
   ]
  },
  {
   "cell_type": "markdown",
   "metadata": {},
   "source": [
    "### Load the Data\n",
    "...and let's load in the data, and plot what we have just to take a look, by session"
   ]
  },
  {
   "cell_type": "code",
   "execution_count": 8,
   "metadata": {},
   "outputs": [
    {
     "name": "stderr",
     "output_type": "stream",
     "text": [
      "/usr/local/lib/python3.9/site-packages/IPython/core/interactiveshell.py:3165: DtypeWarning: Columns (6,7,8) have mixed types.Specify dtype option on import or set low_memory=False.\n",
      "  has_raised = await self.run_ast_nodes(code_ast.body, cell_name,\n"
     ]
    }
   ],
   "source": [
    "#load video data (eyeratio and openface features), 60 Hz (16 ms between samples)\n",
    "df_vid = pd.read_csv('./cleaned_data/' + SESSION + '/video_consolidated.csv', index_col=0)\n",
    "\n",
    "#load glasses blink data, 1kHz (1 ms between samples)\n",
    "blink_sess = pickle.load(open('./cleaned_data/' + SESSION + '/sessions_blink.p', 'rb'))\n",
    "\n",
    "# give some stupid FutureWarning error thanks to pandas and numpy not being in sync.\n",
    "# https://stackoverflow.com/questions/48818335/why-pandas-read-csv-issues-this-warning-elementwise-comparison-failed"
   ]
  },
  {
   "cell_type": "code",
   "execution_count": 11,
   "metadata": {},
   "outputs": [
    {
     "data": {
      "text/plain": [
       "1    809518\n",
       "0    148290\n",
       "Name: success, dtype: int64"
      ]
     },
     "execution_count": 11,
     "metadata": {},
     "output_type": "execute_result"
    }
   ],
   "source": [
    "df_vid['success'].value_counts()"
   ]
  },
  {
   "cell_type": "code",
   "execution_count": 12,
   "metadata": {},
   "outputs": [
    {
     "data": {
      "text/html": [
       "<div>\n",
       "<style scoped>\n",
       "    .dataframe tbody tr th:only-of-type {\n",
       "        vertical-align: middle;\n",
       "    }\n",
       "\n",
       "    .dataframe tbody tr th {\n",
       "        vertical-align: top;\n",
       "    }\n",
       "\n",
       "    .dataframe thead th {\n",
       "        text-align: right;\n",
       "    }\n",
       "</style>\n",
       "<table border=\"1\" class=\"dataframe\">\n",
       "  <thead>\n",
       "    <tr style=\"text-align: right;\">\n",
       "      <th></th>\n",
       "      <th>timestamp_ms</th>\n",
       "      <th>value</th>\n",
       "    </tr>\n",
       "  </thead>\n",
       "  <tbody>\n",
       "    <tr>\n",
       "      <th>0</th>\n",
       "      <td>1619629828025</td>\n",
       "      <td>253</td>\n",
       "    </tr>\n",
       "    <tr>\n",
       "      <th>1</th>\n",
       "      <td>1619629828026</td>\n",
       "      <td>253</td>\n",
       "    </tr>\n",
       "    <tr>\n",
       "      <th>2</th>\n",
       "      <td>1619629828027</td>\n",
       "      <td>253</td>\n",
       "    </tr>\n",
       "    <tr>\n",
       "      <th>3</th>\n",
       "      <td>1619629828028</td>\n",
       "      <td>124</td>\n",
       "    </tr>\n",
       "    <tr>\n",
       "      <th>4</th>\n",
       "      <td>1619629828029</td>\n",
       "      <td>116</td>\n",
       "    </tr>\n",
       "  </tbody>\n",
       "</table>\n",
       "</div>"
      ],
      "text/plain": [
       "    timestamp_ms  value\n",
       "0  1619629828025    253\n",
       "1  1619629828026    253\n",
       "2  1619629828027    253\n",
       "3  1619629828028    124\n",
       "4  1619629828029    116"
      ]
     },
     "execution_count": 12,
     "metadata": {},
     "output_type": "execute_result"
    }
   ],
   "source": [
    "blink_sess[0].head()"
   ]
  },
  {
   "cell_type": "code",
   "execution_count": 14,
   "metadata": {},
   "outputs": [],
   "source": [
    "def string_to_timestamp_ms(datestring):\n",
    "    return datetime.strptime(datestring, '%m/%d/%y %I:%M:%S%p %Z').timestamp()*1000\n",
    "\n",
    "def timestamp_ms_to_string(timestamp):\n",
    "    local_tz = datetime.now().astimezone().tzinfo\n",
    "    return datetime.fromtimestamp(timestamp/1000, tz=local_tz).strftime('%m/%d/%y %I:%M:%S%p %Z')"
   ]
  },
  {
   "cell_type": "code",
   "execution_count": 15,
   "metadata": {},
   "outputs": [],
   "source": [
    "#not going to xcorr, just align with pulses later.  We'll just copy the timestamp_ms to est_timestamp_ms\n",
    "new_df_vid = df_vid.copy()\n",
    "new_df_vid['timestamp_ms'] = df_vid['est_timestamp_ms']"
   ]
  },
  {
   "cell_type": "markdown",
   "metadata": {},
   "source": [
    "## Divide Openface Classifier Results into Sessions and Extract Blinks from the Glasses\n",
    "It turns out our face extraction from open face doesn't actually work that well, and is pretty spotty.\n",
    "\n",
    "To better assess how well we're doing with blinks, we need to chop the video data into usable sessions as well-- we'll pull sections where there are contiguous chunks of 'successful' tracking on the faces (with a minimum useful chunk of 200ms by default, and where we tolerate up to 2 consecutive dropped frames that we can interpolate).\n",
    "\n",
    "We'll use these sections for all future analysis.\n"
   ]
  },
  {
   "cell_type": "code",
   "execution_count": 97,
   "metadata": {},
   "outputs": [],
   "source": [
    "# Chop the video into useful sections based on success metric\n",
    "def print_summary(df_vid, thresh=0.3):\n",
    "    old_len = len(df_vid)\n",
    "    df_vids = len(df_vid[df_vid['success'] == 1])\n",
    "    print('Have',df_vids, 'frames considered successful, (%2.2f%%)' % (100.*df_vids/old_len))    \n",
    "    df_vidc = len(df_vid[df_vid['confidence'] >= thresh])\n",
    "    print('Have',df_vidc, 'frames above thresh of',thresh,'(%2.2f%%)' % (100.*df_vidc/old_len))\n",
    "    \n",
    "    return old_len, df_vids\n",
    "\n",
    "def get_sessions_by_success(df_vid_in, min_sess_sec=0.2, tolerate_n_dropped_frames=2):\n",
    "    sessions = []\n",
    "    min_sess_len = min_sess_sec * 60 #samples in min_sess_sec is FPS*sec\n",
    "    prev_tick = 0\n",
    "    curr_sess = pd.DataFrame()\n",
    "    \n",
    "    old_len = len(df_vid_in)\n",
    "    df_vid = df_vid_in.copy()\n",
    "    df_vid = df_vid[df_vid['success'] == 1]\n",
    "    print('Have',len(df_vid), 'frames considered successful, (%2.2f%%)' % (100.*len(df_vid)/old_len))\n",
    "    \n",
    "    #iterate over dataframe only where rows have success == 1\n",
    "    for i, row in df_vid.iterrows():\n",
    "        #when we skip a row because tracking failed, append current session\n",
    "        #if it's long enough and start a new session over\n",
    "        if row['tick_ms'] > (prev_tick + 24.5 + tolerate_n_dropped_frames*100/6.):\n",
    "            if len(curr_sess) > min_sess_len:\n",
    "                sessions.append(curr_sess)\n",
    "            del curr_sess\n",
    "            curr_sess = pd.DataFrame()\n",
    "        \n",
    "        curr_sess = curr_sess.append(row)\n",
    "        prev_tick = row['tick_ms']        \n",
    "        \n",
    "    if len(curr_sess) > min_sess_len: sessions.append(curr_sess)\n",
    "    \n",
    "    return sessions\n"
   ]
  },
  {
   "cell_type": "code",
   "execution_count": 98,
   "metadata": {},
   "outputs": [
    {
     "name": "stdout",
     "output_type": "stream",
     "text": [
      "Have 809518 frames considered successful, (84.52%)\n",
      "Have 814906 frames above thresh of 0.3 (85.08%)\n",
      "--------------------\n",
      "USING SUCCESSFUL BY OPENFACE STANDARD\n",
      "--------------------\n",
      "Have 809518 frames considered successful, (84.52%)\n",
      "found 489 sessions.\n"
     ]
    }
   ],
   "source": [
    "MIN_SEC_SESSION = 0.2\n",
    "DROP_FRAMES = 2\n",
    "\n",
    "print_summary(new_df_vid)\n",
    "print('-'*20)\n",
    "print('USING SUCCESSFUL BY OPENFACE STANDARD')\n",
    "print('-'*20)\n",
    "vid_sess = get_sessions_by_success(new_df_vid, \n",
    "                                   min_sess_sec=MIN_SEC_SESSION, \n",
    "                                   tolerate_n_dropped_frames=DROP_FRAMES)\n",
    "\n",
    "print('found',len(vid_sess),'sessions.')"
   ]
  },
  {
   "cell_type": "markdown",
   "metadata": {},
   "source": [
    "#### Save the data\n",
    "\n",
    "Given our time aligned video data and our chunks of reasonable tracking, we can save some metadata about what chunks we have and how many blinks we detect in each chunk.  This is what we'll use for ground truth."
   ]
  },
  {
   "cell_type": "code",
   "execution_count": 100,
   "metadata": {},
   "outputs": [],
   "source": [
    "def count_rising_edges(sess, column):\n",
    "    #assuming a 1/0 signal, counts transitions to 1.  Starting at 1\n",
    "    #counts as a transition.\n",
    "    prev_row, count = 0, 0\n",
    "    for i,row in sess.iterrows():\n",
    "        if row[column] == 1 and prev_row == 0: count += 1\n",
    "        prev_row = row[column]    \n",
    "    return count\n",
    "\n",
    "def count_rising_edges_list(values):\n",
    "    #assuming a 1/0 signal, counts transitions to 1.  Starting at 1\n",
    "    #counts as a transition.\n",
    "    prev_row, count = 0, 0\n",
    "    for v in values:\n",
    "        if v == 1 and prev_row == 0: count += 1\n",
    "        prev_row = v    \n",
    "    return count\n",
    "\n",
    "def rising_edge_times(sess, column, timecolumn):\n",
    "    #assuming a 1/0 signal, returns transition times. Starting at 1\n",
    "    #counts as a transition.\n",
    "    prev_row, transitions = 0, []\n",
    "    for i,row in sess.iterrows():\n",
    "        if row[column] == 1 and prev_row == 0: \n",
    "            transitions.append(row[timecolumn])\n",
    "        prev_row = row[column]    \n",
    "    return transitions"
   ]
  },
  {
   "cell_type": "code",
   "execution_count": 101,
   "metadata": {},
   "outputs": [
    {
     "name": "stdout",
     "output_type": "stream",
     "text": [
      "Have 809518 frames considered successful, (84.52%)\n",
      "Have 814906 frames above thresh of 0.3 (85.08%)\n",
      "Measured 5981 blinks.  That gives 26.59 blinks/min\n"
     ]
    }
   ],
   "source": [
    "total, successful = print_summary(df_vid, thresh=0.3)\n",
    "\n",
    "vid_meta_data = {}\n",
    "vid_meta_data['total_frames'] = total\n",
    "vid_meta_data['successful_frames'] = successful\n",
    "vid_meta_data['percent_successful'] = 100.*successful/total\n",
    "vid_meta_data['total_duration_sec'] = total/60.\n",
    "vid_meta_data['session_min_sec'] = MIN_SEC_SESSION\n",
    "vid_meta_data['session_drop_frames'] = DROP_FRAMES\n",
    "vid_meta_data['num_sessions'] = len(vid_sess)\n",
    "vid_meta_data['session_times'] = [[s['timestamp_ms'].iloc[0], s['timestamp_ms'].iloc[-1]] for s in vid_sess]\n",
    "vid_meta_data['duration_sessions_sec'] = [(s['timestamp_ms'].iloc[-1] - s['timestamp_ms'].iloc[0])/1000. for s in vid_sess]\n",
    "vid_meta_data['session_total_sec'] = sum(vid_meta_data['duration_sessions_sec'])\n",
    "vid_meta_data['blinks_per_session'] = [count_rising_edges(s, 'AU45_c') for s in vid_sess]\n",
    "vid_meta_data['blink_timestamps_per_session'] = [rising_edge_times(s, 'AU45_c', 'timestamp_ms') for s in vid_sess]\n",
    "vid_meta_data['total_blinks'] = sum(vid_meta_data['blinks_per_session'])\n",
    "vid_meta_data['blinks_per_sec'] = vid_meta_data['total_blinks'] / vid_meta_data['session_total_sec']\n",
    "\n",
    "print('Measured', vid_meta_data['total_blinks'], 'blinks.  That gives %.2f blinks/min' % (60.*vid_meta_data['blinks_per_sec']))\n",
    "\n",
    "pickle.dump(vid_meta_data, open( './cleaned_data/' + SESSION + '/video_blink_sessions.p', \"wb\" ))"
   ]
  },
  {
   "cell_type": "markdown",
   "metadata": {},
   "source": [
    "So now we have the blinks arranged in blink sessions with start/end times that we 'trust', timestamps for each blink within those sections, and \n",
    "counts for number of blinks in each session, and duration of each session.  we can use vid_meta_data from now on.\n",
    "\n",
    "We could need to debounce the extracted video data.  The timing also is not aligned automatically.\n",
    "\n",
    "For glasses blink data, we have blink_sess which is not processed.\n",
    "\n",
    "## Let's pull out all glasses blinks based on our baseline algorithm and store them as well"
   ]
  },
  {
   "cell_type": "code",
   "execution_count": 33,
   "metadata": {},
   "outputs": [],
   "source": [
    "def grab_blinks(blink_sess, thresh=0.06, blink_dur_ms=175, lpf_samples=50, dx_lpf_samples=25, reverse=False):\n",
    "    #get array of (1)timestamps of blinks, (2) [peak close velocity, peak open velocity], (3) duration\n",
    "    \n",
    "    def moving_average(x, w):\n",
    "        return np.convolve(x, np.ones(w), 'same') / w\n",
    "    \n",
    "    #step 1: LPF input, take derivative, LPF derivative\n",
    "    smooth_input = moving_average(blink_sess['value'], lpf_samples)\n",
    "    dx = np.append([np.nan], np.diff(smooth_input))\n",
    "    smooth_dx = moving_average(dx, dx_lpf_samples)\n",
    "    df_results = pd.DataFrame({'timestamp_ms':blink_sess['timestamp_ms'], 'dx':smooth_dx})\n",
    "    \n",
    "    #step 2, apply threshold\n",
    "    if reverse:\n",
    "        decision = (smooth_dx > thresh)\n",
    "    else:\n",
    "        decision = (smooth_dx < -1*thresh)\n",
    "\n",
    "    plt.plot(df_results['timestamp_ms'], df_results['dx'])\n",
    "    plt.plot(df_results['timestamp_ms'], decision)\n",
    "    plt.show()\n",
    "    #step 3, use this thresholded value to decide if we are blinking subject to debounce.\n",
    "    #grab the blink time. within the bounds of the blink, find the duration and peak velocities using the derivative.\n",
    "    df_blinks = pd.DataFrame()\n",
    "    samples_per_blink = int(blink_dur_ms)  # happen to sample at 1kHz so 1 sample == 1 ms\n",
    "    samples_blink_debounce = int(samples_per_blink/2)\n",
    "    i, blinkrow = 0, {}\n",
    "    while i<len(decision):\n",
    "        if decision[i]: #we have a blink\n",
    "            blinkrow['timestamp_ms'] = df_results['timestamp_ms'].iloc[i] #timestamp of this blink\n",
    "            \n",
    "            df_thisblink = df_results.iloc[i:i+samples_per_blink] #grab the data associated with this blink\n",
    "            if reverse:\n",
    "                max_close = df_thisblink[df_thisblink['dx'] == df_thisblink['dx'].max()]\n",
    "                max_open  = df_thisblink[df_thisblink['dx'] == df_thisblink['dx'].min()]\n",
    "            else:\n",
    "                max_close = df_thisblink[df_thisblink['dx'] == df_thisblink['dx'].min()]\n",
    "                max_open  = df_thisblink[df_thisblink['dx'] == df_thisblink['dx'].max()]\n",
    "            \n",
    "            blinkrow['vel_close'] = abs(max_close['dx'].iloc[0]) #peak close velocity\n",
    "            blinkrow['vel_open']  = abs(max_open['dx'].iloc[-1]) #peak open velocity\n",
    "            blinkrow['duration_ms'] = max_open['timestamp_ms'].iloc[-1] - max_close['timestamp_ms'].iloc[0] #duration\n",
    "            \n",
    "            df_blinks = df_blinks.append(blinkrow, ignore_index=True)\n",
    "            i += samples_blink_debounce #move ahead debounce samples before checking for blinks again\n",
    "        else: i += 1\n",
    "            \n",
    "    return df_blinks\n",
    "\n",
    "def get_all_blink_sessions(blink_sessions, thresh=0.06, blink_dur_ms=250, lpf_samples=50, dx_lpf_samples=25, reverse=False):\n",
    "    \n",
    "    df_result = pd.DataFrame()\n",
    "    for sess in blink_sessions:\n",
    "        df_blinks = grab_blinks(sess,\n",
    "                                thresh=thresh, \n",
    "                                blink_dur_ms=blink_dur_ms, \n",
    "                                lpf_samples=lpf_samples, \n",
    "                                dx_lpf_samples=dx_lpf_samples, \n",
    "                                reverse=reverse)\n",
    "        df_result = df_result.append(df_blinks, ignore_index=True)\n",
    "        \n",
    "    return df_result"
   ]
  },
  {
   "cell_type": "code",
   "execution_count": 34,
   "metadata": {},
   "outputs": [
    {
     "data": {
      "image/png": "[encoded data removed]",
      "text/plain": [
       "<Figure size 432x288 with 1 Axes>"
      ]
     },
     "metadata": {
      "needs_background": "light"
     },
     "output_type": "display_data"
    }
   ],
   "source": [
    "df_all_glasses_blinks = get_all_blink_sessions(blink_sess)\n",
    "pickle.dump(df_all_glasses_blinks, open( './cleaned_data/' + SESSION + '/glasses_all_blink_timestamps_uncorrected.p', \"wb\" ))"
   ]
  },
  {
   "cell_type": "code",
   "execution_count": 38,
   "metadata": {},
   "outputs": [],
   "source": [
    "#STREAM A SECTION OF VIDEO WITH A DF OVERLAY OF BLINK TIMES\n",
    "\n",
    "#show video with overlay of a df with timestamps and an offset so we can manually check blink alignment of both the video DF and our video analysis DF\n",
    "#above we were aligning the video to the glasses; here we'll align our glasses to the video\n",
    "\n",
    "#lets just do everything in minutes like we were doing in the above\n",
    "def stream_with_blink_data_overlay(video_filename, blinktime_list_ms, video_start_timestamp_ms, start_time_min, end_time_min, ms_offset=0, fps=59.94, plot_blinksig=False):\n",
    "\n",
    "    start_frame = int(start_time_min*60*fps)\n",
    "    end_frame = int(end_time_min*60*fps)\n",
    "    \n",
    "    print(start_frame)\n",
    "    print(end_frame)\n",
    "    #blink times to frame list:\n",
    "    stream_starttime_sec = video_start_timestamp_ms/1000. + start_frame/fps\n",
    "    blink_duration_sec = 0.2 # how long to show it on screen; make sure if it's a new blink we put a 0 in between\n",
    "    frame_duration_sec = 1/fps #time between frames in sec\n",
    "    \n",
    "    #make array of proper length full of zeros\n",
    "    blink_sig = np.zeros(end_frame-start_frame)\n",
    "    \n",
    "    #whenever we have a blink, put ones in there for blink_dur frames.  Make sure the sample before that blink is zero\n",
    "    for btime in blinktime_list_ms:\n",
    "        btime_sec_stream = ((btime+ms_offset)/1000.)-stream_starttime_sec\n",
    "        if -blink_duration_sec < btime_sec_stream < (end_time_min-start_time_min)*60:\n",
    "            bframe = int(btime_sec_stream*fps)\n",
    "            print((btime/1000), bframe)\n",
    "            \n",
    "            if bframe < 1:\n",
    "                blink_sig[0:bframe+int(blink_duration_sec*fps)] = 1\n",
    "            elif bframe+int(blink_duration_sec*fps) > len(blink_sig):\n",
    "                blink_sig[bframe-1] = 0  \n",
    "                blink_sig[bframe:-1] = 1\n",
    "            else:\n",
    "                blink_sig[bframe-1] = 0  \n",
    "                blink_sig[bframe:bframe+int(blink_duration_sec*fps)] = 1\n",
    "                \n",
    "    if plot_blinksig:\n",
    "        fig, ax = plt.subplots(figsize=(20,4))\n",
    "        plt.plot(blink_sig)\n",
    "        plt.title('blink signal') \n",
    "        plt.show()\n",
    "     \n",
    "    WINDOW_NAME = 'blink_window'\n",
    "    cv2.namedWindow(WINDOW_NAME, cv2.WINDOW_AUTOSIZE)\n",
    "    cv2.startWindowThread()\n",
    "\n",
    "    vs = cv2.VideoCapture(video_filename)\n",
    "    vs.set(cv2.CAP_PROP_POS_FRAMES, start_frame-1)\n",
    "    time.sleep(1.0)\n",
    "    \n",
    "\n",
    "    prev_frame, blink_count = 0, 0\n",
    "    for fno in range(0, end_frame-start_frame):\n",
    "        _, frame = vs.read()  \n",
    "        #frame = imutils.resize(frame, width=480)\n",
    "    \n",
    "        if not fno:\n",
    "            os.system('''/usr/bin/osascript -e 'tell app \"Finder\" to set frontmost of process \"Python\" to true' ''') \n",
    "    \n",
    "        if blink_sig[fno] and not prev_frame:\n",
    "            blink_count += 1\n",
    "            \n",
    "        \n",
    "        cv2.putText(frame, \"COUNT: %d\"%(blink_count), (20, 30),\n",
    "            cv2.FONT_HERSHEY_SIMPLEX, 0.7, (0, 0, 255), 2)\n",
    "       \n",
    "        if blink_sig[fno]:\n",
    "            cv2.putText(frame, \"BLINKING NOW!!!!!!\", (300, 30),\n",
    "                cv2.FONT_HERSHEY_SIMPLEX, 0.7, (0, 0, 255), 2)\n",
    "\n",
    "        # show the frame\n",
    "        cv2.imshow(WINDOW_NAME, frame)\n",
    "        key = cv2.waitKey(1) & 0xFF\n",
    "\n",
    "        prev_frame = blink_sig[fno]\n",
    "        \n",
    "        # if the `q` key was pressed, break from the loop\n",
    "        if key == ord(\"q\"):\n",
    "            break\n",
    "\n",
    "    # do a bit of cleanup\n",
    "    cv2.waitKey(1)\n",
    "    cv2.destroyAllWindows()\n",
    "    cv2.waitKey(1)\n",
    "    \n",
    "    os.system('''/usr/bin/osascript -e 'tell app \"Finder\" to set frontmost of process \"Chrome\" to true' ''') \n",
    "    \n",
    "    \n",
    "def try_offsets_and_overlay(video_filename, blinktime_list_ms, video_start_timestamp_ms, start_time_min, end_time_min):\n",
    "    ms_offset = int(input('enter a MS offset:'))\n",
    "    first = True\n",
    "    while True:\n",
    "        stream_with_blink_data_overlay(video_filename, \n",
    "                               blinktime_list_ms, \n",
    "                               video_start_timestamp_ms, \n",
    "                               start_time_min, \n",
    "                               end_time_min,\n",
    "                               ms_offset,\n",
    "                               plot_blinksig=first)\n",
    "        first = False\n",
    "        \n",
    "        cont = input('enter new MS offset or q to exit')\n",
    "        \n",
    "        if str(cont) == 'q':\n",
    "            print('best offset = ', ms_offset)\n",
    "            return ms_offset\n",
    "        \n",
    "        ms_offset = int(cont)"
   ]
  },
  {
   "cell_type": "code",
   "execution_count": 30,
   "metadata": {},
   "outputs": [
    {
     "name": "stdout",
     "output_type": "stream",
     "text": [
      "session # 162 of 489\n",
      "duration: 684.116 sec\n",
      "blinks: 325\n"
     ]
    },
    {
     "name": "stdin",
     "output_type": "stream",
     "text": [
      "enter a MS offset: 0\n"
     ]
    },
    {
     "name": "stdout",
     "output_type": "stream",
     "text": [
      "253769\n",
      "257366\n",
      "1619634034.63 54\n",
      "1619634037.483 225\n",
      "1619634039.969 374\n",
      "1619634047.276 812\n",
      "1619634049.395 939\n",
      "1619634053.783 1202\n",
      "1619634056.519 1366\n",
      "1619634058.204 1467\n",
      "1619634064.594 1850\n",
      "1619634065.661 1914\n",
      "1619634067.48 2023\n",
      "1619634069.632 2152\n",
      "1619634072.101 2300\n",
      "1619634072.835 2344\n",
      "1619634075.304 2492\n",
      "1619634075.738 2518\n",
      "1619634076.038 2536\n",
      "1619634076.289 2551\n",
      "1619634077.223 2607\n",
      "1619634079.909 2768\n",
      "1619634081.344 2854\n",
      "1619634084.28 3030\n",
      "1619634085.882 3126\n",
      "1619634086.549 3166\n",
      "1619634087.25 3208\n",
      "1619634089.919 3368\n",
      "1619634090.72 3416\n",
      "1619634091.687 3474\n",
      "1619634092.271 3509\n",
      "1619634092.438 3519\n"
     ]
    },
    {
     "data": {
      "image/png": "[encoded data removed]",
      "text/plain": [
       "<Figure size 1440x288 with 1 Axes>"
      ]
     },
     "metadata": {
      "needs_background": "light"
     },
     "output_type": "display_data"
    },
    {
     "name": "stdin",
     "output_type": "stream",
     "text": [
      "enter new MS offset or q to exit q\n"
     ]
    },
    {
     "name": "stdout",
     "output_type": "stream",
     "text": [
      "best offset =  0\n",
      "session # 420 of 489\n",
      "duration: 534.467 sec\n",
      "blinks: 278\n"
     ]
    },
    {
     "name": "stdin",
     "output_type": "stream",
     "text": [
      "enter a MS offset: q\n"
     ]
    },
    {
     "ename": "ValueError",
     "evalue": "invalid literal for int() with base 10: 'q'",
     "output_type": "error",
     "traceback": [
      "\u001b[0;31m---------------------------------------------------------------------------\u001b[0m",
      "\u001b[0;31mValueError\u001b[0m                                Traceback (most recent call last)",
      "\u001b[0;32m<ipython-input-30-f3e6aa773599>\u001b[0m in \u001b[0;36m<module>\u001b[0;34m\u001b[0m\n\u001b[1;32m     13\u001b[0m     \u001b[0mprint\u001b[0m\u001b[0;34m(\u001b[0m\u001b[0;34m'blinks:'\u001b[0m\u001b[0;34m,\u001b[0m \u001b[0mvid_meta_data\u001b[0m\u001b[0;34m[\u001b[0m\u001b[0;34m'blinks_per_session'\u001b[0m\u001b[0;34m]\u001b[0m\u001b[0;34m[\u001b[0m\u001b[0mSESS_NUM\u001b[0m\u001b[0;34m]\u001b[0m\u001b[0;34m)\u001b[0m\u001b[0;34m\u001b[0m\u001b[0;34m\u001b[0m\u001b[0m\n\u001b[1;32m     14\u001b[0m \u001b[0;34m\u001b[0m\u001b[0m\n\u001b[0;32m---> 15\u001b[0;31m     optimal_offset = try_offsets_and_overlay('/Volumes/ExtDrive_(ResEnv)/data_cap_val_2/' + SESSION + '/video_crop_1.mp4',  #/openface/video_adobe.mp4\n\u001b[0m\u001b[1;32m     16\u001b[0m                                \u001b[0mvid_meta_data\u001b[0m\u001b[0;34m[\u001b[0m\u001b[0;34m'blink_timestamps_per_session'\u001b[0m\u001b[0;34m]\u001b[0m\u001b[0;34m[\u001b[0m\u001b[0mSESS_NUM\u001b[0m\u001b[0;34m]\u001b[0m\u001b[0;34m,\u001b[0m                   \u001b[0;31m#list of blink times in clip\u001b[0m\u001b[0;34m\u001b[0m\u001b[0;34m\u001b[0m\u001b[0m\n\u001b[1;32m     17\u001b[0m                                \u001b[0mvid_start_timestamp\u001b[0m\u001b[0;34m,\u001b[0m                                                       \u001b[0;31m#start timestamp of video\u001b[0m\u001b[0;34m\u001b[0m\u001b[0;34m\u001b[0m\u001b[0m\n",
      "\u001b[0;32m<ipython-input-29-061fdd21e63a>\u001b[0m in \u001b[0;36mtry_offsets_and_overlay\u001b[0;34m(video_filename, blinktime_list_ms, video_start_timestamp_ms, start_time_min, end_time_min)\u001b[0m\n\u001b[1;32m     89\u001b[0m \u001b[0;34m\u001b[0m\u001b[0m\n\u001b[1;32m     90\u001b[0m \u001b[0;32mdef\u001b[0m \u001b[0mtry_offsets_and_overlay\u001b[0m\u001b[0;34m(\u001b[0m\u001b[0mvideo_filename\u001b[0m\u001b[0;34m,\u001b[0m \u001b[0mblinktime_list_ms\u001b[0m\u001b[0;34m,\u001b[0m \u001b[0mvideo_start_timestamp_ms\u001b[0m\u001b[0;34m,\u001b[0m \u001b[0mstart_time_min\u001b[0m\u001b[0;34m,\u001b[0m \u001b[0mend_time_min\u001b[0m\u001b[0;34m)\u001b[0m\u001b[0;34m:\u001b[0m\u001b[0;34m\u001b[0m\u001b[0;34m\u001b[0m\u001b[0m\n\u001b[0;32m---> 91\u001b[0;31m     \u001b[0mms_offset\u001b[0m \u001b[0;34m=\u001b[0m \u001b[0mint\u001b[0m\u001b[0;34m(\u001b[0m\u001b[0minput\u001b[0m\u001b[0;34m(\u001b[0m\u001b[0;34m'enter a MS offset:'\u001b[0m\u001b[0;34m)\u001b[0m\u001b[0;34m)\u001b[0m\u001b[0;34m\u001b[0m\u001b[0;34m\u001b[0m\u001b[0m\n\u001b[0m\u001b[1;32m     92\u001b[0m     \u001b[0mfirst\u001b[0m \u001b[0;34m=\u001b[0m \u001b[0;32mTrue\u001b[0m\u001b[0;34m\u001b[0m\u001b[0;34m\u001b[0m\u001b[0m\n\u001b[1;32m     93\u001b[0m     \u001b[0;32mwhile\u001b[0m \u001b[0;32mTrue\u001b[0m\u001b[0;34m:\u001b[0m\u001b[0;34m\u001b[0m\u001b[0;34m\u001b[0m\u001b[0m\n",
      "\u001b[0;31mValueError\u001b[0m: invalid literal for int() with base 10: 'q'"
     ]
    }
   ],
   "source": [
    "#pick a vid_session and overlay df, see if it looks right!\n",
    "\n",
    "vid_start_timestamp = string_to_timestamp_ms(s_meta['vid_start'])\n",
    "\n",
    "#pick the longest 4 to watch\n",
    "NUM_SESS_TO_WATCH = 4\n",
    "\n",
    "indices = (-np.array(vid_meta_data['duration_sessions_sec'])).argsort()[:NUM_SESS_TO_WATCH]\n",
    "for SESS_NUM in indices:\n",
    "\n",
    "    print('session #', SESS_NUM, 'of', vid_meta_data['num_sessions'])\n",
    "    print('duration:', vid_meta_data['duration_sessions_sec'][SESS_NUM],'sec')\n",
    "    print('blinks:', vid_meta_data['blinks_per_session'][SESS_NUM])\n",
    "\n",
    "    optimal_offset = try_offsets_and_overlay('/Volumes/ExtDrive_(ResEnv)/data_cap_val_2/' + SESSION + '/video_crop_1.mp4',  #/openface/video_adobe.mp4\n",
    "                               vid_meta_data['blink_timestamps_per_session'][SESS_NUM],                   #list of blink times in clip\n",
    "                               vid_start_timestamp,                                                       #start timestamp of video\n",
    "                               (vid_meta_data['session_times'][SESS_NUM][0]-vid_start_timestamp)/60000.0, #start timestamp of clip we're watching in min from start\n",
    "                               (vid_meta_data['session_times'][SESS_NUM][0]-vid_start_timestamp + 60*1000)/60000.0) #end timestamp of clip we're watching in min from start\n",
    "                               #(vid_meta_data['session_times'][SESS_NUM][1]-vid_start_timestamp)/60000.0) #end timestamp of clip we're watching in min from start"
   ]
  },
  {
   "cell_type": "code",
   "execution_count": 71,
   "metadata": {},
   "outputs": [
    {
     "name": "stdout",
     "output_type": "stream",
     "text": [
      "session # 162 of 489\n",
      "duration: 684.116 sec\n",
      "blinks: 325\n"
     ]
    },
    {
     "name": "stdin",
     "output_type": "stream",
     "text": [
      "enter a MS offset: -4330\n"
     ]
    },
    {
     "name": "stdout",
     "output_type": "stream",
     "text": [
      "253769\n",
      "257366\n",
      "1619634038.114 4\n",
      "1619634040.6 153\n",
      "1619634040.858 168\n",
      "1619634042.076 241\n",
      "1619634044.304 375\n",
      "1619634044.648 395\n",
      "1619634046.761 522\n",
      "1619634050.514 747\n",
      "1619634050.961 774\n",
      "1619634051.576 810\n",
      "1619634052.198 848\n",
      "1619634053.696 937\n",
      "1619634054.902 1010\n",
      "1619634056.526 1107\n",
      "1619634058.083 1200\n",
      "1619634060.833 1365\n",
      "1619634062.497 1465\n",
      "1619634069.952 1912\n",
      "1619634071.781 2022\n",
      "1619634073.924 2150\n",
      "1619634076.411 2299\n",
      "1619634077.126 2342\n",
      "1619634079.621 2491\n",
      "1619634081.527 2606\n",
      "1619634084.202 2766\n",
      "1619634085.652 2853\n",
      "1619634088.579 3028\n",
      "1619634090.185 3125\n",
      "1619634090.861 3165\n",
      "1619634091.563 3207\n",
      "1619634092.222 3247\n",
      "1619634094.226 3367\n",
      "1619634095.02 3414\n",
      "1619634095.989 3473\n"
     ]
    },
    {
     "data": {
      "image/png": "[encoded data removed]",
      "text/plain": [
       "<Figure size 1440x288 with 1 Axes>"
      ]
     },
     "metadata": {
      "needs_background": "light"
     },
     "output_type": "display_data"
    },
    {
     "ename": "KeyboardInterrupt",
     "evalue": "Interrupted by user",
     "output_type": "error",
     "traceback": [
      "\u001b[0;31m---------------------------------------------------------------------------\u001b[0m",
      "\u001b[0;31mKeyboardInterrupt\u001b[0m                         Traceback (most recent call last)",
      "\u001b[0;32m<ipython-input-71-cfe29c3bb3ce>\u001b[0m in \u001b[0;36m<module>\u001b[0;34m\u001b[0m\n\u001b[1;32m     11\u001b[0m     \u001b[0mprint\u001b[0m\u001b[0;34m(\u001b[0m\u001b[0;34m'blinks:'\u001b[0m\u001b[0;34m,\u001b[0m \u001b[0mvid_meta_data\u001b[0m\u001b[0;34m[\u001b[0m\u001b[0;34m'blinks_per_session'\u001b[0m\u001b[0;34m]\u001b[0m\u001b[0;34m[\u001b[0m\u001b[0mSESS_NUM\u001b[0m\u001b[0;34m]\u001b[0m\u001b[0;34m)\u001b[0m\u001b[0;34m\u001b[0m\u001b[0;34m\u001b[0m\u001b[0m\n\u001b[1;32m     12\u001b[0m \u001b[0;34m\u001b[0m\u001b[0m\n\u001b[0;32m---> 13\u001b[0;31m     optimal_offset = try_offsets_and_overlay('/Volumes/ExtDrive_(ResEnv)/data_cap_val_2/' + SESSION + '/video_crop_1.mp4',  #/openface/video_adobe.mp4\n\u001b[0m\u001b[1;32m     14\u001b[0m                                \u001b[0mdf_all_glasses_blinks\u001b[0m\u001b[0;34m[\u001b[0m\u001b[0;34m'timestamp_ms'\u001b[0m\u001b[0;34m]\u001b[0m\u001b[0;34m.\u001b[0m\u001b[0mvalues\u001b[0m\u001b[0;34m,\u001b[0m                              \u001b[0;31m#list of blink times in clip\u001b[0m\u001b[0;34m\u001b[0m\u001b[0;34m\u001b[0m\u001b[0m\n\u001b[1;32m     15\u001b[0m                                \u001b[0mvid_start_timestamp\u001b[0m\u001b[0;34m,\u001b[0m                                                       \u001b[0;31m#start timestamp of video\u001b[0m\u001b[0;34m\u001b[0m\u001b[0;34m\u001b[0m\u001b[0m\n",
      "\u001b[0;32m<ipython-input-38-061fdd21e63a>\u001b[0m in \u001b[0;36mtry_offsets_and_overlay\u001b[0;34m(video_filename, blinktime_list_ms, video_start_timestamp_ms, start_time_min, end_time_min)\u001b[0m\n\u001b[1;32m    101\u001b[0m         \u001b[0mfirst\u001b[0m \u001b[0;34m=\u001b[0m \u001b[0;32mFalse\u001b[0m\u001b[0;34m\u001b[0m\u001b[0;34m\u001b[0m\u001b[0m\n\u001b[1;32m    102\u001b[0m \u001b[0;34m\u001b[0m\u001b[0m\n\u001b[0;32m--> 103\u001b[0;31m         \u001b[0mcont\u001b[0m \u001b[0;34m=\u001b[0m \u001b[0minput\u001b[0m\u001b[0;34m(\u001b[0m\u001b[0;34m'enter new MS offset or q to exit'\u001b[0m\u001b[0;34m)\u001b[0m\u001b[0;34m\u001b[0m\u001b[0;34m\u001b[0m\u001b[0m\n\u001b[0m\u001b[1;32m    104\u001b[0m \u001b[0;34m\u001b[0m\u001b[0m\n\u001b[1;32m    105\u001b[0m         \u001b[0;32mif\u001b[0m \u001b[0mstr\u001b[0m\u001b[0;34m(\u001b[0m\u001b[0mcont\u001b[0m\u001b[0;34m)\u001b[0m \u001b[0;34m==\u001b[0m \u001b[0;34m'q'\u001b[0m\u001b[0;34m:\u001b[0m\u001b[0;34m\u001b[0m\u001b[0;34m\u001b[0m\u001b[0m\n",
      "\u001b[0;32m/usr/local/lib/python3.9/site-packages/ipykernel/kernelbase.py\u001b[0m in \u001b[0;36mraw_input\u001b[0;34m(self, prompt)\u001b[0m\n\u001b[1;32m    846\u001b[0m                 \u001b[0;34m\"raw_input was called, but this frontend does not support input requests.\"\u001b[0m\u001b[0;34m\u001b[0m\u001b[0;34m\u001b[0m\u001b[0m\n\u001b[1;32m    847\u001b[0m             )\n\u001b[0;32m--> 848\u001b[0;31m         return self._input_request(str(prompt),\n\u001b[0m\u001b[1;32m    849\u001b[0m             \u001b[0mself\u001b[0m\u001b[0;34m.\u001b[0m\u001b[0m_parent_ident\u001b[0m\u001b[0;34m,\u001b[0m\u001b[0;34m\u001b[0m\u001b[0;34m\u001b[0m\u001b[0m\n\u001b[1;32m    850\u001b[0m             \u001b[0mself\u001b[0m\u001b[0;34m.\u001b[0m\u001b[0m_parent_header\u001b[0m\u001b[0;34m,\u001b[0m\u001b[0;34m\u001b[0m\u001b[0;34m\u001b[0m\u001b[0m\n",
      "\u001b[0;32m/usr/local/lib/python3.9/site-packages/ipykernel/kernelbase.py\u001b[0m in \u001b[0;36m_input_request\u001b[0;34m(self, prompt, ident, parent, password)\u001b[0m\n\u001b[1;32m    890\u001b[0m             \u001b[0;32mexcept\u001b[0m \u001b[0mKeyboardInterrupt\u001b[0m\u001b[0;34m:\u001b[0m\u001b[0;34m\u001b[0m\u001b[0;34m\u001b[0m\u001b[0m\n\u001b[1;32m    891\u001b[0m                 \u001b[0;31m# re-raise KeyboardInterrupt, to truncate traceback\u001b[0m\u001b[0;34m\u001b[0m\u001b[0;34m\u001b[0m\u001b[0;34m\u001b[0m\u001b[0m\n\u001b[0;32m--> 892\u001b[0;31m                 \u001b[0;32mraise\u001b[0m \u001b[0mKeyboardInterrupt\u001b[0m\u001b[0;34m(\u001b[0m\u001b[0;34m\"Interrupted by user\"\u001b[0m\u001b[0;34m)\u001b[0m \u001b[0;32mfrom\u001b[0m \u001b[0;32mNone\u001b[0m\u001b[0;34m\u001b[0m\u001b[0;34m\u001b[0m\u001b[0m\n\u001b[0m\u001b[1;32m    893\u001b[0m             \u001b[0;32mexcept\u001b[0m \u001b[0mException\u001b[0m \u001b[0;32mas\u001b[0m \u001b[0me\u001b[0m\u001b[0;34m:\u001b[0m\u001b[0;34m\u001b[0m\u001b[0;34m\u001b[0m\u001b[0m\n\u001b[1;32m    894\u001b[0m                 \u001b[0mself\u001b[0m\u001b[0;34m.\u001b[0m\u001b[0mlog\u001b[0m\u001b[0;34m.\u001b[0m\u001b[0mwarning\u001b[0m\u001b[0;34m(\u001b[0m\u001b[0;34m\"Invalid Message:\"\u001b[0m\u001b[0;34m,\u001b[0m \u001b[0mexc_info\u001b[0m\u001b[0;34m=\u001b[0m\u001b[0;32mTrue\u001b[0m\u001b[0;34m)\u001b[0m\u001b[0;34m\u001b[0m\u001b[0;34m\u001b[0m\u001b[0m\n",
      "\u001b[0;31mKeyboardInterrupt\u001b[0m: Interrupted by user"
     ]
    }
   ],
   "source": [
    "#Let's try the same thing with the glasses data\n",
    "\n",
    "#pick the longest 4 to watch\n",
    "NUM_SESS_TO_WATCH = 4\n",
    "\n",
    "indices = (-np.array(vid_meta_data['duration_sessions_sec'])).argsort()[:NUM_SESS_TO_WATCH]\n",
    "for SESS_NUM in indices:\n",
    "\n",
    "    print('session #', SESS_NUM, 'of', vid_meta_data['num_sessions'])\n",
    "    print('duration:', vid_meta_data['duration_sessions_sec'][SESS_NUM],'sec')\n",
    "    print('blinks:', vid_meta_data['blinks_per_session'][SESS_NUM])\n",
    "\n",
    "    optimal_offset = try_offsets_and_overlay('/Volumes/ExtDrive_(ResEnv)/data_cap_val_2/' + SESSION + '/video_crop_1.mp4',  #/openface/video_adobe.mp4\n",
    "                               df_all_glasses_blinks['timestamp_ms'].values,                              #list of blink times in clip\n",
    "                               vid_start_timestamp,                                                       #start timestamp of video\n",
    "                               (vid_meta_data['session_times'][SESS_NUM][0]-vid_start_timestamp)/60000.0, #start timestamp of clip we're watching in min from start\n",
    "                               (vid_meta_data['session_times'][SESS_NUM][0]-vid_start_timestamp + 60*1000)/60000.0) #end timestamp of clip we're watching in min from start\n",
    "                               #(vid_meta_data['session_times'][SESS_NUM][1]-vid_start_timestamp)/60000.0) #end timestamp of clip we're watching in min from start"
   ]
  },
  {
   "cell_type": "markdown",
   "metadata": {},
   "source": [
    "### there is a clear alignment between the two above; we need to move the glasses data earlier in time by about 300 frames, or 200/59.94 =  -4 sec (4250ms)\n",
    "\n",
    "Let's bound our search between -4 and -5 ms offset applied to the glasses df"
   ]
  },
  {
   "cell_type": "code",
   "execution_count": 58,
   "metadata": {},
   "outputs": [],
   "source": [
    "#now lets align and retest\n",
    "flatten = lambda t: [item for sublist in t for item in sublist]\n",
    "\n",
    "def debounce_data(list_of_times, debounce_dur_ms=150):\n",
    "    \n",
    "    indices_to_remove = []\n",
    "    for i in range(1, len(list_of_times)):\n",
    "        if list_of_times[i-1] >= list_of_times[i] - debounce_dur_ms:\n",
    "            indices_to_remove.append(i)\n",
    "\n",
    "    for index in sorted(indices_to_remove, reverse=True):\n",
    "        del list_of_times[index]\n",
    "        \n",
    "    return list_of_times\n",
    "\n",
    "def chop_times(list_of_times, min_time, max_time):\n",
    "    return [c for c in list_of_times if min_time < c < max_time]\n",
    "\n",
    "\n",
    "#we want to sweep the glasses data over the video data; we want to only consider a smaller section of the glasses data than video data,\n",
    "#and only use one section where we know the video data is complete and doesn't have holes.  These areas of holes or more/less blinks \n",
    "#around the edges of our xcorr can mess up the calculation\n",
    "\n",
    "def get_optimal_offset(g_times, v_times, offset_lower_ms, offset_higher_ms, step_ms, thresh_ms): \n",
    "\n",
    "    #seems to be fine, need to discount all video blinks not in glasses range, but in from both sides by 2*s_meta['start_error_sec']*1000\n",
    "    #df_blink only has a few blinks in it-- short session?  Need all blinks\n",
    "\n",
    "    \n",
    "    print('pruning g_times for alignment',len(g_times))\n",
    "    g_times = chop_times(g_times, v_times[0]+offset_lower_ms, v_times[-1]-offset_higher_ms)\n",
    "    \n",
    "    errors = []\n",
    "    #move through all offsets we can think about, brute force\n",
    "    best_offset, min_error = None, None \n",
    "    for offset in range(offset_lower_ms, offset_higher_ms, step_ms):\n",
    "        offset_error = 0\n",
    "        curr_index = 0\n",
    "\n",
    "        for gtime in g_times:\n",
    "            while v_times[curr_index] <= (gtime+offset):\n",
    "                if curr_index==(len(v_times)-1): break\n",
    "                curr_index+=1\n",
    "            \n",
    "            if curr_index == 0:\n",
    "                curr_err = abs((gtime+offset)-v_times[0])\n",
    "            elif curr_index == len(v_times)-1:\n",
    "                curr_err = min(abs((gtime+offset)-v_times[curr_index-1]), abs(v_times[curr_index]-(gtime+offset)))   \n",
    "            else:\n",
    "                curr_err = min((gtime+offset)-v_times[curr_index-1], v_times[curr_index]-(gtime+offset))\n",
    "\n",
    "            if curr_err < thresh_ms: curr_err = 0\n",
    "            offset_error += curr_err\n",
    "            #print('curr, accum err:',curr_err, offset_error)\n",
    "        \n",
    "        errors.append(offset_error)\n",
    "        \n",
    "        if best_offset is None:\n",
    "            best_offset = [offset]\n",
    "            min_error = offset_error\n",
    "        elif offset_error < min_error:\n",
    "            #print('new min!')\n",
    "            best_offset = [offset]\n",
    "            min_error = offset_error\n",
    "            #print(min_error, best_offset)\n",
    "        elif offset_error == min_error:\n",
    "            print('shared min!')\n",
    "            best_offset.append(offset)\n",
    "            print(min_error, best_offset)\n",
    "        \n",
    "    fig, ax = plt.subplots(figsize=(20,4))\n",
    "    plt.plot(range(offset_lower_ms, offset_higher_ms, step_ms), errors)\n",
    "    plt.title('xcorr of offsets') \n",
    "    plt.show()    \n",
    "    \n",
    "    return best_offset"
   ]
  },
  {
   "cell_type": "code",
   "execution_count": 59,
   "metadata": {},
   "outputs": [
    {
     "name": "stdout",
     "output_type": "stream",
     "text": [
      "pruning g_times for alignment 7607\n"
     ]
    },
    {
     "data": {
      "image/png": "[encoded data removed]",
      "text/plain": [
       "<Figure size 1440x288 with 1 Axes>"
      ]
     },
     "metadata": {
      "needs_background": "light"
     },
     "output_type": "display_data"
    },
    {
     "name": "stdout",
     "output_type": "stream",
     "text": [
      "optimal offset with thresh of 75 ms:\n",
      "[-4330]\n"
     ]
    }
   ],
   "source": [
    "MIN_ALIGN_ERROR = -5000\n",
    "MAX_ALIGN_ERROR = -4000\n",
    "\n",
    "#get blink times of longest video section we trust\n",
    "indices = (-np.array(vid_meta_data['duration_sessions_sec'])).argsort()[0]\n",
    "v_times = vid_meta_data['blink_timestamps_per_session'][indices]\n",
    "v_times = debounce_data(v_times)\n",
    "\n",
    "#just pull g_times into a list\n",
    "g_times = df_all_glasses_blinks['timestamp_ms'].values\n",
    "best_offset = get_optimal_offset(g_times, v_times, MIN_ALIGN_ERROR, MAX_ALIGN_ERROR, 10, 75)\n",
    "print('optimal offset with thresh of 75 ms:')\n",
    "print(best_offset)"
   ]
  },
  {
   "cell_type": "code",
   "execution_count": null,
   "metadata": {},
   "outputs": [],
   "source": [
    "pickle.dump(best_offset[0], open( './cleaned_data/' + SESSION + '/best_offset.p', \"wb\" ))"
   ]
  },
  {
   "cell_type": "code",
   "execution_count": null,
   "metadata": {},
   "outputs": [],
   "source": []
  }
 ],
 "metadata": {
  "kernelspec": {
   "display_name": "Python 3",
   "language": "python",
   "name": "python3"
  },
  "language_info": {
   "codemirror_mode": {
    "name": "ipython",
    "version": 3
   },
   "file_extension": ".py",
   "mimetype": "text/x-python",
   "name": "python",
   "nbconvert_exporter": "python",
   "pygments_lexer": "ipython3",
   "version": "3.9.4"
  }
 },
 "nbformat": 4,
 "nbformat_minor": 2
}
