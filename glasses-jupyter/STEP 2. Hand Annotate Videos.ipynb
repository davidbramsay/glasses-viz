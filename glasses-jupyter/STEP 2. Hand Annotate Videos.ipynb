{
 "cells": [
  {
   "cell_type": "code",
   "execution_count": 1,
   "metadata": {},
   "outputs": [],
   "source": [
    "import json\n",
    "from datetime import datetime , timezone\n",
    "import time\n",
    "import numpy as np\n",
    "import codecs\n",
    "import struct\n",
    "import matplotlib.pyplot as plt\n",
    "import pandas as pd\n",
    "import pickle\n",
    "import pycorrelate\n",
    "import collections\n",
    "import itertools\n",
    "from mpl_toolkits import mplot3d\n",
    "import cv2\n",
    "import imutils\n",
    "import os\n",
    "\n",
    "pd.set_option('display.max_rows', 1000)\n",
    "%matplotlib inline"
   ]
  },
  {
   "cell_type": "markdown",
   "metadata": {},
   "source": [
    "### 1. Pick a session to work with!"
   ]
  },
  {
   "cell_type": "code",
   "execution_count": 2,
   "metadata": {},
   "outputs": [
    {
     "name": "stdout",
     "output_type": "stream",
     "text": [
      "Please Choose a Session to Work With:\n",
      "david_2,  patrick_1,  patrick_2,  beata_1,  david_3b,  irmandy_1,  juliana_1,  irmandy_2,  patrick_3,  "
     ]
    }
   ],
   "source": [
    "metadata = pickle.load(open('./cleaned_data/metadata.p', 'rb'))\n",
    "print('Please Choose a Session to Work With:')\n",
    "for k in metadata: print(k, end=',  ')"
   ]
  },
  {
   "cell_type": "code",
   "execution_count": 118,
   "metadata": {},
   "outputs": [],
   "source": [
    "SESSION = 'patrick_3'"
   ]
  },
  {
   "cell_type": "markdown",
   "metadata": {},
   "source": [
    "let's print some basic summary statistics based on the metadata for this session:"
   ]
  },
  {
   "cell_type": "code",
   "execution_count": 119,
   "metadata": {},
   "outputs": [
    {
     "name": "stdout",
     "output_type": "stream",
     "text": [
      "patrick_3 on 04/28\n",
      "----------\n",
      "04:25 hr of glassess data starting at 04/28/21 01:10:27PM EDT\n",
      "04:26 hr of    video data starting at 04/28/21 01:10:00PM EDT\n",
      "----------\n",
      "glasses sessions:\n",
      "session 0: 04/28/21 01:10:27PM EDT to 04/28/21 05:35:58PM EDT \tduration:  265.52 min\n"
     ]
    }
   ],
   "source": [
    "s_meta = metadata[SESSION]\n",
    "\n",
    "try:\n",
    "    print(SESSION, 'on', s_meta['date'])\n",
    "    print('-'*10)\n",
    "    print(s_meta['glasses_sessions_total_duration_string'], 'hr of glassess data starting at', \\\n",
    "          s_meta['glasses_session_times'][0][0])\n",
    "    print('%02d:%02d hr of    video data starting at ' % (s_meta['vid_duration_sec'] / 60 // 60, \n",
    "           s_meta['vid_duration_sec'] / 60 % 60 )  + s_meta['vid_start'])\n",
    "    print('-'*10)\n",
    "    print('glasses sessions:')\n",
    "    for i in range(len(s_meta['glasses_session_times'])):\n",
    "        print('session ' + str(i) + ':',s_meta['glasses_session_times'][i][0],'to',\\\n",
    "              s_meta['glasses_session_times'][i][1],'\\tduration:%8.2f min' % s_meta['glasses_session_durations_min'][i])\n",
    "except:\n",
    "    print('failed to load video analysis file.')"
   ]
  },
  {
   "cell_type": "code",
   "execution_count": 120,
   "metadata": {},
   "outputs": [],
   "source": [
    "vid_meta_data = pickle.load(open('./cleaned_data/' + SESSION + '/video_blink_sessions.p', \"rb\" ))"
   ]
  },
  {
   "cell_type": "code",
   "execution_count": 121,
   "metadata": {},
   "outputs": [],
   "source": [
    "#HAND ANNOTATE BLINK VIDEO SNIPPETS\n",
    "def string_to_timestamp_ms(datestring):\n",
    "    return datetime.strptime(datestring, '%m/%d/%y %I:%M:%S%p %Z').timestamp()*1000\n",
    "\n",
    "def timestamp_ms_to_string(timestamp):\n",
    "    local_tz = datetime.now().astimezone().tzinfo\n",
    "    return datetime.fromtimestamp(timestamp/1000, tz=local_tz).strftime('%m/%d/%y %I:%M:%S%p %Z')\n",
    "\n",
    "def hand_annotate_frame(video_filename, video_start_timestamp_ms, start_timestamp_ms, end_timestamp_ms, ms_response_time=400, slow_down_ratio=1, fps=59.94):\n",
    "\n",
    "    start_frame = int(((start_timestamp_ms - video_start_timestamp_ms)/1000)*fps)\n",
    "    end_frame   = int(((end_timestamp_ms   - video_start_timestamp_ms)/1000)*fps)\n",
    "  \n",
    "    #blink times to frame list:\n",
    "    stream_starttime_sec = video_start_timestamp_ms/1000. + start_frame/fps\n",
    "    frame_duration_sec = 1/fps #time between frames in sec\n",
    "    \n",
    "    if slow_down_ratio == 1:\n",
    "        ms_delay = 1\n",
    "    else:\n",
    "        ms_delay = int(slow_down_ratio*(1/60)*1000) #map 2 to twice as slow as 60Hz delay in ms, 3 as 3x, etc\n",
    "     \n",
    "    #======================================================================================\n",
    "    #loop through, if 'b' pressed add a blinktime at that frame/time - ms_response,\n",
    "    #include some time after the video is over in case a blink happens at the end.\n",
    "    \n",
    "    \n",
    "    while True:\n",
    "        \n",
    "        blink_times = []\n",
    "        \n",
    "        WINDOW_NAME = 'blink_window'\n",
    "        cv2.namedWindow(WINDOW_NAME, 2*cv2.WINDOW_AUTOSIZE)\n",
    "        cv2.startWindowThread()\n",
    "\n",
    "        vs = cv2.VideoCapture(video_filename)\n",
    "        vs.set(cv2.CAP_PROP_POS_FRAMES, start_frame-1)\n",
    "        time.sleep(1.0)\n",
    "\n",
    "\n",
    "        prev_frame, blink_count = 0, 0\n",
    "        for fno in range(0, end_frame-start_frame):\n",
    "            _, frame = vs.read()  \n",
    "\n",
    "            # show the frame\n",
    "            cv2.imshow(WINDOW_NAME, frame)\n",
    "            \n",
    "            if not fno:\n",
    "                os.system('''/usr/bin/osascript -e 'tell app \"Finder\" to set frontmost of process \"Python\" to true' ''') \n",
    "    \n",
    "            \n",
    "            key = cv2.waitKey(ms_delay) & 0xFF\n",
    "\n",
    "            # if the `q` key was pressed, break from the loop\n",
    "            if key == ord(\"q\"):\n",
    "                break\n",
    "            if key == ord(\"b\"):\n",
    "                blink_times.append(((fno/60)*1000) + start_timestamp_ms - ms_response_time)\n",
    "                \n",
    "        start = time.time()*1000.0\n",
    "        if cv2.waitKey(ms_response_time) != -1:\n",
    "            end = time.time()*1000.0\n",
    "            blink_times.append((end-start) + end_timestamp_ms - ms_response_time)\n",
    "        \n",
    "        print('got blink times of', blink_times)\n",
    "        print('now playing back to show the alignment...')\n",
    "        #========================================================================#\n",
    "        #now play it back with those times we input overlay\n",
    "\n",
    "        blink_sig = np.zeros(end_frame-start_frame)\n",
    "        blink_dur_sec = 0.5\n",
    "        blink_dur_sample = int(blink_dur_sec*fps)\n",
    "        \n",
    "        #whenever we have a blink, put ones in there for blink_dur frames.  Make sure the sample before that blink is zero\n",
    "        for btime in blink_times:\n",
    "            btime_sec_stream = (btime/1000.)-stream_starttime_sec\n",
    "            bframe = int(btime_sec_stream*fps)\n",
    "            \n",
    "            if bframe >=0 and (bframe + blink_dur_sample) < len(blink_sig):\n",
    "                blink_sig[bframe-1] = 0  \n",
    "                blink_sig[bframe:bframe+blink_dur_sample] = 1\n",
    "            elif bframe < 1 and bframe + blink_dur_sample > 0:\n",
    "                try:\n",
    "                    blink_sig[0:bframe+blink_dur_sample] = 1\n",
    "                except:\n",
    "                    blink_sig[0:-1] = 1\n",
    "            elif bframe + blink_dur_sample > len(blink_sig) and bframe < (end_frame-start_frame):\n",
    "                blink_sig[bframe-1] = 0  \n",
    "                blink_sig[bframe:-1] = 1\n",
    "                \n",
    "        #reset the frame to the start\n",
    "        vs.set(cv2.CAP_PROP_POS_FRAMES, start_frame-1)\n",
    "        time.sleep(1.0)\n",
    "\n",
    "        prev_frame, blink_count = 0, 0\n",
    "        for fno in range(0, end_frame-start_frame):\n",
    "            _, frame = vs.read()  \n",
    "\n",
    "            if blink_sig[fno] and not prev_frame:\n",
    "                blink_count += 1\n",
    "\n",
    "            cv2.putText(frame, \"COUNT: %d\"%(blink_count), (20, 30),\n",
    "                cv2.FONT_HERSHEY_SIMPLEX, 0.7, (0, 0, 255), 2)\n",
    "\n",
    "            if blink_sig[fno]:\n",
    "                cv2.putText(frame, \"BLINKING NOW!!!!!!\", (300, 30),\n",
    "                    cv2.FONT_HERSHEY_SIMPLEX, 0.7, (0, 0, 255), 2)\n",
    "\n",
    "            # show the frame\n",
    "            cv2.imshow(WINDOW_NAME, frame)\n",
    "            key = cv2.waitKey(1) & 0xFF\n",
    "\n",
    "            prev_frame = blink_sig[fno]\n",
    "\n",
    "            # if the `q` key was pressed, break from the loop\n",
    "            if key == ord(\"q\"):\n",
    "                break\n",
    "\n",
    "        cv2.waitKey(1)\n",
    "        cv2.destroyAllWindows()\n",
    "        cv2.waitKey(1)\n",
    "        \n",
    "        os.system('''/usr/bin/osascript -e 'tell app \"Finder\" to set frontmost of process \"Chrome\" to true' ''') \n",
    "\n",
    "        #now either accept, skip, bad_track, or redo\n",
    "        assess = input('Please give 1 for accept, 2 for redo, 3 for skip')\n",
    "        assess = int(assess)\n",
    "        if assess == 1:\n",
    "            return blink_times\n",
    "        if assess == 3:\n",
    "            return None\n",
    "    \n",
    "    \n",
    "    \n",
    "    \n",
    "#======= HAND LABEL TOOL ========#\n",
    "# 1. Loop through blink video sessions\n",
    "# 2. For each, open up and play the video snippet, get 'b' keystrokes, make a df\n",
    "# 3. Play back with 'b' keystrokes overlaid\n",
    "# 4. accept, redo, skip, no face\n",
    "# each snippet will now be labeled as 'no face', 'skipped', or [array of blinktimes hand labeled]"
   ]
  },
  {
   "cell_type": "code",
   "execution_count": 122,
   "metadata": {},
   "outputs": [],
   "source": [
    "indices = (-np.array(vid_meta_data['duration_sessions_sec'])).argsort()"
   ]
  },
  {
   "cell_type": "code",
   "execution_count": 123,
   "metadata": {},
   "outputs": [],
   "source": [
    "hand_annotations = {}"
   ]
  },
  {
   "cell_type": "code",
   "execution_count": 125,
   "metadata": {},
   "outputs": [],
   "source": [
    "try:\n",
    "    hand_annotations = pickle.load(open('./cleaned_data/' + SESSION + '/hand_annotations.p', \"rb\" ))\n",
    "except:\n",
    "    print('no hand annotations')"
   ]
  },
  {
   "cell_type": "code",
   "execution_count": 137,
   "metadata": {},
   "outputs": [
    {
     "name": "stdout",
     "output_type": "stream",
     "text": [
      "got blink times of [1619641528482.0, 1619641536798.6667]\n",
      "now playing back to show the alignment...\n"
     ]
    },
    {
     "name": "stdin",
     "output_type": "stream",
     "text": [
      "Please give 1 for accept, 2 for redo, 3 for skip 2\n"
     ]
    },
    {
     "name": "stdout",
     "output_type": "stream",
     "text": [
      "got blink times of [1619641528482.0, 1619641536782.0, 1619641537598.6667, 1619641555998.6667, 1619641556715.3333, 1619641569482.0, 1619641571932.0, 1619641572748.6667, 1619641576715.3333, 1619641577298.6667, 1619641578948.6667, 1619641583298.6667, 1619641584815.3333, 1619641586815.3333, 1619641589182.0, 1619641590665.3333, 1619641592198.6667, 1619641592832.0, 1619641595565.3333, 1619641596882.0, 1619641599165.3333, 1619641601665.3333, 1619641606948.6667, 1619641609782.0, 1619641611398.6667, 1619641612482.0, 1619641613848.6667, 1619641616582.0, 1619641617715.3333, 1619641618898.6667, 1619641619498.6667, 1619641621615.3333, 1619641622482.0, 1619641623515.3333, 1619641624182.0, 1619641626565.3333, 1619641627065.3333, 1619641628498.6667]\n",
      "now playing back to show the alignment...\n"
     ]
    },
    {
     "name": "stdin",
     "output_type": "stream",
     "text": [
      "Please give 1 for accept, 2 for redo, 3 for skip 1\n"
     ]
    },
    {
     "name": "stdout",
     "output_type": "stream",
     "text": [
      "got blink times of [1619644547949.0, 1619644548549.0, 1619644549782.3333, 1619644564915.6667, 1619644573682.3333, 1619644588549.0, 1619644589082.3333, 1619644596732.3333, 1619644606465.6667, 1619644606932.3333, 1619644624432.3333, 1619644631765.6667]\n",
      "now playing back to show the alignment...\n"
     ]
    },
    {
     "name": "stdin",
     "output_type": "stream",
     "text": [
      "Please give 1 for accept, 2 for redo, 3 for skip 1\n"
     ]
    },
    {
     "name": "stdout",
     "output_type": "stream",
     "text": [
      "got blink times of [1619635406995.6667, 1619635414479.0, 1619635420562.3333, 1619635434979.0, 1619635439729.0, 1619635456129.0, 1619635456995.6667, 1619635459279.0, 1619635459862.3333, 1619635460362.3333, 1619635463729.0, 1619635464479.0, 1619635467879.0, 1619635469129.0, 1619635471062.3333, 1619635473229.0, 1619635476062.3333, 1619635476929.0, 1619635477462.3333, 1619635481095.6667, 1619635485595.6667, 1619635488112.3333, 1619635489045.6667, 1619635489712.3333, 1619635491729.0, 1619635492229.0, 1619635492545.6667, 1619635492912.3333, 1619635493827.164]\n",
      "now playing back to show the alignment...\n"
     ]
    },
    {
     "name": "stdin",
     "output_type": "stream",
     "text": [
      "Please give 1 for accept, 2 for redo, 3 for skip 1\n"
     ]
    },
    {
     "name": "stdout",
     "output_type": "stream",
     "text": [
      "{5: [1619629819285.0, 1619629819485.0, 1619629820368.3333], 6: [1619629825039.3333, 1619629826856.0, 1619629836539.3333, 1619629848771.782], 7: [1619629854937.6667, 1619629858371.0, 1619629864271.0, 1619629866054.3333, 1619629866954.3333, 1619629870587.6667, 1619629872387.6667], 8: [1619629875239.3333, 1619629875956.0, 1619629876206.0, 1619629876406.0], 9: [], 10: [1619629882030.6667, 1619629882547.3333], 11: [], 12: [1619629888656.998], 13: [1619629894643.3333, 1619629897026.6667], 14: None, 15: [1619630098480.6667, 1619630098847.3333, 1619630100264.0, 1619630101397.3333, 1619630101964.0, 1619630102780.6667, 1619630104664.0, 1619630107347.3333, 1619630108697.3333, 1619630109897.3333, 1619630112814.0, 1619630113780.6667, 1619630113947.3333, 1619630115397.3333, 1619630115684.7502], 17: [1619630148747.0, 1619630149656.948], 18: [1619630151016.6667, 1619630153000.0, 1619630155183.3333, 1619630157416.6667, 1619630159716.6667, 1619630161416.6667, 1619630163633.3333, 1619630164116.6667, 1619630165100.0, 1619630167016.6667, 1619630167316.6667, 1619630169266.6667, 1619630172283.3333, 1619630174566.6667, 1619630175950.0], 19: None, 20: None, 21: None, 22: [1619630179595.3333], 23: [], 24: None, 26: [1619630186652.0], 27: [1619630187953.6667, 1619630189103.6667, 1619630191503.6667, 1619630192437.0, 1619630194803.6667, 1619630195937.0, 1619630207153.6667, 1619630207603.6667, 1619630208870.3333, 1619630209203.6667, 1619630211587.0, 1619630212387.0, 1619630212970.3333, 1619630213620.3333, 1619630213870.3333, 1619630215370.3333, 1619630215870.3333, 1619630217420.3333, 1619630218253.6667, 1619630220437.0, 1619630221706.2659], 28: [], 29: [], 30: [], 31: [], 32: [], 33: [1619630230489.617], 34: [1619630231913.3333, 1619630233096.6667, 1619630233646.6667, 1619630234196.6667, 1619630235413.3333, 1619630236913.3333, 1619630238080.0, 1619630240163.3333], 35: None, 36: [1619630244928.8284], 37: [1619630245778.6667], 38: [1619630249431.3333, 1619630249681.3333, 1619630251098.0, 1619630252331.3333, 1619630253564.6667, 1619630254481.3333, 1619630256031.3333, 1619630256364.6667, 1619630258448.0, 1619630260464.6667, 1619630262431.3333, 1619630263098.0, 1619630263831.3333, 1619630266498.0, 1619630270414.6667, 1619630271098.0, 1619630271281.3333, 1619630272298.0, 1619630272564.6667, 1619630274264.6667, 1619630275464.6667, 1619630277181.3333, 1619630279114.6667, 1619630280398.0, 1619630282748.0, 1619630289064.6667, 1619630306914.6667, 1619630307514.6667, 1619630307864.6667, 1619630308998.0], 39: [1619630313612.3333, 1619630314012.3333, 1619630314779.0, 1619630315245.6667, 1619630317145.6667, 1619630317729.0, 1619630318629.0, 1619630319412.3333, 1619630320245.6667, 1619630321012.3333, 1619630321712.3333, 1619630322662.3333, 1619630324579.0], 40: [1619630330161.3333, 1619630331678.0, 1619630332861.3333, 1619630337894.6667, 1619630339494.6667, 1619630341778.0, 1619630341978.0], 41: [1619630344993.0, 1619630345959.6667], 42: [1619630357270.6667, 1619630359587.3333, 1619630363387.3333, 1619630365987.3333], 43: [], 44: [], 45: [], 46: [1619630370652.3333, 1619630371852.3333, 1619630372802.3333], 47: [1619630375490.0, 1619630376523.3333, 1619630377190.0, 1619630377706.6667, 1619630379390.0, 1619630379656.6667, 1619630383640.0, 1619630385923.3333, 1619630387390.0], 48: [], 49: [], 50: [], 51: [1619630391490.3333], 52: [1619630393291.3333, 1619630394741.3333, 1619630395058.0, 1619630396608.0, 1619630399708.0], 53: [1619630401494.3481], 54: [1619630406518.0, 1619630407951.3333, 1619630410334.6667, 1619630411168.0, 1619630411851.3333, 1619630413084.6667, 1619630413934.6667, 1619630417101.3333, 1619630418384.6667], 55: [], 56: [], 57: [], 58: None, 59: [1619630460064.482], 60: [], 61: [1619630465763.6667, 1619630467330.3333, 1619630470530.3333, 1619630473213.6667, 1619630473660.273], 62: [1619630475594.657], 63: [1619630477558.6667, 1619630478525.3333, 1619630479125.3333, 1619630482892.0, 1619630483858.6667], 64: [], 65: [1619630486436.5132], 66: [1619630491703.0, 1619630491886.3333, 1619630493436.3333, 1619630494336.3333, 1619630495936.3333, 1619630497286.3333, 1619630501336.3333, 1619630507486.3333, 1619630507669.6667, 1619630515253.0, 1619630520419.6667, 1619630529003.0, 1619630536919.6667, 1619630541319.6667, 1619630542703.0, 1619630543019.6667, 1619630543619.6667, 1619630544336.3333, 1619630545136.3333, 1619630546203.0, 1619630547653.0], 67: [1619630584500.0, 1619630585500.0], 68: [1619630588103.3333, 1619630588836.6667, 1619630590003.3333, 1619630590886.6667, 1619630592570.0, 1619630592736.6667, 1619630593253.3333, 1619630596620.0, 1619630599503.3333, 1619630605086.6667, 1619630605853.3333, 1619630606470.0], 69: [1619630608939.6667, 1619630610173.0, 1619630610723.0, 1619630611339.6667, 1619630615356.3333, 1619630616489.6667, 1619630620773.0, 1619630623023.0, 1619630623589.6667, 1619630624323.0, 1619630627689.6667, 1619630631039.6667, 1619630631256.3333, 1619630632606.3333, 1619630634006.3333], 70: [1619630637519.3333], 71: [1619630641387.0, 1619630643153.6667, 1619630643320.3333, 1619630648187.0, 1619630650687.0, 1619630652653.6667, 1619630652903.6667, 1619630655703.6667, 1619630658370.3333, 1619630659487.0, 1619630664684.692], 72: None, 73: [1619630667533.0, 1619630669299.6667, 1619630670599.6667, 1619630675416.3333, 1619630676833.0, 1619630680133.0], 74: [1619630690464.6667, 1619630691648.0, 1619630693281.3333, 1619630693564.6667, 1619630696714.6667, 1619630697531.3333, 1619630698164.6667, 1619630700964.6667, 1619630709581.3333], 122: [1619631891689.0, 1619631917739.0, 1619631926589.0, 1619631934555.6667, 1619631967205.6667, 1619631980772.3333, 1619631998339.0, 1619631999872.3333, 1619632004155.6667, 1619632005655.6667, 1619632015455.6667, 1619632016889.0, 1619632018272.3333], 352: [1619640865821.3333, 1619640866888.0, 1619640891588.0, 1619640915488.0, 1619640920321.3333, 1619640937938.0, 1619640938288.0, 1619640938804.6667, 1619640940188.0, 1619640941104.6667, 1619640942904.6667, 1619640949804.6667, 1619640957921.3333, 1619640959088.0, 1619640962254.6667, 1619640970671.3333, 1619640973254.6667], 194: [1619636024332.0, 1619636026198.6667, 1619636028765.3333, 1619636030098.6667, 1619636033382.0, 1619636034248.6667, 1619636035815.3333, 1619636037932.0, 1619636039382.0, 1619636040782.0, 1619636042598.6667, 1619636043632.0, 1619636044732.0, 1619636048115.3333, 1619636048632.0, 1619636049482.0, 1619636050132.0, 1619636052332.0, 1619636053998.6667, 1619636054948.6667, 1619636058848.6667, 1619636059682.0, 1619636062265.3333, 1619636063032.0, 1619636065298.6667, 1619636066148.6667, 1619636070498.6667, 1619636072315.3333, 1619636074132.0, 1619636075798.6667, 1619636077548.6667, 1619636078682.0, 1619636081748.6667, 1619636082432.0, 1619636083565.3333, 1619636086198.6667, 1619636089382.0, 1619636092465.3333, 1619636094132.0, 1619636097215.3333, 1619636098832.0, 1619636103198.6667, 1619636104715.3333, 1619636107765.3333, 1619636109098.6667, 1619636110465.3333, 1619636114582.0, 1619636115315.3333, 1619636116215.3333, 1619636117248.6667, 1619636119232.0, 1619636120282.0, 1619636122565.3333, 1619636124498.6667, 1619636127098.6667, 1619636127598.6667, 1619636128648.6667, 1619636131832.0, 1619636133482.0, 1619636135865.3333, 1619636136498.6667, 1619636137715.3333, 1619636139315.3333, 1619636140315.3333, 1619636142515.3333, 1619636143815.3333, 1619636144998.6667, 1619636145798.6667, 1619636146982.0, 1619636147498.681], 439: [1619643779531.3333, 1619643780281.3333, 1619643784798.0, 1619643787631.3333, 1619643793364.6667, 1619643801631.3333, 1619643807381.3333, 1619643828198.0, 1619643828348.0, 1619643830464.6667, 1619643831514.6667, 1619643832998.0, 1619643833398.0, 1619643834964.6667, 1619643835748.0, 1619643836964.6667, 1619643837698.0, 1619643838414.6667, 1619643839231.3333, 1619643842448.0, 1619643845998.0, 1619643853164.6667, 1619643855798.0, 1619643870664.6667, 1619643872031.3333, 1619643873131.3333, 1619643874548.0, 1619643876348.0, 1619643892014.6667, 1619643897814.6667], 175: [1619635001257.3333, 1619635001607.3333, 1619635002207.3333, 1619635004490.6667, 1619635006774.0, 1619635028090.6667, 1619635029174.0, 1619635031157.3333, 1619635037774.0, 1619635041107.3333, 1619635055490.6667, 1619635055690.6667, 1619635063007.3333, 1619635063390.6667, 1619635071440.6667, 1619635072690.6667, 1619635079290.6667, 1619635083074.0, 1619635089440.6667, 1619635099224.0], 355: [1619640986334.6667, 1619640990384.6667, 1619640997201.3333, 1619640998334.6667, 1619640998768.0, 1619640999101.3333, 1619641006434.6667, 1619641007884.6667, 1619641017384.6667, 1619641017751.3333, 1619641034051.3333, 1619641034268.0, 1619641039601.3333, 1619641040318.0, 1619641046334.6667, 1619641048301.3333, 1619641050251.3333, 1619641051284.6667, 1619641054368.0, 1619641055768.0, 1619641061234.6667, 1619641063018.0, 1619641063334.6667, 1619641067418.0, 1619641073118.0, 1619641074434.6667, 1619641075768.0, 1619641077168.0, 1619641078034.6667, 1619641079984.6667], 111: [1619631398346.0, 1619631398762.6667, 1619631401412.6667, 1619631405846.0, 1619631408196.0, 1619631409979.3333, 1619631411896.0, 1619631417246.0, 1619631419962.6667, 1619631420996.0, 1619631432612.6667, 1619631436446.0, 1619631439562.6667, 1619631453812.6667, 1619631462112.6667, 1619631476429.3333, 1619631478212.6667, 1619631481996.0, 1619631483912.6667, 1619631485296.0, 1619631487846.0, 1619631494012.6667], 390: [1619641528482.0, 1619641536782.0, 1619641537598.6667, 1619641555998.6667, 1619641556715.3333, 1619641569482.0, 1619641571932.0, 1619641572748.6667, 1619641576715.3333, 1619641577298.6667, 1619641578948.6667, 1619641583298.6667, 1619641584815.3333, 1619641586815.3333, 1619641589182.0, 1619641590665.3333, 1619641592198.6667, 1619641592832.0, 1619641595565.3333, 1619641596882.0, 1619641599165.3333, 1619641601665.3333, 1619641606948.6667, 1619641609782.0, 1619641611398.6667, 1619641612482.0, 1619641613848.6667, 1619641616582.0, 1619641617715.3333, 1619641618898.6667, 1619641619498.6667, 1619641621615.3333, 1619641622482.0, 1619641623515.3333, 1619641624182.0, 1619641626565.3333, 1619641627065.3333, 1619641628498.6667], 455: [1619644547949.0, 1619644548549.0, 1619644549782.3333, 1619644564915.6667, 1619644573682.3333, 1619644588549.0, 1619644589082.3333, 1619644596732.3333, 1619644606465.6667, 1619644606932.3333, 1619644624432.3333, 1619644631765.6667], 182: [1619635406995.6667, 1619635414479.0, 1619635420562.3333, 1619635434979.0, 1619635439729.0, 1619635456129.0, 1619635456995.6667, 1619635459279.0, 1619635459862.3333, 1619635460362.3333, 1619635463729.0, 1619635464479.0, 1619635467879.0, 1619635469129.0, 1619635471062.3333, 1619635473229.0, 1619635476062.3333, 1619635476929.0, 1619635477462.3333, 1619635481095.6667, 1619635485595.6667, 1619635488112.3333, 1619635489045.6667, 1619635489712.3333, 1619635491729.0, 1619635492229.0, 1619635492545.6667, 1619635492912.3333, 1619635493827.164]}\n"
     ]
    }
   ],
   "source": [
    "vid_start_timestamp = string_to_timestamp_ms(s_meta['vid_start'])\n",
    "\n",
    "#did 20:27, 2:4, juliana1\n",
    "#did 6:8, 20:25, 30:47,  beata1\n",
    "# 45:60, irmandy2\n",
    "# 40:75, david3b\n",
    "# 30:\n",
    "for sess in indices[37:40]:\n",
    "    if sess not in hand_annotations:\n",
    "        hand_annotations[sess] = hand_annotate_frame('/Volumes/ExtDrive_(ResEnv)/data_cap_val_2/' + SESSION + '/video_crop_1.mp4',  #/openface/video_adobe.mp4\n",
    "         #hand_annotations[sess] = hand_annotate_frame('/Volumes/ExtDrive_(ResEnv)/data_cap_val_2/david_3/video_part_2.mp4',  #/openface/video_adobe.mp4\n",
    "                                                      vid_start_timestamp,  \n",
    "                                                      vid_meta_data['session_times'][sess][0],\n",
    "                                                      vid_meta_data['session_times'][sess][1],\n",
    "                                                     slow_down_ratio=1,\n",
    "                                                      ms_response_time=400)\n",
    "            \n",
    "            \n",
    "            \n",
    "print(hand_annotations)"
   ]
  },
  {
   "cell_type": "code",
   "execution_count": 138,
   "metadata": {},
   "outputs": [],
   "source": [
    "pickle.dump(hand_annotations, open( './cleaned_data/' + SESSION + '/hand_annotations.p', \"wb\" ))"
   ]
  },
  {
   "cell_type": "code",
   "execution_count": 139,
   "metadata": {},
   "outputs": [
    {
     "name": "stdout",
     "output_type": "stream",
     "text": [
      "544\n"
     ]
    }
   ],
   "source": [
    "total=0\n",
    "for k in hand_annotations: \n",
    "    try:\n",
    "        total+=len(hand_annotations[k])\n",
    "    except:\n",
    "        pass\n",
    "print(total)"
   ]
  },
  {
   "cell_type": "code",
   "execution_count": null,
   "metadata": {},
   "outputs": [],
   "source": []
  }
 ],
 "metadata": {
  "kernelspec": {
   "display_name": "Python 3",
   "language": "python",
   "name": "python3"
  },
  "language_info": {
   "codemirror_mode": {
    "name": "ipython",
    "version": 3
   },
   "file_extension": ".py",
   "mimetype": "text/x-python",
   "name": "python",
   "nbconvert_exporter": "python",
   "pygments_lexer": "ipython3",
   "version": "3.9.4"
  }
 },
 "nbformat": 4,
 "nbformat_minor": 2
}
