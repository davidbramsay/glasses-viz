{
 "cells": [
  {
   "cell_type": "markdown",
   "metadata": {},
   "source": [
    "Import data from datasheet for ZTP-135SR in regards to the thermistor resistance values as a function of temperature"
   ]
  },
  {
   "cell_type": "code",
   "execution_count": 1,
   "metadata": {},
   "outputs": [],
   "source": [
    "import pandas as pd\n",
    "import numpy as np\n",
    "import array as array\n",
    "import os\n",
    "import ipywidgets as widgets\n",
    "import matplotlib.pyplot as plt\n",
    "\n",
    "%matplotlib widget"
   ]
  },
  {
   "cell_type": "code",
   "execution_count": 2,
   "metadata": {},
   "outputs": [],
   "source": [
    "thermistor_res_directory = \"calibration_data/thermistor_res.csv\"\n",
    "thermistor_res = pd.read_csv(thermistor_res_directory)\n",
    "\n",
    "# change celsius to kelvin\n",
    "thermistor_res['Tamb'] = thermistor_res['Tamb'] + 273.15"
   ]
  },
  {
   "cell_type": "markdown",
   "metadata": {},
   "source": [
    "plot thermistor resistance vs temperature"
   ]
  },
  {
   "cell_type": "code",
   "execution_count": 3,
   "metadata": {},
   "outputs": [
    {
     "data": {
      "application/vnd.jupyter.widget-view+json": {
       "model_id": "42380d8921c84346af0742ba5a5f0bd3",
       "version_major": 2,
       "version_minor": 0
      },
      "text/plain": [
       "Canvas(toolbar=Toolbar(toolitems=[('Home', 'Reset original view', 'home', 'home'), ('Back', 'Back to previous …"
      ]
     },
     "metadata": {},
     "output_type": "display_data"
    }
   ],
   "source": [
    "thermistor_res.plot(x='Tamb', y=[\"Rmin\",\"Rcent\",\"Rmax\"])\n",
    "plt.title(\"Resistance vs. Temperature\")\n",
    "plt.ylabel(\"Resistance (kOhms)\")\n",
    "plt.xlabel(\"Temperature (Kelvin)\")\n",
    "plt.show()\n",
    "# plt.savefig(\"calibration_data/plots/thermistor_temp_curve.png\")"
   ]
  },
  {
   "cell_type": "markdown",
   "metadata": {},
   "source": [
    "find best fit curve"
   ]
  },
  {
   "cell_type": "code",
   "execution_count": 4,
   "metadata": {},
   "outputs": [],
   "source": [
    "# curve-fit() function imported from scipy \n",
    "from scipy.optimize import curve_fit \n",
    "import math as math"
   ]
  },
  {
   "cell_type": "code",
   "execution_count": 5,
   "metadata": {},
   "outputs": [
    {
     "name": "stdout",
     "output_type": "stream",
     "text": [
      "Function coefficients:\n",
      "[ 2.26493387e-03  2.14597062e-04  5.13860990e-06 -8.41555239e-08]\n",
      "Covariance of coefficients:\n",
      "[[ 1.52654574e-13 -1.26315940e-13  3.17434564e-14 -2.46499993e-15]\n",
      " [-1.26315940e-13  1.06219994e-13 -2.70572380e-14  2.12393984e-15]\n",
      " [ 3.17434564e-14 -2.70572380e-14  6.98621779e-15 -5.54865805e-16]\n",
      " [-2.46499993e-15  2.12393984e-15 -5.54865805e-16  4.45537118e-17]]\n"
     ]
    },
    {
     "data": {
      "application/vnd.jupyter.widget-view+json": {
       "model_id": "3ebbf54b98dd4198a87473b6cec467fa",
       "version_major": 2,
       "version_minor": 0
      },
      "text/plain": [
       "Canvas(toolbar=Toolbar(toolitems=[('Home', 'Reset original view', 'home', 'home'), ('Back', 'Back to previous …"
      ]
     },
     "metadata": {},
     "output_type": "display_data"
    }
   ],
   "source": [
    "# Test function with coefficients as parameters \n",
    "# def fit_func(x, a, b, c): \n",
    "#     return a * pow(b,x) + c\n",
    "\n",
    "# Steinhart-Hart Equation\n",
    "# ref: https://www.northstarsensors.com/calculating-temperature-from-resistance\n",
    "# Steinhart-Hart-Equation\n",
    "def res_to_temp(x, a0, a1, a2, a3):\n",
    "    return 1. / (a0 + a1 * np.log(x) + a2 * np.power(np.log(x),2) + a3 * np.power(np.log(x),3))\n",
    "\n",
    "# curve_fit() function takes the test-function \n",
    "# x-data and y-data as argument and returns  \n",
    "# the coefficients a and b in param and \n",
    "# the estimated covariance of param in param_cov \n",
    "x = thermistor_res['Rcent'].values\n",
    "y = thermistor_res['Tamb'].values\n",
    "# Do the fit with initial values (needed, otherwise no meaningful result)\n",
    "param_thermistor, param_cov_thermistor = curve_fit(res_to_temp, x, y, p0=[1e-4, 1e-4, 1e-4, 1e-4])\n",
    "\n",
    "print(\"Function coefficients:\") \n",
    "print(param_thermistor) \n",
    "print(\"Covariance of coefficients:\") \n",
    "print(param_cov_thermistor) \n",
    "\n",
    "# generate synthetic data\n",
    "x_synthetic = np.linspace(5,1000,num=300)\n",
    "synthetic_output = res_to_temp(x_synthetic, param_thermistor[0], param_thermistor[1], param_thermistor[2], param_thermistor[3])\n",
    "\n",
    "# plt.figure()\n",
    "ax = thermistor_res.plot(x='Tamb', y=[\"Rmin\",\"Rcent\",\"Rmax\"])\n",
    "plt.sca(ax)\n",
    "plt.plot(synthetic_output, x_synthetic, label=\"Best Fit\")\n",
    "\n",
    "plt.title(\"Resistance vs. Temperature\")\n",
    "plt.ylabel(\"Resistance (kOhms)\")\n",
    "plt.xlabel(\"Temperature (Kelvin)\")\n",
    "\n",
    "plt.legend()\n",
    "plt.show()"
   ]
  },
  {
   "cell_type": "markdown",
   "metadata": {},
   "source": [
    "Lets bring in the calibration data that was collected"
   ]
  },
  {
   "cell_type": "code",
   "execution_count": 6,
   "metadata": {},
   "outputs": [],
   "source": [
    "thermistor_pullup = 100 #kOhms\n",
    "thermopile_gain = 1344\n",
    "thermopile_offset = 1.7584\n",
    "\n",
    "nose_thermopile_cal = pd.read_csv(\"calibration_data/nose_thermopile_cal.csv\")\n",
    "temple_thermopile_cal = pd.read_csv(\"calibration_data/temple_thermopile_cal.csv\")"
   ]
  },
  {
   "cell_type": "markdown",
   "metadata": {},
   "source": [
    "Time to apply some preprocessing conversions"
   ]
  },
  {
   "cell_type": "code",
   "execution_count": 7,
   "metadata": {},
   "outputs": [],
   "source": [
    "#convert thermopile ADC values to voltage (taking into consideration offset offered by analog front end IC)\n",
    "nose_thermopile_cal['thermopile voltage'] = 3.3*(nose_thermopile_cal['thermopile']/4096.) - thermopile_offset\n",
    "temple_thermopile_cal['thermopile voltage'] = 3.3*(temple_thermopile_cal['thermopile']/4096.) - thermopile_offset\n",
    "\n",
    "#convert thermistor ADC values to thermistor resistance, knowing that thermistor is pulled up by 100k resistor\n",
    "nose_thermopile_cal['thermistor resistance'] = ((nose_thermopile_cal['thermistor']/4096.) * thermistor_pullup) / ( 1 - (nose_thermopile_cal['thermistor']/4096.))\n",
    "temple_thermopile_cal['thermistor resistance'] = ((temple_thermopile_cal['thermistor']/4096.) * thermistor_pullup) / ( 1 - (temple_thermopile_cal['thermistor']/4096.))\n",
    "\n",
    "#convert resistances to temperature\n",
    "nose_thermopile_cal['thermistor temp'] = res_to_temp(nose_thermopile_cal['thermistor resistance'], param_thermistor[0], param_thermistor[1], param_thermistor[2], param_thermistor[3])\n",
    "temple_thermopile_cal['thermistor temp'] = res_to_temp(temple_thermopile_cal['thermistor resistance'], param_thermistor[0], param_thermistor[1], param_thermistor[2], param_thermistor[3])\n",
    "\n",
    "#convert peltier temperature to kelvin\n",
    "nose_thermopile_cal['thermocouple peltier kelvin'] = (nose_thermopile_cal['thermocouple_peltier'] + 459.67) * 5./9.\n",
    "temple_thermopile_cal['thermocouple peltier kelvin'] = (temple_thermopile_cal['thermocouple_peltier'] + 459.67) * 5./9."
   ]
  },
  {
   "cell_type": "markdown",
   "metadata": {},
   "source": [
    "Lets define the thermopile equations"
   ]
  },
  {
   "cell_type": "code",
   "execution_count": 8,
   "metadata": {},
   "outputs": [],
   "source": [
    "# https://www.heimannsensor.com/Application%20Note%20Thermopile%20Module%20Analog.pdf\n",
    "# https://www.fierceelectronics.com/components/demystifying-thermopile-ir-temp-sensors\n",
    "# https://media.digikey.com/pdf/Data%20Sheets/Texas%20Instruments%20PDFs/TMP006(B).pdf\n",
    "#    note: assumption is we are neglecting emmisivity .... this can be a false assumption depending on skin color\n",
    "def thermopile_voltage_equation(X, a0):\n",
    "    temp_obj, temp_sensor = X\n",
    "    return a0 * (pow(temp_obj,4) - pow(temp_sensor,4)) \n",
    "\n",
    "# def temperature_of_object(X, a0):\n",
    "#     thermopile_voltage, temp_sensor = X\n",
    "#     return pow((thermopile_voltage/a0) + pow(temp_sensor,4), 1/4.)\n",
    "\n",
    "def voltage_correction(thermopile_voltage, a1, a2):\n",
    "    return (thermopile_voltage - a1) + a2*pow((thermopile_voltage - a1),2)\n",
    "\n",
    "def temperature_of_object(X, a0, a1, a2):\n",
    "    thermopile_voltage, temp_sensor = X\n",
    "\n",
    "    base = ((voltage_correction(thermopile_voltage,a1,a2))/a0) + pow(temp_sensor,4)\n",
    "    \n",
    "    # if less than negative\n",
    "    if isinstance(base, np.ndarray):\n",
    "        base[base < 0] = 0\n",
    "    else:\n",
    "        if base < 0:\n",
    "            base = 0\n",
    "    \n",
    "    return pow( base, 1/4.)"
   ]
  },
  {
   "cell_type": "markdown",
   "metadata": {},
   "source": [
    "Need to solve for coefficients"
   ]
  },
  {
   "cell_type": "code",
   "execution_count": 9,
   "metadata": {},
   "outputs": [
    {
     "name": "stdout",
     "output_type": "stream",
     "text": [
      "NOSE\n",
      "Function coefficients:\n",
      "[ 7.80334836e-10 -2.30649152e-01  3.61481433e-03]\n",
      "Covariance of coefficients:\n",
      "[[1.60558806e-23 8.83743078e-15 1.72207609e-14]\n",
      " [8.83743078e-15 1.82663690e-05 1.90409273e-05]\n",
      " [1.72207609e-14 1.90409273e-05 3.36518437e-05]]\n",
      "\n",
      "experimental values\n",
      "[317.81666667 313.65       307.70555556 304.98333333 302.53888889\n",
      " 311.26111111 295.15       293.31666667 292.31666667 290.98333333\n",
      " 290.48333333]\n",
      "fit values\n",
      "[317.73098386 313.71274318 307.83007091 304.98249695 302.50763442\n",
      " 311.26308595 294.93625132 293.33860667 292.27012828 291.06924551\n",
      " 290.56442721]\n",
      "\n",
      "TEMPLE\n",
      "Function coefficients:\n",
      "[ 4.21293053e-10 -3.61646238e-01  8.31103607e-02]\n",
      "Covariance of coefficients:\n",
      "[[4.22092531e-23 8.98459323e-15 1.57210701e-13]\n",
      " [8.98459323e-15 1.78470167e-05 7.36605730e-05]\n",
      " [1.57210701e-13 7.36605730e-05 8.41121281e-04]]\n",
      "\n",
      "experimental values\n",
      "[316.87222222 313.37222222 309.48333333 306.59444444 303.59444444\n",
      " 300.59444444 296.53888889 294.20555556 293.15       292.09444444\n",
      " 290.03888889]\n",
      "fit values\n",
      "[316.60491779 313.55286585 309.90814571 306.43431199 303.40042773\n",
      " 300.5716505  296.63972583 294.13904984 292.9568345  292.16276393\n",
      " 290.16924017]\n"
     ]
    }
   ],
   "source": [
    "# SOLVE FOR NOSE\n",
    "y = nose_thermopile_cal['thermocouple peltier kelvin'].values\n",
    "x_1 = nose_thermopile_cal['thermopile voltage'].values\n",
    "x_2 = nose_thermopile_cal['thermistor temp'].values\n",
    "\n",
    "a_0_estimate = 0.95 * 5.7 * pow(10,-12) # emissivity * Boltzman constant\n",
    "a_1_estimate = 0\n",
    "a_2_estimate = -10\n",
    "# Do the fit with initial values (needed, otherwise no meaningful result)\n",
    "param_nose_thermopile, param_cov_nose_thermopile = curve_fit(temperature_of_object, (x_1,x_2), y, p0=[a_0_estimate, a_1_estimate, a_2_estimate])\n",
    "\n",
    "print(\"NOSE\") \n",
    "print(\"Function coefficients:\") \n",
    "print(param_nose_thermopile) \n",
    "print(\"Covariance of coefficients:\") \n",
    "print(param_cov_nose_thermopile) \n",
    "\n",
    "\n",
    "print(\"\")\n",
    "print(\"experimental values\")\n",
    "print(y)\n",
    "print(\"fit values\")\n",
    "print(temperature_of_object((x_1,x_2),param_nose_thermopile[0],param_nose_thermopile[1],param_nose_thermopile[2]))\n",
    "\n",
    "print(\"\") \n",
    "########################################################################################################################\n",
    "\n",
    "# SOLVE FOR TEMPLE\n",
    "y = temple_thermopile_cal['thermocouple peltier kelvin'].values\n",
    "x_1 = temple_thermopile_cal['thermopile voltage'].values\n",
    "x_2 = temple_thermopile_cal['thermistor temp'].values\n",
    "\n",
    "a_0_estimate = 0.95 * 5.7 * pow(10,-12) # emissivity * Boltzman constant\n",
    "a_1_estimate = 0\n",
    "a_2_estimate = -10\n",
    "# Do the fit with initial values (needed, otherwise no meaningful result)\n",
    "param_temple_thermopile, param_cov_temple_thermopile = curve_fit(temperature_of_object, (x_1,x_2), y, p0=[a_0_estimate, a_1_estimate, a_2_estimate])\n",
    "\n",
    "print(\"TEMPLE\") \n",
    "print(\"Function coefficients:\") \n",
    "print(param_temple_thermopile) \n",
    "print(\"Covariance of coefficients:\") \n",
    "print(param_cov_temple_thermopile) \n",
    "\n",
    "\n",
    "print(\"\")\n",
    "print(\"experimental values\")\n",
    "print(y)\n",
    "print(\"fit values\")\n",
    "print(temperature_of_object((x_1,x_2),param_temple_thermopile[0],param_temple_thermopile[1],param_temple_thermopile[2]))"
   ]
  },
  {
   "cell_type": "markdown",
   "metadata": {},
   "source": [
    "Save parameters"
   ]
  },
  {
   "cell_type": "code",
   "execution_count": 10,
   "metadata": {},
   "outputs": [],
   "source": [
    "np.save(\"calibration_data/param_nose_thermopile\", param_nose_thermopile)\n",
    "np.save(\"calibration_data/param_temple_thermopile\", param_temple_thermopile)"
   ]
  },
  {
   "cell_type": "code",
   "execution_count": null,
   "metadata": {},
   "outputs": [],
   "source": []
  },
  {
   "cell_type": "code",
   "execution_count": null,
   "metadata": {},
   "outputs": [],
   "source": []
  },
  {
   "cell_type": "code",
   "execution_count": null,
   "metadata": {},
   "outputs": [],
   "source": []
  },
  {
   "cell_type": "code",
   "execution_count": null,
   "metadata": {},
   "outputs": [],
   "source": []
  },
  {
   "cell_type": "code",
   "execution_count": null,
   "metadata": {},
   "outputs": [],
   "source": []
  }
 ],
 "metadata": {
  "kernelspec": {
   "display_name": "Python 3",
   "language": "python",
   "name": "python3"
  },
  "language_info": {
   "codemirror_mode": {
    "name": "ipython",
    "version": 3
   },
   "file_extension": ".py",
   "mimetype": "text/x-python",
   "name": "python",
   "nbconvert_exporter": "python",
   "pygments_lexer": "ipython3",
   "version": "3.9.7"
  }
 },
 "nbformat": 4,
 "nbformat_minor": 4
}
