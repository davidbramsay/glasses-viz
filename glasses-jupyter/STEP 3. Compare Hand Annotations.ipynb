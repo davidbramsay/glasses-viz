{
 "cells": [
  {
   "cell_type": "markdown",
   "metadata": {},
   "source": [
    "# Getting Started Comparing Hand Annotated Blinks with OF and Glasses\n",
    "We've hand annotated some of Patrick 3 with the 'Hand Annotate Videos' script, now let's see how we did.\n",
    "\n",
    "We need to load in our hand annotations `hand_annotations` from `hand_annotations.p`, which is a dictionary with key = index of video session, value = array of timestamps of hand labels.\n",
    "\n",
    "We need to load in our video sessions with the openface labels `vid_meta_data` from `video_blink_sessions.p`.  We'll just use the sessions we have hand annotations for.\n",
    "\n",
    "We need to load in our glasses blink data, time corrected.  We can either load in\n",
    "- (1) the results from our baseline classifier df, which is a df that includes a timestamp, duration, and peak velocities for each blink we identified, from `glasses_all_blink_timestamps_uncorrected.p`.  This is without the timestamp correction to align it with video, so we also need to load and apply `best_offset.p` to time align the blinks properly.\n",
    "- (2) we could load in the raw `blink_sess` from `sessions_blink.p`, which is the raw data right off the sensor.  This is also not time corrected and we'll need to apply `best_offset.p`\n",
    "\n",
    "Finally, we may need to load in `sessions_accel.p` if it turns out we need to use the accelerometer data to try and remove blink artifacts based on motion.  Again, this glasses data will need to have `best_offset.p` applied to its timestamps before using it."
   ]
  },
  {
   "cell_type": "code",
   "execution_count": 26,
   "metadata": {},
   "outputs": [],
   "source": [
    "import json\n",
    "from datetime import datetime , timezone\n",
    "import time\n",
    "import numpy as np\n",
    "import codecs\n",
    "import struct\n",
    "import matplotlib.pyplot as plt\n",
    "import pandas as pd\n",
    "import pickle\n",
    "import pycorrelate\n",
    "import collections\n",
    "import itertools\n",
    "from mpl_toolkits import mplot3d\n",
    "import cv2\n",
    "import imutils\n",
    "import os\n",
    "from scipy.spatial.transform import Rotation as R\n",
    "\n",
    "pd.options.display.float_format = '{:.3f}'.format\n",
    "pd.set_option('display.max_rows', 1000)\n",
    "%matplotlib inline"
   ]
  },
  {
   "cell_type": "markdown",
   "metadata": {},
   "source": [
    "### Step 1: Load Data (and correct glasses time offset to align everything)"
   ]
  },
  {
   "cell_type": "code",
   "execution_count": 27,
   "metadata": {},
   "outputs": [
    {
     "name": "stdout",
     "output_type": "stream",
     "text": [
      "Please Choose a Session to Work With:\n",
      "david_2,  patrick_1,  patrick_2,  beata_1,  david_3b,  irmandy_1,  juliana_1,  irmandy_2,  patrick_3,  "
     ]
    }
   ],
   "source": [
    "metadata = pickle.load(open('./cleaned_data/metadata.p', 'rb'))\n",
    "print('Please Choose a Session to Work With:')\n",
    "for k in metadata: print(k, end=',  ')"
   ]
  },
  {
   "cell_type": "code",
   "execution_count": 28,
   "metadata": {},
   "outputs": [],
   "source": [
    "SESSION = 'patrick_3'"
   ]
  },
  {
   "cell_type": "code",
   "execution_count": 29,
   "metadata": {},
   "outputs": [],
   "source": [
    "hand_annotations = pickle.load(open('./cleaned_data/' + SESSION + '/hand_annotations.p', \"rb\" ))\n",
    "\n",
    "vid_meta_data = pickle.load(open('./cleaned_data/' + SESSION + '/video_blink_sessions.p', \"rb\" ))\n",
    "\n",
    "best_offset = pickle.load(open('./cleaned_data/' + SESSION + '/best_offset.p', \"rb\" ))\n",
    "\n",
    "accel_sess = pickle.load(open('./cleaned_data/' + SESSION + '/sessions_accel.p', \"rb\" ))\n",
    "for i in range(len(accel_sess)): accel_sess[i]['timestamp_ms'] = accel_sess[i]['timestamp_ms'] + best_offset\n",
    "\n",
    "df_glasses_blinks = pickle.load(open('./cleaned_data/' + SESSION + '/glasses_all_blink_timestamps_uncorrected.p', \"rb\" ))\n",
    "df_glasses_blinks['timestamp_ms'] = df_glasses_blinks['timestamp_ms'] + best_offset"
   ]
  },
  {
   "cell_type": "code",
   "execution_count": 30,
   "metadata": {},
   "outputs": [
    {
     "name": "stdout",
     "output_type": "stream",
     "text": [
      "hand annotations represent 507 blinks with 1855.35 secs of recording.  That's a blink rate of 16.40 blinks/min.\n",
      "skipped 5 snippets with 296.51 sec of recording.  These are probably worse for OF because they were hard to classify by eye.\n",
      "skipped sections include 80 blinks found by openface.\n"
     ]
    }
   ],
   "source": [
    "total_blinks, total_dur_sec, total_num_skipped, total_dur_skipped, of_blinks_skipped = 0, 0, 0, 0, 0\n",
    "for k in hand_annotations:\n",
    "    try:\n",
    "        total_blinks += len(hand_annotations[k])\n",
    "        total_dur_sec += vid_meta_data['duration_sessions_sec'][k]\n",
    "    except:\n",
    "        total_num_skipped +=1\n",
    "        total_dur_skipped += vid_meta_data['duration_sessions_sec'][k]\n",
    "        of_blinks_skipped += vid_meta_data['blinks_per_session'][k]\n",
    "\n",
    "print('hand annotations represent %d blinks with %3.2f secs of recording.  That\\'s a blink rate of %2.2f blinks/min.'%(total_blinks, total_dur_sec, 60*total_blinks/total_dur_sec))\n",
    "print('skipped %d snippets with %3.2f sec of recording.  These are probably worse for OF because they were hard to classify by eye.'%(total_num_skipped, total_dur_skipped))\n",
    "print('skipped sections include %d blinks found by openface.'%of_blinks_skipped)"
   ]
  },
  {
   "cell_type": "markdown",
   "metadata": {},
   "source": [
    "#### Now we will eliminate the sections we skipped when hand annotating\n",
    "We skipped some sections during annotation because of the ambiguity/difficulty and saved them as 'None'.  OF would likely struggle with these, but we can't even really tell ourselves; OF shouldn't have been confident.  We'll work just with our known good data now and eliminate values of 'None' from our hand annotations."
   ]
  },
  {
   "cell_type": "code",
   "execution_count": 31,
   "metadata": {},
   "outputs": [],
   "source": [
    "filtered = {k: v for k, v in hand_annotations.items() if v is not None}\n",
    "hand_annotations.clear()\n",
    "hand_annotations.update(filtered)"
   ]
  },
  {
   "cell_type": "markdown",
   "metadata": {},
   "source": [
    "### Step 2: For simplicity, add motion to df_glasses_blinks and remove accel_sess, since we won't need it anymore"
   ]
  },
  {
   "cell_type": "code",
   "execution_count": 32,
   "metadata": {},
   "outputs": [],
   "source": [
    "def df_between_timestamps(df, time_col, start_time, end_time):\n",
    "    return df[(start_time <= df[time_col]) & (df[time_col] <= end_time)].copy()\n",
    "\n",
    "def rotation_mag_between_rows(row_start, row_end):\n",
    "    rotation = R.from_quat(row_start[['quatReal', 'quatI', 'quatJ', 'quatK']]).inv() * R.from_quat(row_end[['quatReal', 'quatI', 'quatJ', 'quatK']])\n",
    "    return rotation.magnitude()\n",
    "    \n",
    "def get_rotation_mag_by_timestamp(timestamp):\n",
    "    for sess in accel_sess:\n",
    "        #if our timestamp is in this session\n",
    "        if sess['timestamp_ms'].iloc[0] <= timestamp <= sess['timestamp_ms'].iloc[-1]:\n",
    "            #get the two closest timestamps\n",
    "            df_closest = sess.iloc[(sess['timestamp_ms']-timestamp).abs().argsort()[:2]]\n",
    "            #return the rotation of these two\n",
    "            return rotation_mag_between_rows(df_closest.iloc[0], df_closest.iloc[1])\n",
    "    #if we fail to find it in our glasses data for acceleration, return np.nan\n",
    "    return np.nan"
   ]
  },
  {
   "cell_type": "code",
   "execution_count": 33,
   "metadata": {},
   "outputs": [
    {
     "data": {
      "text/html": [
       "<div>\n",
       "<style scoped>\n",
       "    .dataframe tbody tr th:only-of-type {\n",
       "        vertical-align: middle;\n",
       "    }\n",
       "\n",
       "    .dataframe tbody tr th {\n",
       "        vertical-align: top;\n",
       "    }\n",
       "\n",
       "    .dataframe thead th {\n",
       "        text-align: right;\n",
       "    }\n",
       "</style>\n",
       "<table border=\"1\" class=\"dataframe\">\n",
       "  <thead>\n",
       "    <tr style=\"text-align: right;\">\n",
       "      <th></th>\n",
       "      <th>duration_ms</th>\n",
       "      <th>timestamp_ms</th>\n",
       "      <th>vel_close</th>\n",
       "      <th>vel_open</th>\n",
       "      <th>rotation_magnitude</th>\n",
       "    </tr>\n",
       "  </thead>\n",
       "  <tbody>\n",
       "    <tr>\n",
       "      <th>0</th>\n",
       "      <td>45.000</td>\n",
       "      <td>1617719302160.000</td>\n",
       "      <td>0.182</td>\n",
       "      <td>0.186</td>\n",
       "      <td>0.000</td>\n",
       "    </tr>\n",
       "    <tr>\n",
       "      <th>1</th>\n",
       "      <td>183.000</td>\n",
       "      <td>1617719302292.000</td>\n",
       "      <td>0.182</td>\n",
       "      <td>0.193</td>\n",
       "      <td>0.000</td>\n",
       "    </tr>\n",
       "    <tr>\n",
       "      <th>2</th>\n",
       "      <td>57.000</td>\n",
       "      <td>1617719302421.000</td>\n",
       "      <td>0.179</td>\n",
       "      <td>0.193</td>\n",
       "      <td>0.000</td>\n",
       "    </tr>\n",
       "    <tr>\n",
       "      <th>3</th>\n",
       "      <td>151.000</td>\n",
       "      <td>1617719482415.000</td>\n",
       "      <td>0.202</td>\n",
       "      <td>0.168</td>\n",
       "      <td>0.000</td>\n",
       "    </tr>\n",
       "    <tr>\n",
       "      <th>4</th>\n",
       "      <td>43.000</td>\n",
       "      <td>1617719485243.000</td>\n",
       "      <td>0.074</td>\n",
       "      <td>0.048</td>\n",
       "      <td>0.000</td>\n",
       "    </tr>\n",
       "    <tr>\n",
       "      <th>5</th>\n",
       "      <td>541.000</td>\n",
       "      <td>1617719485445.000</td>\n",
       "      <td>0.120</td>\n",
       "      <td>0.169</td>\n",
       "      <td>0.000</td>\n",
       "    </tr>\n",
       "    <tr>\n",
       "      <th>6</th>\n",
       "      <td>541.000</td>\n",
       "      <td>1617719485575.000</td>\n",
       "      <td>0.120</td>\n",
       "      <td>0.169</td>\n",
       "      <td>0.000</td>\n",
       "    </tr>\n",
       "    <tr>\n",
       "      <th>7</th>\n",
       "      <td>85.000</td>\n",
       "      <td>1617719487433.000</td>\n",
       "      <td>0.061</td>\n",
       "      <td>0.043</td>\n",
       "      <td>0.000</td>\n",
       "    </tr>\n",
       "    <tr>\n",
       "      <th>8</th>\n",
       "      <td>50.000</td>\n",
       "      <td>1617719490138.000</td>\n",
       "      <td>0.222</td>\n",
       "      <td>0.222</td>\n",
       "      <td>0.004</td>\n",
       "    </tr>\n",
       "    <tr>\n",
       "      <th>9</th>\n",
       "      <td>705.000</td>\n",
       "      <td>1617720281650.000</td>\n",
       "      <td>0.262</td>\n",
       "      <td>0.020</td>\n",
       "      <td>0.000</td>\n",
       "    </tr>\n",
       "  </tbody>\n",
       "</table>\n",
       "</div>"
      ],
      "text/plain": [
       "   duration_ms      timestamp_ms  vel_close  vel_open  rotation_magnitude\n",
       "0       45.000 1617719302160.000      0.182     0.186               0.000\n",
       "1      183.000 1617719302292.000      0.182     0.193               0.000\n",
       "2       57.000 1617719302421.000      0.179     0.193               0.000\n",
       "3      151.000 1617719482415.000      0.202     0.168               0.000\n",
       "4       43.000 1617719485243.000      0.074     0.048               0.000\n",
       "5      541.000 1617719485445.000      0.120     0.169               0.000\n",
       "6      541.000 1617719485575.000      0.120     0.169               0.000\n",
       "7       85.000 1617719487433.000      0.061     0.043               0.000\n",
       "8       50.000 1617719490138.000      0.222     0.222               0.004\n",
       "9      705.000 1617720281650.000      0.262     0.020               0.000"
      ]
     },
     "execution_count": 33,
     "metadata": {},
     "output_type": "execute_result"
    }
   ],
   "source": [
    "df_glasses_blinks['rotation_magnitude'] = df_glasses_blinks.apply(lambda row: get_rotation_mag_by_timestamp(row['timestamp_ms']), axis=1)\n",
    "del accel_sess\n",
    "df_glasses_blinks.head(10)"
   ]
  },
  {
   "cell_type": "markdown",
   "metadata": {},
   "source": [
    "We now have clean, easy to use and work with data that is all time aligned!\n",
    "\n",
    "`vid_meta_data` - a dict with sessions of good tracking from OF, timestamped at the start and end, as well as lists of timestamps of blink events.\n",
    "\n",
    "`hand_annotations` - a dict where the key indexes the session from `vid_meta_data`, and the value is a list of timestamps of blink events.\n",
    "\n",
    "`df_glasses_blinks` - a df where every row represents a blink captured by our glasses/basic glasses algorithm, timestamped, and including blink duration, vel_open, vel_close, and rotation_magnitude of the head during that blink."
   ]
  },
  {
   "cell_type": "markdown",
   "metadata": {},
   "source": [
    "### Step 3: Compare Hand Annotations with Blink Classification from OF and the Glasses\n",
    "\n",
    "We'll start by simply: \n",
    "\n",
    "(1) printing basic hand annotation data (duration annotated, blinks/sec, number of sessions, number of blinks, etc)\n",
    "\n",
    "(2) reducing our blink list for glasses and video into one list for each, which only includes blinks that occur during our hand anotation sections.\n",
    "\n",
    "(3) comparing the OF list and the glasses list to the hand annotation list.  Iterate over real blink times, removing first instance of classified blink that falls within some error bar.  Get metrics for true/false positives and compare.\n",
    "\n",
    "(4) store indices of glasses blinks that are false positives, and create a df for true positives and false positives.  Look at differences between vel/duration/rotation_mag when true or false positive.\n",
    "\n",
    "(5) plot(?) each over top of one another?  May be useful\n",
    "\n"
   ]
  },
  {
   "cell_type": "code",
   "execution_count": 34,
   "metadata": {},
   "outputs": [],
   "source": [
    "#get glasses blinks that occur during hand annotation timing (df_gblinks), get lists of just timestamps for glasses (gblinks), openface (vblinks), and annotated (ablinks)\n",
    "glasses_blinks_during_handannotate_times = []\n",
    "vblinks, ablinks = [], []\n",
    "\n",
    "for i in hand_annotations:\n",
    "    glasses_blinks_during_handannotate_times.append(df_between_timestamps(df_glasses_blinks, \n",
    "                                                  'timestamp_ms', \n",
    "                                                  vid_meta_data['session_times'][i][0], \n",
    "                                                  vid_meta_data['session_times'][i][1]))\n",
    "    \n",
    "    vblinks.extend(vid_meta_data['blink_timestamps_per_session'][i])\n",
    "    ablinks.extend(hand_annotations[i])\n",
    "    \n",
    "df_gblinks = pd.concat(glasses_blinks_during_handannotate_times)\n",
    "gblinks = df_gblinks['timestamp_ms'].tolist()"
   ]
  },
  {
   "cell_type": "code",
   "execution_count": 35,
   "metadata": {},
   "outputs": [
    {
     "name": "stdout",
     "output_type": "stream",
     "text": [
      "Got:\n",
      "\t  620 blinks (openface)\n",
      "\t 1166 blinks (glasses)\n",
      "\t  507 blinks (annotated)\n"
     ]
    }
   ],
   "source": [
    "print('Got:')\n",
    "print('\\t%5d blinks (openface)'%len(vblinks))\n",
    "print('\\t%5d blinks (glasses)' %len(gblinks))\n",
    "print('\\t%5d blinks (annotated)'%len(ablinks))"
   ]
  },
  {
   "cell_type": "code",
   "execution_count": 36,
   "metadata": {},
   "outputs": [],
   "source": [
    "def debounce_data(list_of_times, debounce_dur_ms=200):\n",
    "    \n",
    "    indices_to_remove = []\n",
    "    for i in range(1, len(list_of_times)):\n",
    "        if list_of_times[i-1] >= list_of_times[i] - debounce_dur_ms:\n",
    "            indices_to_remove.append(i)\n",
    "\n",
    "    for index in sorted(indices_to_remove, reverse=True):\n",
    "        del list_of_times[index]\n",
    "        \n",
    "    return list_of_times\n",
    "\n",
    "def test_results(annotated_blinklist, test_blinklist, tolerance_ms=500):\n",
    "    results = {'true_pos':0, 'real_pos':len(annotated_blinklist)}\n",
    "\n",
    "    for  atime in annotated_blinklist:\n",
    "        for ttime in test_blinklist:\n",
    "            if ttime-tolerance_ms <= atime <= ttime+tolerance_ms:\n",
    "                results['true_pos'] += 1\n",
    "                test_blinklist.remove(ttime)\n",
    "                break\n",
    "    results['false_pos'] = len(test_blinklist)\n",
    "    results['sensitivity'] = results['true_pos'] / results['real_pos'] * 100\n",
    "    results['false_discovery'] = results['false_pos'] / (results['false_pos'] + results['true_pos']) * 100\n",
    "    \n",
    "    return results, test_blinklist"
   ]
  },
  {
   "cell_type": "code",
   "execution_count": 37,
   "metadata": {},
   "outputs": [
    {
     "name": "stdout",
     "output_type": "stream",
     "text": [
      " 400: glasses:  {'true_pos': 363, 'real_pos': 507, 'false_pos': 803, 'sensitivity': 71.59763313609467, 'false_discovery': 68.86792452830188}\n",
      " 400 openface: {'true_pos': 352, 'real_pos': 507, 'false_pos': 268, 'sensitivity': 69.42800788954635, 'false_discovery': 43.225806451612904}\n",
      " 500: glasses:  {'true_pos': 382, 'real_pos': 507, 'false_pos': 784, 'sensitivity': 75.34516765285996, 'false_discovery': 67.23842195540308}\n",
      " 500 openface: {'true_pos': 358, 'real_pos': 507, 'false_pos': 262, 'sensitivity': 70.61143984220908, 'false_discovery': 42.25806451612903}\n",
      " 600: glasses:  {'true_pos': 404, 'real_pos': 507, 'false_pos': 762, 'sensitivity': 79.6844181459566, 'false_discovery': 65.35162950257289}\n",
      " 600 openface: {'true_pos': 365, 'real_pos': 507, 'false_pos': 255, 'sensitivity': 71.99211045364892, 'false_discovery': 41.12903225806452}\n",
      " 700: glasses:  {'true_pos': 434, 'real_pos': 507, 'false_pos': 732, 'sensitivity': 85.60157790927022, 'false_discovery': 62.778730703259}\n",
      " 700 openface: {'true_pos': 369, 'real_pos': 507, 'false_pos': 251, 'sensitivity': 72.7810650887574, 'false_discovery': 40.483870967741936}\n",
      " 800: glasses:  {'true_pos': 448, 'real_pos': 507, 'false_pos': 718, 'sensitivity': 88.3629191321499, 'false_discovery': 61.57804459691252}\n",
      " 800 openface: {'true_pos': 371, 'real_pos': 507, 'false_pos': 249, 'sensitivity': 73.17554240631164, 'false_discovery': 40.16129032258065}\n",
      " 900: glasses:  {'true_pos': 457, 'real_pos': 507, 'false_pos': 709, 'sensitivity': 90.13806706114399, 'false_discovery': 60.80617495711835}\n",
      " 900 openface: {'true_pos': 373, 'real_pos': 507, 'false_pos': 247, 'sensitivity': 73.57001972386587, 'false_discovery': 39.83870967741935}\n",
      "1000: glasses:  {'true_pos': 460, 'real_pos': 507, 'false_pos': 706, 'sensitivity': 90.72978303747534, 'false_discovery': 60.548885077186966}\n",
      "1000 openface: {'true_pos': 376, 'real_pos': 507, 'false_pos': 244, 'sensitivity': 74.16173570019724, 'false_discovery': 39.35483870967742}\n",
      "1100: glasses:  {'true_pos': 462, 'real_pos': 507, 'false_pos': 704, 'sensitivity': 91.12426035502959, 'false_discovery': 60.37735849056604}\n",
      "1100 openface: {'true_pos': 378, 'real_pos': 507, 'false_pos': 242, 'sensitivity': 74.55621301775149, 'false_discovery': 39.03225806451613}\n",
      "1200: glasses:  {'true_pos': 472, 'real_pos': 507, 'false_pos': 694, 'sensitivity': 93.09664694280079, 'false_discovery': 59.51972555746141}\n",
      "1200 openface: {'true_pos': 380, 'real_pos': 507, 'false_pos': 240, 'sensitivity': 74.95069033530572, 'false_discovery': 38.70967741935484}\n",
      "1300: glasses:  {'true_pos': 495, 'real_pos': 507, 'false_pos': 671, 'sensitivity': 97.63313609467455, 'false_discovery': 57.54716981132076}\n",
      "1300 openface: {'true_pos': 381, 'real_pos': 507, 'false_pos': 239, 'sensitivity': 75.14792899408283, 'false_discovery': 38.54838709677419}\n",
      "1400: glasses:  {'true_pos': 503, 'real_pos': 507, 'false_pos': 663, 'sensitivity': 99.21104536489152, 'false_discovery': 56.861063464837045}\n",
      "1400 openface: {'true_pos': 385, 'real_pos': 507, 'false_pos': 235, 'sensitivity': 75.93688362919131, 'false_discovery': 37.903225806451616}\n",
      "1500: glasses:  {'true_pos': 503, 'real_pos': 507, 'false_pos': 663, 'sensitivity': 99.21104536489152, 'false_discovery': 56.861063464837045}\n",
      "1500 openface: {'true_pos': 387, 'real_pos': 507, 'false_pos': 233, 'sensitivity': 76.33136094674556, 'false_discovery': 37.58064516129032}\n"
     ]
    }
   ],
   "source": [
    "#test different error margins\n",
    "for margin in [400, 500, 600, 700, 800, 900, 1000, 1100, 1200, 1300, 1400, 1500]:\n",
    "    g = gblinks.copy()\n",
    "    v = vblinks.copy()\n",
    "    gresults, false_pos_times = test_results(ablinks, g, margin)\n",
    "    print('%4d: glasses: '%(margin),gresults)\n",
    "    vresults, _ = test_results(ablinks, v, margin)\n",
    "    print('%4d openface:'%(margin),vresults)"
   ]
  },
  {
   "cell_type": "markdown",
   "metadata": {},
   "source": [
    "## RUN UP TO HERE\n",
    "\n",
    "look for best margin, type below"
   ]
  },
  {
   "cell_type": "code",
   "execution_count": 38,
   "metadata": {},
   "outputs": [
    {
     "name": "stdout",
     "output_type": "stream",
     "text": [
      "glasses:  {'true_pos': 503, 'real_pos': 507, 'false_pos': 663, 'sensitivity': 99.21104536489152, 'false_discovery': 56.861063464837045}\n",
      "openface: {'true_pos': 385, 'real_pos': 507, 'false_pos': 235, 'sensitivity': 75.93688362919131, 'false_discovery': 37.903225806451616}\n"
     ]
    }
   ],
   "source": [
    "BEST_MARGIN = 1400\n",
    "\n",
    "#gblinks_debounce = debounce_data(gblinks)\n",
    "gresults, false_pos_times = test_results(ablinks, gblinks, BEST_MARGIN)\n",
    "print('glasses: ',gresults)\n",
    "\n",
    "vresults, _ = test_results(ablinks, vblinks, BEST_MARGIN)\n",
    "print('openface:',vresults)"
   ]
  },
  {
   "cell_type": "code",
   "execution_count": 39,
   "metadata": {},
   "outputs": [
    {
     "data": {
      "text/html": [
       "<div>\n",
       "<style scoped>\n",
       "    .dataframe tbody tr th:only-of-type {\n",
       "        vertical-align: middle;\n",
       "    }\n",
       "\n",
       "    .dataframe tbody tr th {\n",
       "        vertical-align: top;\n",
       "    }\n",
       "\n",
       "    .dataframe thead th {\n",
       "        text-align: right;\n",
       "    }\n",
       "</style>\n",
       "<table border=\"1\" class=\"dataframe\">\n",
       "  <thead>\n",
       "    <tr style=\"text-align: right;\">\n",
       "      <th></th>\n",
       "      <th>duration_ms</th>\n",
       "      <th>timestamp_ms</th>\n",
       "      <th>vel_close</th>\n",
       "      <th>vel_open</th>\n",
       "      <th>rotation_magnitude</th>\n",
       "      <th>asym</th>\n",
       "      <th>weighted_asym</th>\n",
       "    </tr>\n",
       "  </thead>\n",
       "  <tbody>\n",
       "    <tr>\n",
       "      <th>5801</th>\n",
       "      <td>117.000</td>\n",
       "      <td>1617754006691.000</td>\n",
       "      <td>0.209</td>\n",
       "      <td>0.077</td>\n",
       "      <td>0.001</td>\n",
       "      <td>0.132</td>\n",
       "      <td>0.462</td>\n",
       "    </tr>\n",
       "    <tr>\n",
       "      <th>5802</th>\n",
       "      <td>173.000</td>\n",
       "      <td>1617754008206.000</td>\n",
       "      <td>0.201</td>\n",
       "      <td>0.058</td>\n",
       "      <td>0.001</td>\n",
       "      <td>0.143</td>\n",
       "      <td>0.554</td>\n",
       "    </tr>\n",
       "    <tr>\n",
       "      <th>5803</th>\n",
       "      <td>224.000</td>\n",
       "      <td>1617754010194.000</td>\n",
       "      <td>0.100</td>\n",
       "      <td>0.012</td>\n",
       "      <td>0.002</td>\n",
       "      <td>0.088</td>\n",
       "      <td>0.786</td>\n",
       "    </tr>\n",
       "    <tr>\n",
       "      <th>5804</th>\n",
       "      <td>120.000</td>\n",
       "      <td>1617754010573.000</td>\n",
       "      <td>0.170</td>\n",
       "      <td>0.156</td>\n",
       "      <td>0.001</td>\n",
       "      <td>0.014</td>\n",
       "      <td>0.042</td>\n",
       "    </tr>\n",
       "    <tr>\n",
       "      <th>5805</th>\n",
       "      <td>95.000</td>\n",
       "      <td>1617754011338.000</td>\n",
       "      <td>0.305</td>\n",
       "      <td>0.090</td>\n",
       "      <td>0.001</td>\n",
       "      <td>0.215</td>\n",
       "      <td>0.546</td>\n",
       "    </tr>\n",
       "  </tbody>\n",
       "</table>\n",
       "</div>"
      ],
      "text/plain": [
       "      duration_ms      timestamp_ms  vel_close  vel_open  rotation_magnitude  \\\n",
       "5801      117.000 1617754006691.000      0.209     0.077               0.001   \n",
       "5802      173.000 1617754008206.000      0.201     0.058               0.001   \n",
       "5803      224.000 1617754010194.000      0.100     0.012               0.002   \n",
       "5804      120.000 1617754010573.000      0.170     0.156               0.001   \n",
       "5805       95.000 1617754011338.000      0.305     0.090               0.001   \n",
       "\n",
       "      asym  weighted_asym  \n",
       "5801 0.132          0.462  \n",
       "5802 0.143          0.554  \n",
       "5803 0.088          0.786  \n",
       "5804 0.014          0.042  \n",
       "5805 0.215          0.546  "
      ]
     },
     "execution_count": 39,
     "metadata": {},
     "output_type": "execute_result"
    }
   ],
   "source": [
    "df_gblinks['asym'] = df_gblinks['vel_close']-df_gblinks['vel_open']\n",
    "df_gblinks['weighted_asym'] = (df_gblinks['vel_close']-df_gblinks['vel_open'])/(df_gblinks['vel_close']+df_gblinks['vel_open'])\n",
    "\n",
    "df_gblinks.head()\n"
   ]
  },
  {
   "cell_type": "code",
   "execution_count": 40,
   "metadata": {},
   "outputs": [],
   "source": [
    "gblinks_success = df_gblinks[~df_gblinks['timestamp_ms'].isin(false_pos_times)]\n",
    "gblinks_failed  = df_gblinks[df_gblinks['timestamp_ms'].isin(false_pos_times)]"
   ]
  },
  {
   "cell_type": "code",
   "execution_count": 41,
   "metadata": {},
   "outputs": [
    {
     "name": "stdout",
     "output_type": "stream",
     "text": [
      "503\n",
      "663\n"
     ]
    }
   ],
   "source": [
    "print(len(gblinks_success))\n",
    "print(len(gblinks_failed))"
   ]
  },
  {
   "cell_type": "code",
   "execution_count": 42,
   "metadata": {},
   "outputs": [
    {
     "data": {
      "text/plain": [
       "<AxesSubplot:>"
      ]
     },
     "execution_count": 42,
     "metadata": {},
     "output_type": "execute_result"
    },
    {
     "data": {
      "image/png": "[encoded data removed]",
      "text/plain": [
       "<Figure size 432x288 with 1 Axes>"
      ]
     },
     "metadata": {
      "needs_background": "light"
     },
     "output_type": "display_data"
    }
   ],
   "source": [
    "gblinks_success['vel_open'].hist(bins=20)\n",
    "gblinks_failed['vel_open'].hist(bins=20,alpha=0.5)"
   ]
  },
  {
   "cell_type": "code",
   "execution_count": 43,
   "metadata": {},
   "outputs": [
    {
     "data": {
      "text/plain": [
       "<AxesSubplot:>"
      ]
     },
     "execution_count": 43,
     "metadata": {},
     "output_type": "execute_result"
    },
    {
     "data": {
      "image/png": "[encoded data removed]",
      "text/plain": [
       "<Figure size 432x288 with 1 Axes>"
      ]
     },
     "metadata": {
      "needs_background": "light"
     },
     "output_type": "display_data"
    }
   ],
   "source": [
    "gblinks_success['vel_close'].hist(bins=20)\n",
    "gblinks_failed['vel_close'].hist(bins=20,alpha=0.5)"
   ]
  },
  {
   "cell_type": "code",
   "execution_count": 44,
   "metadata": {},
   "outputs": [
    {
     "data": {
      "text/plain": [
       "<AxesSubplot:>"
      ]
     },
     "execution_count": 44,
     "metadata": {},
     "output_type": "execute_result"
    },
    {
     "data": {
      "image/png": "[encoded data removed]",
      "text/plain": [
       "<Figure size 432x288 with 1 Axes>"
      ]
     },
     "metadata": {
      "needs_background": "light"
     },
     "output_type": "display_data"
    }
   ],
   "source": [
    "gblinks_success['duration_ms'].hist(bins=20)\n",
    "gblinks_failed['duration_ms'].hist(bins=20,alpha=0.5)"
   ]
  },
  {
   "cell_type": "code",
   "execution_count": 45,
   "metadata": {},
   "outputs": [
    {
     "data": {
      "text/plain": [
       "<AxesSubplot:>"
      ]
     },
     "execution_count": 45,
     "metadata": {},
     "output_type": "execute_result"
    },
    {
     "data": {
      "image/png": "[encoded data removed]",
      "text/plain": [
       "<Figure size 432x288 with 1 Axes>"
      ]
     },
     "metadata": {
      "needs_background": "light"
     },
     "output_type": "display_data"
    }
   ],
   "source": [
    "gblinks_success['rotation_magnitude'].hist(bins=20)\n",
    "gblinks_failed['rotation_magnitude'].hist(bins=20, alpha=0.5)"
   ]
  },
  {
   "cell_type": "code",
   "execution_count": 46,
   "metadata": {},
   "outputs": [
    {
     "data": {
      "text/plain": [
       "<AxesSubplot:>"
      ]
     },
     "execution_count": 46,
     "metadata": {},
     "output_type": "execute_result"
    },
    {
     "data": {
      "image/png": "[encoded data removed]",
      "text/plain": [
       "<Figure size 432x288 with 1 Axes>"
      ]
     },
     "metadata": {
      "needs_background": "light"
     },
     "output_type": "display_data"
    }
   ],
   "source": [
    "gblinks_success['asym'].hist(bins=20)\n",
    "gblinks_failed['asym'].hist(bins=20, alpha=0.5)"
   ]
  },
  {
   "cell_type": "code",
   "execution_count": 47,
   "metadata": {},
   "outputs": [
    {
     "data": {
      "text/plain": [
       "<AxesSubplot:>"
      ]
     },
     "execution_count": 47,
     "metadata": {},
     "output_type": "execute_result"
    },
    {
     "data": {
      "image/png": "[encoded data removed]",
      "text/plain": [
       "<Figure size 432x288 with 1 Axes>"
      ]
     },
     "metadata": {
      "needs_background": "light"
     },
     "output_type": "display_data"
    }
   ],
   "source": [
    "gblinks_success['weighted_asym'].hist(bins=20)\n",
    "gblinks_failed['weighted_asym'].hist(bins=20, alpha=0.5)"
   ]
  },
  {
   "cell_type": "code",
   "execution_count": 51,
   "metadata": {},
   "outputs": [
    {
     "name": "stdout",
     "output_type": "stream",
     "text": [
      "filtered out 482 results\n",
      "original glasses:  {'true_pos': 503, 'real_pos': 507, 'false_pos': 663, 'sensitivity': 99.21104536489152, 'false_discovery': 56.861063464837045}\n",
      "filtered glasses:  {'true_pos': 431, 'real_pos': 507, 'false_pos': 253, 'sensitivity': 85.00986193293886, 'false_discovery': 36.98830409356725}\n",
      "filtered glasses:  {'true_pos': 501, 'real_pos': 507, 'false_pos': 569, 'sensitivity': 98.81656804733728, 'false_discovery': 53.17757009345795}\n"
     ]
    }
   ],
   "source": [
    "#lets filter our blink list by IF vel_close < 0.12 and/or vel_open < 0.05 and retest\n",
    "gblinks = df_gblinks['timestamp_ms'].tolist()\n",
    "#gblinks_filtered1 = df_gblinks[(df_gblinks['vel_open'] > 0.05) & (df_gblinks['vel_close'] > 0.12)]['timestamp_ms'].tolist()\n",
    "#gblinks_filtered2 = df_gblinks[(df_gblinks['vel_open'] > 0.05) | (df_gblinks['vel_close'] > 0.12)]['timestamp_ms'].tolist()\n",
    "gblinks_filtered1 = df_gblinks[(df_gblinks['weighted_asym'] < 0.5) & (df_gblinks['weighted_asym'] > 0.0)]['timestamp_ms'].tolist()\n",
    "gblinks_filtered2 = df_gblinks[(df_gblinks['duration_ms'] > 50) & (df_gblinks['vel_open'] < 0.4) & (df_gblinks['vel_close'] < 0.4)]['timestamp_ms'].tolist()\n",
    "\n",
    "\n",
    "\n",
    "\n",
    "print('filtered out', len(gblinks)-len(gblinks_filtered1),'results')\n",
    "gresults, false_pos_times = test_results(ablinks, gblinks, BEST_MARGIN)\n",
    "\n",
    "print('original glasses: ',gresults)\n",
    "gresults, false_pos_times = test_results(ablinks, gblinks_filtered1, BEST_MARGIN)\n",
    "print('filtered glasses: ',gresults)\n",
    "gresults, false_pos_times = test_results(ablinks, gblinks_filtered2, BEST_MARGIN)\n",
    "print('filtered glasses: ',gresults)"
   ]
  },
  {
   "cell_type": "code",
   "execution_count": 55,
   "metadata": {},
   "outputs": [
    {
     "name": "stdout",
     "output_type": "stream",
     "text": [
      "filtered out 268 results\n",
      "original glasses:  {'true_pos': 503, 'real_pos': 507, 'false_pos': 663, 'sensitivity': 99.21104536489152, 'false_discovery': 56.861063464837045}\n",
      "filtered glasses:  {'true_pos': 486, 'real_pos': 507, 'false_pos': 412, 'sensitivity': 95.85798816568047, 'false_discovery': 45.87973273942094}\n",
      "filtered glasses:  {'true_pos': 468, 'real_pos': 507, 'false_pos': 336, 'sensitivity': 92.3076923076923, 'false_discovery': 41.7910447761194}\n"
     ]
    }
   ],
   "source": [
    "gblinks = df_gblinks['timestamp_ms'].tolist()\n",
    "gblinks_filtered1 = df_gblinks[(df_gblinks['vel_open'] > 0.05) | (df_gblinks['vel_close'] > 0.12)]['timestamp_ms'].tolist()\n",
    "gblinks_filtered2 = df_gblinks[((df_gblinks['vel_open'] > 0.06) | (df_gblinks['vel_close'] > 0.12)) & (df_gblinks['rotation_magnitude'] < 0.05)]['timestamp_ms'].tolist()\n",
    "\n",
    "\n",
    "print('filtered out', len(gblinks)-len(gblinks_filtered1),'results')\n",
    "gresults, false_pos_times = test_results(ablinks, gblinks, BEST_MARGIN)\n",
    "\n",
    "print('original glasses: ',gresults)\n",
    "gresults, false_pos_times = test_results(ablinks, gblinks_filtered1, BEST_MARGIN)\n",
    "print('filtered glasses: ',gresults)\n",
    "gresults, false_pos_times = test_results(ablinks, gblinks_filtered2, BEST_MARGIN)\n",
    "print('filtered glasses: ',gresults)"
   ]
  },
  {
   "cell_type": "code",
   "execution_count": 56,
   "metadata": {},
   "outputs": [
    {
     "name": "stdout",
     "output_type": "stream",
     "text": [
      "{'openface': {'true_pos': 385, 'real_pos': 507, 'false_pos': 235, 'sensitivity': 75.93688362919131, 'false_discovery': 37.903225806451616}, 'glasses': {'true_pos': 503, 'real_pos': 507, 'false_pos': 663, 'sensitivity': 99.21104536489152, 'false_discovery': 56.861063464837045}, 'glasses_filtered': {'true_pos': 486, 'real_pos': 507, 'false_pos': 412, 'sensitivity': 95.85798816568047, 'false_discovery': 45.87973273942094}}\n"
     ]
    }
   ],
   "source": [
    "#lets save our results!\n",
    "final_results = {}\n",
    "\n",
    "vblinks = []\n",
    "for i in hand_annotations: vblinks.extend(vid_meta_data['blink_timestamps_per_session'][i])\n",
    "vresults, _ = test_results(ablinks, vblinks, BEST_MARGIN)\n",
    "final_results['openface'] = vresults\n",
    "\n",
    "gblinks = df_gblinks['timestamp_ms'].tolist()\n",
    "gresults, _ = test_results(ablinks, gblinks, BEST_MARGIN)\n",
    "final_results['glasses'] = gresults\n",
    "\n",
    "gblinks_filtered = df_gblinks[(df_gblinks['vel_open'] > 0.05) | (df_gblinks['vel_close'] > 0.12)]['timestamp_ms'].tolist()\n",
    "gresults, _ = test_results(ablinks, gblinks_filtered, BEST_MARGIN)\n",
    "final_results['glasses_filtered'] = gresults\n",
    "\n",
    "print(final_results)"
   ]
  },
  {
   "cell_type": "code",
   "execution_count": 57,
   "metadata": {},
   "outputs": [],
   "source": [
    "pickle.dump(final_results, open( './cleaned_data/' + SESSION + '/final_results.p', \"wb\" ))"
   ]
  },
  {
   "cell_type": "code",
   "execution_count": null,
   "metadata": {},
   "outputs": [],
   "source": []
  }
 ],
 "metadata": {
  "kernelspec": {
   "display_name": "Python 3",
   "language": "python",
   "name": "python3"
  },
  "language_info": {
   "codemirror_mode": {
    "name": "ipython",
    "version": 3
   },
   "file_extension": ".py",
   "mimetype": "text/x-python",
   "name": "python",
   "nbconvert_exporter": "python",
   "pygments_lexer": "ipython3",
   "version": "3.9.4"
  }
 },
 "nbformat": 4,
 "nbformat_minor": 2
}
