{
 "cells": [
  {
   "cell_type": "markdown",
   "metadata": {},
   "source": [
    "# Getting Started Comparing Hand Annotated Blinks with OF and Glasses\n",
    "We've hand annotated some of Patrick 3 with the 'Hand Annotate Videos' script, now let's see how we did.\n",
    "\n",
    "We need to load in our hand annotations `hand_annotations` from `hand_annotations.p`, which is a dictionary with key = index of video session, value = array of timestamps of hand labels.\n",
    "\n",
    "We need to load in our video sessions with the openface labels `vid_meta_data` from `video_blink_sessions.p`.  We'll just use the sessions we have hand annotations for.\n",
    "\n",
    "We need to load in our glasses blink data, time corrected.  We can either load in\n",
    "- (1) the results from our baseline classifier df, which is a df that includes a timestamp, duration, and peak velocities for each blink we identified, from `glasses_all_blink_timestamps_uncorrected.p`.  This is without the timestamp correction to align it with video, so we also need to load and apply `best_offset.p` to time align the blinks properly.\n",
    "- (2) we could load in the raw `blink_sess` from `sessions_blink.p`, which is the raw data right off the sensor.  This is also not time corrected and we'll need to apply `best_offset.p`\n",
    "\n",
    "Finally, we may need to load in `sessions_accel.p` if it turns out we need to use the accelerometer data to try and remove blink artifacts based on motion.  Again, this glasses data will need to have `best_offset.p` applied to its timestamps before using it."
   ]
  },
  {
   "cell_type": "code",
   "execution_count": 47,
   "metadata": {},
   "outputs": [],
   "source": [
    "import json\n",
    "from datetime import datetime , timezone\n",
    "import time\n",
    "import numpy as np\n",
    "import codecs\n",
    "import struct\n",
    "import matplotlib.pyplot as plt\n",
    "import pandas as pd\n",
    "import pickle\n",
    "import pycorrelate\n",
    "import collections\n",
    "import itertools\n",
    "from mpl_toolkits import mplot3d\n",
    "import cv2\n",
    "import imutils\n",
    "import os\n",
    "from scipy.spatial.transform import Rotation as R\n",
    "\n",
    "pd.options.display.float_format = '{:.3f}'.format\n",
    "pd.set_option('display.max_rows', 1000)\n",
    "%matplotlib inline"
   ]
  },
  {
   "cell_type": "markdown",
   "metadata": {},
   "source": [
    "### Step 1: Load Data (and correct glasses time offset to align everything)"
   ]
  },
  {
   "cell_type": "code",
   "execution_count": 3,
   "metadata": {},
   "outputs": [
    {
     "name": "stdout",
     "output_type": "stream",
     "text": [
      "Please Choose a Session to Work With:\n",
      "david_2,  patrick_1,  patrick_2,  beata_1,  david_3b,  irmandy_1,  juliana_1,  irmandy_2,  patrick_3,  "
     ]
    }
   ],
   "source": [
    "metadata = pickle.load(open('./cleaned_data/metadata.p', 'rb'))\n",
    "print('Please Choose a Session to Work With:')\n",
    "for k in metadata: print(k, end=',  ')"
   ]
  },
  {
   "cell_type": "code",
   "execution_count": 4,
   "metadata": {},
   "outputs": [],
   "source": [
    "SESSION = 'patrick_3'"
   ]
  },
  {
   "cell_type": "code",
   "execution_count": 38,
   "metadata": {},
   "outputs": [],
   "source": [
    "hand_annotations = pickle.load(open('./cleaned_data/' + SESSION + '/hand_annotations.p', \"rb\" ))\n",
    "\n",
    "vid_meta_data = pickle.load(open('./cleaned_data/' + SESSION + '/video_blink_sessions.p', \"rb\" ))\n",
    "\n",
    "accel_sess = pickle.load(open('./cleaned_data/' + SESSION + '/sessions_accel.p', \"rb\" ))\n",
    "for i in range(len(accel_sess)): accel_sess[i]['timestamp_ms'] = accel_sess[i]['timestamp_ms'] + best_offset\n",
    "\n",
    "df_glasses_blinks = pickle.load(open('./cleaned_data/' + SESSION + '/glasses_all_blink_timestamps_uncorrected.p', \"rb\" ))\n",
    "df_glasses_blinks['timestamp_ms'] = df_glasses_blinks['timestamp_ms'] + best_offset"
   ]
  },
  {
   "cell_type": "code",
   "execution_count": 39,
   "metadata": {},
   "outputs": [
    {
     "name": "stdout",
     "output_type": "stream",
     "text": [
      "hand annotations represent 263 blinks with 544.23 secs of recording.  That's a blink rate of 28.99 blinks/min.\n",
      "skipped 8 snippets with 26.11 sec of recording.  These are probably worse for OF because they were hard to classify by eye.\n"
     ]
    }
   ],
   "source": [
    "total_blinks, total_dur_sec, total_num_skipped, total_dur_skipped = 0, 0, 0, 0\n",
    "for k in hand_annotations:\n",
    "    try:\n",
    "        total_blinks += len(hand_annotations[k])\n",
    "        total_dur_sec += vid_meta_data['duration_sessions_sec'][k]\n",
    "    except:\n",
    "        total_num_skipped +=1\n",
    "        total_dur_skipped += vid_meta_data['duration_sessions_sec'][k]\n",
    "\n",
    "print('hand annotations represent %d blinks with %3.2f secs of recording.  That\\'s a blink rate of %2.2f blinks/min.'%(total_blinks, total_dur_sec, 60*total_blinks/total_dur_sec))\n",
    "print('skipped %d snippets with %3.2f sec of recording.  These are probably worse for OF because they were hard to classify by eye.'%(total_num_skipped, total_dur_skipped))"
   ]
  },
  {
   "cell_type": "markdown",
   "metadata": {},
   "source": [
    "#### Now we will eliminate the sections we skipped when hand annotating\n",
    "We skipped some sections during annotation because of the ambiguity/difficulty and saved them as 'None'.  OF would likely struggle with these, but we can't even really tell ourselves; OF shouldn't have been confident.  We'll work just with our known good data now and eliminate values of 'None' from our hand annotations."
   ]
  },
  {
   "cell_type": "code",
   "execution_count": 40,
   "metadata": {},
   "outputs": [],
   "source": [
    "filtered = {k: v for k, v in hand_annotations.items() if v is not None}\n",
    "hand_annotations.clear()\n",
    "hand_annotations.update(filtered)"
   ]
  },
  {
   "cell_type": "markdown",
   "metadata": {},
   "source": [
    "### Step 2: For simplicity, add motion to df_glasses_blinks and remove accel_sess, since we won't need it anymore"
   ]
  },
  {
   "cell_type": "code",
   "execution_count": 41,
   "metadata": {},
   "outputs": [],
   "source": [
    "def df_between_timestamps(df, time_col, start_time, end_time):\n",
    "    return df[(start_time <= df[time_col]) & (df[time_col] <= end_time)].copy()\n",
    "\n",
    "def rotation_mag_between_rows(row_start, row_end):\n",
    "    rotation = R.from_quat(row_start[['quatReal', 'quatI', 'quatJ', 'quatK']]).inv() * R.from_quat(row_end[['quatReal', 'quatI', 'quatJ', 'quatK']])\n",
    "    return rotation.magnitude()\n",
    "    \n",
    "def get_rotation_mag_by_timestamp(timestamp):\n",
    "    for sess in accel_sess:\n",
    "        #if our timestamp is in this session\n",
    "        if sess['timestamp_ms'].iloc[0] <= timestamp <= sess['timestamp_ms'].iloc[-1]:\n",
    "            #get the two closest timestamps\n",
    "            df_closest = sess.iloc[(sess['timestamp_ms']-timestamp).abs().argsort()[:2]]\n",
    "            #return the rotation of these two\n",
    "            return rotation_mag_between_rows(df_closest.iloc[0], df_closest.iloc[1])\n",
    "    #if we fail to find it in our glasses data for acceleration, return np.nan\n",
    "    return np.nan"
   ]
  },
  {
   "cell_type": "code",
   "execution_count": 42,
   "metadata": {},
   "outputs": [
    {
     "data": {
      "text/html": [
       "<div>\n",
       "<style scoped>\n",
       "    .dataframe tbody tr th:only-of-type {\n",
       "        vertical-align: middle;\n",
       "    }\n",
       "\n",
       "    .dataframe tbody tr th {\n",
       "        vertical-align: top;\n",
       "    }\n",
       "\n",
       "    .dataframe thead th {\n",
       "        text-align: right;\n",
       "    }\n",
       "</style>\n",
       "<table border=\"1\" class=\"dataframe\">\n",
       "  <thead>\n",
       "    <tr style=\"text-align: right;\">\n",
       "      <th></th>\n",
       "      <th>duration_ms</th>\n",
       "      <th>timestamp_ms</th>\n",
       "      <th>vel_close</th>\n",
       "      <th>vel_open</th>\n",
       "      <th>rotation_magnitude</th>\n",
       "    </tr>\n",
       "  </thead>\n",
       "  <tbody>\n",
       "    <tr>\n",
       "      <th>0</th>\n",
       "      <td>13.0</td>\n",
       "      <td>1.619630e+12</td>\n",
       "      <td>0.3872</td>\n",
       "      <td>0.0112</td>\n",
       "      <td>NaN</td>\n",
       "    </tr>\n",
       "    <tr>\n",
       "      <th>1</th>\n",
       "      <td>65.0</td>\n",
       "      <td>1.619630e+12</td>\n",
       "      <td>0.1184</td>\n",
       "      <td>0.2104</td>\n",
       "      <td>NaN</td>\n",
       "    </tr>\n",
       "    <tr>\n",
       "      <th>2</th>\n",
       "      <td>144.0</td>\n",
       "      <td>1.619630e+12</td>\n",
       "      <td>0.2256</td>\n",
       "      <td>0.0712</td>\n",
       "      <td>0.015130</td>\n",
       "    </tr>\n",
       "    <tr>\n",
       "      <th>3</th>\n",
       "      <td>159.0</td>\n",
       "      <td>1.619630e+12</td>\n",
       "      <td>0.0672</td>\n",
       "      <td>0.0544</td>\n",
       "      <td>0.185322</td>\n",
       "    </tr>\n",
       "    <tr>\n",
       "      <th>4</th>\n",
       "      <td>194.0</td>\n",
       "      <td>1.619630e+12</td>\n",
       "      <td>0.2344</td>\n",
       "      <td>0.0496</td>\n",
       "      <td>0.009394</td>\n",
       "    </tr>\n",
       "    <tr>\n",
       "      <th>5</th>\n",
       "      <td>76.0</td>\n",
       "      <td>1.619630e+12</td>\n",
       "      <td>0.0912</td>\n",
       "      <td>0.2240</td>\n",
       "      <td>0.005913</td>\n",
       "    </tr>\n",
       "    <tr>\n",
       "      <th>6</th>\n",
       "      <td>80.0</td>\n",
       "      <td>1.619630e+12</td>\n",
       "      <td>0.2008</td>\n",
       "      <td>0.0360</td>\n",
       "      <td>0.005440</td>\n",
       "    </tr>\n",
       "    <tr>\n",
       "      <th>7</th>\n",
       "      <td>125.0</td>\n",
       "      <td>1.619630e+12</td>\n",
       "      <td>0.1320</td>\n",
       "      <td>0.1280</td>\n",
       "      <td>0.012470</td>\n",
       "    </tr>\n",
       "    <tr>\n",
       "      <th>8</th>\n",
       "      <td>65.0</td>\n",
       "      <td>1.619630e+12</td>\n",
       "      <td>0.1272</td>\n",
       "      <td>0.0200</td>\n",
       "      <td>0.019732</td>\n",
       "    </tr>\n",
       "    <tr>\n",
       "      <th>9</th>\n",
       "      <td>99.0</td>\n",
       "      <td>1.619630e+12</td>\n",
       "      <td>0.1136</td>\n",
       "      <td>0.0928</td>\n",
       "      <td>0.028984</td>\n",
       "    </tr>\n",
       "  </tbody>\n",
       "</table>\n",
       "</div>"
      ],
      "text/plain": [
       "   duration_ms  timestamp_ms  vel_close  vel_open  rotation_magnitude\n",
       "0         13.0  1.619630e+12     0.3872    0.0112                 NaN\n",
       "1         65.0  1.619630e+12     0.1184    0.2104                 NaN\n",
       "2        144.0  1.619630e+12     0.2256    0.0712            0.015130\n",
       "3        159.0  1.619630e+12     0.0672    0.0544            0.185322\n",
       "4        194.0  1.619630e+12     0.2344    0.0496            0.009394\n",
       "5         76.0  1.619630e+12     0.0912    0.2240            0.005913\n",
       "6         80.0  1.619630e+12     0.2008    0.0360            0.005440\n",
       "7        125.0  1.619630e+12     0.1320    0.1280            0.012470\n",
       "8         65.0  1.619630e+12     0.1272    0.0200            0.019732\n",
       "9         99.0  1.619630e+12     0.1136    0.0928            0.028984"
      ]
     },
     "execution_count": 42,
     "metadata": {},
     "output_type": "execute_result"
    }
   ],
   "source": [
    "df_glasses_blinks['rotation_magnitude'] = df_glasses_blinks.apply(lambda row: get_rotation_mag_by_timestamp(row['timestamp_ms']), axis=1)\n",
    "del accel_sess\n",
    "df_glasses_blinks.head(10)"
   ]
  },
  {
   "cell_type": "markdown",
   "metadata": {},
   "source": [
    "We now have clean, easy to use and work with data that is all time aligned!\n",
    "\n",
    "`vid_meta_data` - a dict with sessions of good tracking from OF, timestamped at the start and end, as well as lists of timestamps of blink events.\n",
    "\n",
    "`hand_annotations` - a dict where the key indexes the session from `vid_meta_data`, and the value is a list of timestamps of blink events.\n",
    "\n",
    "`df_glasses_blinks` - a df where every row represents a blink captured by our glasses/basic glasses algorithm, timestamped, and including blink duration, vel_open, vel_close, and rotation_magnitude of the head during that blink."
   ]
  },
  {
   "cell_type": "markdown",
   "metadata": {},
   "source": [
    "### Step 3: Compare Hand Annotations with Blink Classification from OF and the Glasses\n",
    "\n",
    "We'll start by simply: \n",
    "\n",
    "(1) printing basic hand annotation data (duration annotated, blinks/sec, number of sessions, number of blinks, etc)\n",
    "\n",
    "(2) reducing our blink list for glasses and video into one list for each, which only includes blinks that occur during our hand anotation sections.\n",
    "\n",
    "(3) comparing the OF list and the glasses list to the hand annotation list.  Iterate over real blink times, removing first instance of classified blink that falls within some error bar.  Get metrics for true/false positives and compare.\n",
    "\n",
    "(4) store indices of glasses blinks that are false positives, and create a df for true positives and false positives.  Look at differences between vel/duration/rotation_mag when true or false positive.\n",
    "\n",
    "(5) plot(?) each over top of one another?  May be useful\n",
    "\n"
   ]
  },
  {
   "cell_type": "code",
   "execution_count": 85,
   "metadata": {},
   "outputs": [],
   "source": [
    "#get glasses blinks that occur during hand annotation timing (df_gblinks), get lists of just timestamps for glasses (gblinks), openface (vblinks), and annotated (ablinks)\n",
    "glasses_blinks_during_handannotate_times = []\n",
    "vblinks, ablinks = [], []\n",
    "\n",
    "for i in hand_annotations:\n",
    "    glasses_blinks_during_handannotate_times.append(df_between_timestamps(df_glasses_blinks, \n",
    "                                                  'timestamp_ms', \n",
    "                                                  vid_meta_data['session_times'][i][0], \n",
    "                                                  vid_meta_data['session_times'][i][1]))\n",
    "    \n",
    "    vblinks.extend(vid_meta_data['blink_timestamps_per_session'][i])\n",
    "    ablinks.extend(hand_annotations[i])\n",
    "    \n",
    "df_gblinks = pd.concat(glasses_blinks_during_handannotate_times)\n",
    "gblinks = df_gblinks['timestamp_ms'].tolist()"
   ]
  },
  {
   "cell_type": "code",
   "execution_count": 86,
   "metadata": {},
   "outputs": [
    {
     "name": "stdout",
     "output_type": "stream",
     "text": [
      "Got:\n",
      "\t  279 blinks (openface)\n",
      "\t  378 blinks (glasses)\n",
      "\t  263 blinks (annotated)\n"
     ]
    }
   ],
   "source": [
    "print('Got:')\n",
    "print('\\t%5d blinks (openface)'%len(vblinks))\n",
    "print('\\t%5d blinks (glasses)' %len(gblinks))\n",
    "print('\\t%5d blinks (annotated)'%len(ablinks))"
   ]
  },
  {
   "cell_type": "code",
   "execution_count": 87,
   "metadata": {},
   "outputs": [],
   "source": [
    "def debounce_data(list_of_times, debounce_dur_ms=200):\n",
    "    \n",
    "    indices_to_remove = []\n",
    "    for i in range(1, len(list_of_times)):\n",
    "        if list_of_times[i-1] >= list_of_times[i] - debounce_dur_ms:\n",
    "            indices_to_remove.append(i)\n",
    "\n",
    "    for index in sorted(indices_to_remove, reverse=True):\n",
    "        del list_of_times[index]\n",
    "        \n",
    "    return list_of_times\n",
    "\n",
    "def test_results(annotated_blinklist, test_blinklist, tolerance_ms=400):\n",
    "    results = {'true_pos':0, 'real_pos':len(annotated_blinklist)}\n",
    "\n",
    "    for  atime in annotated_blinklist:\n",
    "        for ttime in test_blinklist:\n",
    "            if ttime-tolerance_ms <= atime <= ttime+tolerance_ms:\n",
    "                results['true_pos'] += 1\n",
    "                test_blinklist.remove(ttime)\n",
    "                break\n",
    "    results['false_pos'] = len(test_blinklist)\n",
    "    results['sensitivity'] = results['true_pos'] / results['real_pos'] * 100\n",
    "    results['false_discovery'] = results['false_pos'] / (results['false_pos'] + results['true_pos']) * 100\n",
    "    \n",
    "    return results, test_blinklist"
   ]
  },
  {
   "cell_type": "code",
   "execution_count": 88,
   "metadata": {},
   "outputs": [
    {
     "name": "stdout",
     "output_type": "stream",
     "text": [
      "glasses:  {'true_pos': 254, 'real_pos': 263, 'false_pos': 124, 'sensitivity': 96.57794676806084, 'false_discovery': 32.804232804232804}\n",
      "openface: {'true_pos': 152, 'real_pos': 263, 'false_pos': 127, 'sensitivity': 57.79467680608364, 'false_discovery': 45.51971326164875}\n"
     ]
    }
   ],
   "source": [
    "#gblinks_debounce = debounce_data(gblinks)\n",
    "gresults, false_pos_times = test_results(ablinks, gblinks)\n",
    "print('glasses: ',gresults)\n",
    "\n",
    "vresults, _ = test_results(ablinks, vblinks)\n",
    "print('openface:',vresults)"
   ]
  },
  {
   "cell_type": "code",
   "execution_count": 89,
   "metadata": {},
   "outputs": [],
   "source": [
    "gblinks_success = df_gblinks[~df_gblinks['timestamp_ms'].isin(false_pos_times)]\n",
    "gblinks_failed  = df_gblinks[df_gblinks['timestamp_ms'].isin(false_pos_times)]"
   ]
  },
  {
   "cell_type": "code",
   "execution_count": 90,
   "metadata": {},
   "outputs": [
    {
     "name": "stdout",
     "output_type": "stream",
     "text": [
      "254\n",
      "124\n"
     ]
    }
   ],
   "source": [
    "print(len(gblinks_success))\n",
    "print(len(gblinks_failed))"
   ]
  },
  {
   "cell_type": "code",
   "execution_count": 99,
   "metadata": {},
   "outputs": [
    {
     "data": {
      "text/plain": [
       "<AxesSubplot:>"
      ]
     },
     "execution_count": 99,
     "metadata": {},
     "output_type": "execute_result"
    },
    {
     "data": {
      "image/png": "[encoded data removed]",
      "text/plain": [
       "<Figure size 432x288 with 1 Axes>"
      ]
     },
     "metadata": {
      "needs_background": "light"
     },
     "output_type": "display_data"
    }
   ],
   "source": [
    "gblinks_success['vel_open'].hist(bins=20)\n",
    "gblinks_failed['vel_open'].hist(bins=20,alpha=0.5)"
   ]
  },
  {
   "cell_type": "code",
   "execution_count": 98,
   "metadata": {},
   "outputs": [
    {
     "data": {
      "text/plain": [
       "<AxesSubplot:>"
      ]
     },
     "execution_count": 98,
     "metadata": {},
     "output_type": "execute_result"
    },
    {
     "data": {
      "image/png": "[encoded data removed]",
      "text/plain": [
       "<Figure size 432x288 with 1 Axes>"
      ]
     },
     "metadata": {
      "needs_background": "light"
     },
     "output_type": "display_data"
    }
   ],
   "source": [
    "gblinks_success['vel_close'].hist(bins=20)\n",
    "gblinks_failed['vel_close'].hist(bins=20,alpha=0.5)"
   ]
  },
  {
   "cell_type": "code",
   "execution_count": 97,
   "metadata": {},
   "outputs": [
    {
     "data": {
      "text/plain": [
       "<AxesSubplot:>"
      ]
     },
     "execution_count": 97,
     "metadata": {},
     "output_type": "execute_result"
    },
    {
     "data": {
      "image/png": "[encoded data removed]",
      "text/plain": [
       "<Figure size 432x288 with 1 Axes>"
      ]
     },
     "metadata": {
      "needs_background": "light"
     },
     "output_type": "display_data"
    }
   ],
   "source": [
    "gblinks_success['duration_ms'].hist(bins=20)\n",
    "gblinks_failed['duration_ms'].hist(bins=20,alpha=0.5)"
   ]
  },
  {
   "cell_type": "code",
   "execution_count": 96,
   "metadata": {},
   "outputs": [
    {
     "data": {
      "text/plain": [
       "<AxesSubplot:>"
      ]
     },
     "execution_count": 96,
     "metadata": {},
     "output_type": "execute_result"
    },
    {
     "data": {
      "image/png": "[encoded data removed]",
      "text/plain": [
       "<Figure size 432x288 with 1 Axes>"
      ]
     },
     "metadata": {
      "needs_background": "light"
     },
     "output_type": "display_data"
    }
   ],
   "source": [
    "gblinks_success['rotation_magnitude'].hist(bins=20)\n",
    "gblinks_failed['rotation_magnitude'].hist(bins=20, alpha=0.5)"
   ]
  },
  {
   "cell_type": "code",
   "execution_count": null,
   "metadata": {},
   "outputs": [],
   "source": []
  }
 ],
 "metadata": {
  "kernelspec": {
   "display_name": "Python 3",
   "language": "python",
   "name": "python3"
  },
  "language_info": {
   "codemirror_mode": {
    "name": "ipython",
    "version": 3
   },
   "file_extension": ".py",
   "mimetype": "text/x-python",
   "name": "python",
   "nbconvert_exporter": "python",
   "pygments_lexer": "ipython3",
   "version": "3.9.4"
  }
 },
 "nbformat": 4,
 "nbformat_minor": 2
}
