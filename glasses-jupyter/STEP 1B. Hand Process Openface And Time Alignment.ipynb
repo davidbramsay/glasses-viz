{
 "cells": [
  {
   "cell_type": "markdown",
   "metadata": {},
   "source": [
    "# EXPECTS:\n",
    " `metadata.p` from Process Incoming data about all user sessions.\n",
    " `video_consolidated.p` from Processing Incoming data script in the user folder of interest, which is simply the pared down raw openface and eyeratio data that has had an approximate timestamp added based on what we believe from the GoPro.\n",
    " `sessions_blink.p` from Processing Incoming data script in the user folder of interest, which is just a list of DFs of glasses blink data, timestamped roughly using the serverTimestamp as a starting point and the uC tick as the main clock source.\n",
    " \n",
    "# OUTPUTS:\n",
    " - the goal of this script is to output `best_offset.p` to the user session folder, which is the offset to add to the glasses data to align it to the video.\n",
    " \n",
    " - it is also to output `video_blink_sessions.p` -- a df of the video data that has been chopped into snippets in which the classifier believes it has succeeded continuously, along with session info and timestamps for each blink within the video.  We typically open this and save it as `vid_meta_data`.\n",
    "\n",
    " - it will also output `glasses_all_blink_timestamps_uncorrected.p` to the user folder, which is a list of blink times from the glasses without the offset applied.  These are discovered with our default algorithm set at thresh=0.06, blink_dur_ms=250, lpf_samples=50, dx_lpf_samples=25.\n",
    " \n",
    "We will still need to APPLY a debounce to the video (could change threshold), and our BEST_OFFSET to any glasses data we work with, in the future."
   ]
  },
  {
   "cell_type": "code",
   "execution_count": 29,
   "metadata": {},
   "outputs": [],
   "source": [
    "import json\n",
    "from datetime import datetime , timezone\n",
    "import time\n",
    "import numpy as np\n",
    "import codecs\n",
    "import struct\n",
    "import matplotlib.pyplot as plt\n",
    "import pandas as pd\n",
    "import pickle\n",
    "import pycorrelate\n",
    "import collections\n",
    "import itertools\n",
    "from mpl_toolkits import mplot3d\n",
    "import cv2\n",
    "import imutils\n",
    "import os\n",
    "\n",
    "pd.set_option('display.max_rows', 1000)\n",
    "%matplotlib inline"
   ]
  },
  {
   "cell_type": "markdown",
   "metadata": {},
   "source": [
    "### 1. Pick a session to work with!"
   ]
  },
  {
   "cell_type": "code",
   "execution_count": 30,
   "metadata": {},
   "outputs": [
    {
     "name": "stdout",
     "output_type": "stream",
     "text": [
      "Please Choose a Session to Work With:\n",
      "david_2,  patrick_1,  patrick_2,  beata_1,  david_3b,  irmandy_1,  juliana_1,  irmandy_2,  patrick_3,  "
     ]
    }
   ],
   "source": [
    "metadata = pickle.load(open('./cleaned_data/metadata.p', 'rb'))\n",
    "print('Please Choose a Session to Work With:')\n",
    "for k in metadata: print(k, end=',  ')"
   ]
  },
  {
   "cell_type": "code",
   "execution_count": 31,
   "metadata": {},
   "outputs": [],
   "source": [
    "SESSION = 'beata_1'"
   ]
  },
  {
   "cell_type": "markdown",
   "metadata": {},
   "source": [
    "let's print some basic summary statistics based on the metadata for this session:"
   ]
  },
  {
   "cell_type": "code",
   "execution_count": 32,
   "metadata": {},
   "outputs": [
    {
     "name": "stdout",
     "output_type": "stream",
     "text": [
      "beata_1 on 04/02\n",
      "----------\n",
      "08:47 hr of glassess data starting at 04/02/21 12:13:25PM EDT\n",
      "08:07 hr of    video data starting at 04/02/21 12:16:30PM EDT\n",
      "----------\n",
      "glasses sessions:\n",
      "session 0: 04/02/21 12:13:25PM EDT to 04/02/21 04:39:00PM EDT \tduration:  265.59 min\n",
      "session 1: 04/02/21 04:54:44PM EDT to 04/02/21 09:16:13PM EDT \tduration:  261.48 min\n"
     ]
    }
   ],
   "source": [
    "s_meta = metadata[SESSION]\n",
    "\n",
    "try:\n",
    "    print(SESSION, 'on', s_meta['date'])\n",
    "    print('-'*10)\n",
    "    print(s_meta['glasses_sessions_total_duration_string'], 'hr of glassess data starting at', \\\n",
    "          s_meta['glasses_session_times'][0][0])\n",
    "    print('%02d:%02d hr of    video data starting at ' % (s_meta['vid_duration_sec'] / 60 // 60, \n",
    "           s_meta['vid_duration_sec'] / 60 % 60 )  + s_meta['vid_start'])\n",
    "    print('-'*10)\n",
    "    print('glasses sessions:')\n",
    "    for i in range(len(s_meta['glasses_session_times'])):\n",
    "        print('session ' + str(i) + ':',s_meta['glasses_session_times'][i][0],'to',\\\n",
    "              s_meta['glasses_session_times'][i][1],'\\tduration:%8.2f min' % s_meta['glasses_session_durations_min'][i])\n",
    "except:\n",
    "    print('failed to load video analysis file.')"
   ]
  },
  {
   "cell_type": "markdown",
   "metadata": {},
   "source": [
    "### Load the Data\n",
    "...and let's load in the data, and plot what we have just to take a look, by session"
   ]
  },
  {
   "cell_type": "code",
   "execution_count": 33,
   "metadata": {},
   "outputs": [
    {
     "name": "stderr",
     "output_type": "stream",
     "text": [
      "/usr/local/lib/python3.9/site-packages/numpy/lib/arraysetops.py:583: FutureWarning: elementwise comparison failed; returning scalar instead, but in the future will perform elementwise comparison\n",
      "  mask |= (ar1 == a)\n"
     ]
    }
   ],
   "source": [
    "#load video data (eyeratio and openface features), 60 Hz (16 ms between samples)\n",
    "df_vid = pd.read_csv('./cleaned_data/' + SESSION + '/video_consolidated.csv', index_col=0)\n",
    "\n",
    "#load glasses blink data, 1kHz (1 ms between samples)\n",
    "blink_sess = pickle.load(open('./cleaned_data/' + SESSION + '/sessions_blink.p', 'rb'))\n",
    "\n",
    "# give some stupid FutureWarning error thanks to pandas and numpy not being in sync.\n",
    "# https://stackoverflow.com/questions/48818335/why-pandas-read-csv-issues-this-warning-elementwise-comparison-failed"
   ]
  },
  {
   "cell_type": "code",
   "execution_count": 34,
   "metadata": {},
   "outputs": [
    {
     "data": {
      "text/plain": [
       "1    1060309\n",
       "0     694459\n",
       "Name: success, dtype: int64"
      ]
     },
     "execution_count": 34,
     "metadata": {},
     "output_type": "execute_result"
    }
   ],
   "source": [
    "df_vid['success'].value_counts()"
   ]
  },
  {
   "cell_type": "code",
   "execution_count": 35,
   "metadata": {},
   "outputs": [
    {
     "data": {
      "text/html": [
       "<div>\n",
       "<style scoped>\n",
       "    .dataframe tbody tr th:only-of-type {\n",
       "        vertical-align: middle;\n",
       "    }\n",
       "\n",
       "    .dataframe tbody tr th {\n",
       "        vertical-align: top;\n",
       "    }\n",
       "\n",
       "    .dataframe thead th {\n",
       "        text-align: right;\n",
       "    }\n",
       "</style>\n",
       "<table border=\"1\" class=\"dataframe\">\n",
       "  <thead>\n",
       "    <tr style=\"text-align: right;\">\n",
       "      <th></th>\n",
       "      <th>timestamp_ms</th>\n",
       "      <th>value</th>\n",
       "    </tr>\n",
       "  </thead>\n",
       "  <tbody>\n",
       "    <tr>\n",
       "      <th>0</th>\n",
       "      <td>1617380005517</td>\n",
       "      <td>253</td>\n",
       "    </tr>\n",
       "    <tr>\n",
       "      <th>1</th>\n",
       "      <td>1617380005518</td>\n",
       "      <td>253</td>\n",
       "    </tr>\n",
       "    <tr>\n",
       "      <th>2</th>\n",
       "      <td>1617380005519</td>\n",
       "      <td>253</td>\n",
       "    </tr>\n",
       "    <tr>\n",
       "      <th>3</th>\n",
       "      <td>1617380005520</td>\n",
       "      <td>127</td>\n",
       "    </tr>\n",
       "    <tr>\n",
       "      <th>4</th>\n",
       "      <td>1617380005521</td>\n",
       "      <td>119</td>\n",
       "    </tr>\n",
       "  </tbody>\n",
       "</table>\n",
       "</div>"
      ],
      "text/plain": [
       "    timestamp_ms  value\n",
       "0  1617380005517    253\n",
       "1  1617380005518    253\n",
       "2  1617380005519    253\n",
       "3  1617380005520    127\n",
       "4  1617380005521    119"
      ]
     },
     "execution_count": 35,
     "metadata": {},
     "output_type": "execute_result"
    }
   ],
   "source": [
    "blink_sess[0].head()"
   ]
  },
  {
   "cell_type": "code",
   "execution_count": 36,
   "metadata": {},
   "outputs": [],
   "source": [
    "def string_to_timestamp_ms(datestring):\n",
    "    return datetime.strptime(datestring, '%m/%d/%y %I:%M:%S%p %Z').timestamp()*1000\n",
    "\n",
    "def timestamp_ms_to_string(timestamp):\n",
    "    local_tz = datetime.now().astimezone().tzinfo\n",
    "    return datetime.fromtimestamp(timestamp/1000, tz=local_tz).strftime('%m/%d/%y %I:%M:%S%p %Z')"
   ]
  },
  {
   "cell_type": "code",
   "execution_count": 37,
   "metadata": {},
   "outputs": [],
   "source": [
    "#not going to xcorr, just align with pulses later.  We'll just copy the timestamp_ms to est_timestamp_ms\n",
    "new_df_vid = df_vid.copy()\n",
    "new_df_vid['timestamp_ms'] = df_vid['est_timestamp_ms']"
   ]
  },
  {
   "cell_type": "markdown",
   "metadata": {},
   "source": [
    "## Divide Openface Classifier Results into Sessions and Extract Blinks from the Glasses\n",
    "It turns out our face extraction from open face doesn't actually work that well, and is pretty spotty.\n",
    "\n",
    "To better assess how well we're doing with blinks, we need to chop the video data into usable sessions as well-- we'll pull sections where there are contiguous chunks of 'successful' tracking on the faces (with a minimum useful chunk of 200ms by default, and where we tolerate up to 2 consecutive dropped frames that we can interpolate).\n",
    "\n",
    "We'll use these sections for all future analysis.\n"
   ]
  },
  {
   "cell_type": "code",
   "execution_count": 13,
   "metadata": {},
   "outputs": [],
   "source": [
    "# Chop the video into useful sections based on success metric\n",
    "def print_summary(df_vid, thresh=0.3):\n",
    "    old_len = len(df_vid)\n",
    "    df_vids = len(df_vid[df_vid['success'] == 1])\n",
    "    print('Have',df_vids, 'frames considered successful, (%2.2f%%)' % (100.*df_vids/old_len))    \n",
    "    df_vidc = len(df_vid[df_vid['confidence'] >= thresh])\n",
    "    print('Have',df_vidc, 'frames above thresh of',thresh,'(%2.2f%%)' % (100.*df_vidc/old_len))\n",
    "    \n",
    "    return old_len, df_vids\n",
    "\n",
    "def get_sessions_by_success(df_vid_in, min_sess_sec=0.2, tolerate_n_dropped_frames=2):\n",
    "    sessions = []\n",
    "    min_sess_len = min_sess_sec * 60 #samples in min_sess_sec is FPS*sec\n",
    "    prev_tick = 0\n",
    "    curr_sess = pd.DataFrame()\n",
    "    \n",
    "    old_len = len(df_vid_in)\n",
    "    df_vid = df_vid_in.copy()\n",
    "    df_vid = df_vid[df_vid['success'] == 1]\n",
    "    print('Have',len(df_vid), 'frames considered successful, (%2.2f%%)' % (100.*len(df_vid)/old_len))\n",
    "    \n",
    "    #iterate over dataframe only where rows have success == 1\n",
    "    for i, row in df_vid.iterrows():\n",
    "        #when we skip a row because tracking failed, append current session\n",
    "        #if it's long enough and start a new session over\n",
    "        if row['tick_ms'] > (prev_tick + 24.5 + tolerate_n_dropped_frames*100/6.):\n",
    "            if len(curr_sess) > min_sess_len:\n",
    "                sessions.append(curr_sess)\n",
    "            del curr_sess\n",
    "            curr_sess = pd.DataFrame()\n",
    "        \n",
    "        curr_sess = curr_sess.append(row)\n",
    "        prev_tick = row['tick_ms']        \n",
    "        \n",
    "    if len(curr_sess) > min_sess_len: sessions.append(curr_sess)\n",
    "    \n",
    "    return sessions\n"
   ]
  },
  {
   "cell_type": "code",
   "execution_count": 14,
   "metadata": {},
   "outputs": [
    {
     "name": "stdout",
     "output_type": "stream",
     "text": [
      "Have 1060309 frames considered successful, (60.42%)\n",
      "Have 1110518 frames above thresh of 0.3 (63.29%)\n",
      "--------------------\n",
      "USING SUCCESSFUL BY OPENFACE STANDARD\n",
      "--------------------\n",
      "Have 1060309 frames considered successful, (60.42%)\n",
      "found 1932 sessions.\n"
     ]
    }
   ],
   "source": [
    "MIN_SEC_SESSION = 0.2\n",
    "DROP_FRAMES = 2\n",
    "\n",
    "print_summary(new_df_vid)\n",
    "print('-'*20)\n",
    "print('USING SUCCESSFUL BY OPENFACE STANDARD')\n",
    "print('-'*20)\n",
    "vid_sess = get_sessions_by_success(new_df_vid, \n",
    "                                   min_sess_sec=MIN_SEC_SESSION, \n",
    "                                   tolerate_n_dropped_frames=DROP_FRAMES)\n",
    "\n",
    "print('found',len(vid_sess),'sessions.')"
   ]
  },
  {
   "cell_type": "markdown",
   "metadata": {},
   "source": [
    "#### Save the data\n",
    "\n",
    "Given our time aligned video data and our chunks of reasonable tracking, we can save some metadata about what chunks we have and how many blinks we detect in each chunk.  This is what we'll use for ground truth."
   ]
  },
  {
   "cell_type": "code",
   "execution_count": 15,
   "metadata": {},
   "outputs": [],
   "source": [
    "def count_rising_edges(sess, column):\n",
    "    #assuming a 1/0 signal, counts transitions to 1.  Starting at 1\n",
    "    #counts as a transition.\n",
    "    prev_row, count = 0, 0\n",
    "    for i,row in sess.iterrows():\n",
    "        if row[column] == 1 and prev_row == 0: count += 1\n",
    "        prev_row = row[column]    \n",
    "    return count\n",
    "\n",
    "def count_rising_edges_list(values):\n",
    "    #assuming a 1/0 signal, counts transitions to 1.  Starting at 1\n",
    "    #counts as a transition.\n",
    "    prev_row, count = 0, 0\n",
    "    for v in values:\n",
    "        if v == 1 and prev_row == 0: count += 1\n",
    "        prev_row = v    \n",
    "    return count\n",
    "\n",
    "def rising_edge_times(sess, column, timecolumn):\n",
    "    #assuming a 1/0 signal, returns transition times. Starting at 1\n",
    "    #counts as a transition.\n",
    "    prev_row, transitions = 0, []\n",
    "    for i,row in sess.iterrows():\n",
    "        if row[column] == 1 and prev_row == 0: \n",
    "            transitions.append(row[timecolumn])\n",
    "        prev_row = row[column]    \n",
    "    return transitions"
   ]
  },
  {
   "cell_type": "code",
   "execution_count": 16,
   "metadata": {},
   "outputs": [
    {
     "name": "stdout",
     "output_type": "stream",
     "text": [
      "Have 1060309 frames considered successful, (60.42%)\n",
      "Have 1110518 frames above thresh of 0.3 (63.29%)\n",
      "Measured 6300 blinks.  That gives 21.55 blinks/min\n"
     ]
    }
   ],
   "source": [
    "total, successful = print_summary(df_vid, thresh=0.3)\n",
    "\n",
    "vid_meta_data = {}\n",
    "vid_meta_data['total_frames'] = total\n",
    "vid_meta_data['successful_frames'] = successful\n",
    "vid_meta_data['percent_successful'] = 100.*successful/total\n",
    "vid_meta_data['total_duration_sec'] = total/60.\n",
    "vid_meta_data['session_min_sec'] = MIN_SEC_SESSION\n",
    "vid_meta_data['session_drop_frames'] = DROP_FRAMES\n",
    "vid_meta_data['num_sessions'] = len(vid_sess)\n",
    "vid_meta_data['session_times'] = [[s['timestamp_ms'].iloc[0], s['timestamp_ms'].iloc[-1]] for s in vid_sess]\n",
    "vid_meta_data['duration_sessions_sec'] = [(s['timestamp_ms'].iloc[-1] - s['timestamp_ms'].iloc[0])/1000. for s in vid_sess]\n",
    "vid_meta_data['session_total_sec'] = sum(vid_meta_data['duration_sessions_sec'])\n",
    "vid_meta_data['blinks_per_session'] = [count_rising_edges(s, 'AU45_c') for s in vid_sess]\n",
    "vid_meta_data['blink_timestamps_per_session'] = [rising_edge_times(s, 'AU45_c', 'timestamp_ms') for s in vid_sess]\n",
    "vid_meta_data['total_blinks'] = sum(vid_meta_data['blinks_per_session'])\n",
    "vid_meta_data['blinks_per_sec'] = vid_meta_data['total_blinks'] / vid_meta_data['session_total_sec']\n",
    "\n",
    "print('Measured', vid_meta_data['total_blinks'], 'blinks.  That gives %.2f blinks/min' % (60.*vid_meta_data['blinks_per_sec']))\n",
    "\n",
    "pickle.dump(vid_meta_data, open( './cleaned_data/' + SESSION + '/video_blink_sessions.p', \"wb\" ))"
   ]
  },
  {
   "cell_type": "code",
   "execution_count": 39,
   "metadata": {},
   "outputs": [],
   "source": [
    "vid_meta_data = pickle.load(open( './cleaned_data/' + SESSION + '/video_blink_sessions.p', \"rb\" ))"
   ]
  },
  {
   "cell_type": "markdown",
   "metadata": {},
   "source": [
    "So now we have the blinks arranged in blink sessions with start/end times that we 'trust', timestamps for each blink within those sections, and \n",
    "counts for number of blinks in each session, and duration of each session.  we can use vid_meta_data from now on.\n",
    "\n",
    "We could need to debounce the extracted video data.  The timing also is not aligned automatically.\n",
    "\n",
    "For glasses blink data, we have blink_sess which is not processed.\n",
    "\n",
    "## Let's pull out all glasses blinks based on our baseline algorithm and store them as well"
   ]
  },
  {
   "cell_type": "code",
   "execution_count": 44,
   "metadata": {},
   "outputs": [],
   "source": [
    "def grab_blinks(blink_sess, thresh=0.06, blink_dur_ms=175, lpf_samples=50, dx_lpf_samples=25, reverse=False):\n",
    "    #get array of (1)timestamps of blinks, (2) [peak close velocity, peak open velocity], (3) duration\n",
    "    \n",
    "    def moving_average(x, w):\n",
    "        return np.convolve(x, np.ones(w), 'same') / w\n",
    "    \n",
    "    #step 1: LPF input, take derivative, LPF derivative\n",
    "    smooth_input = moving_average(blink_sess['value'], lpf_samples)\n",
    "    dx = np.append([np.nan], np.diff(smooth_input))\n",
    "    smooth_dx = moving_average(dx, dx_lpf_samples)\n",
    "    df_results = pd.DataFrame({'timestamp_ms':blink_sess['timestamp_ms'], 'dx':smooth_dx})\n",
    "    \n",
    "    #step 2, apply threshold\n",
    "    if reverse:\n",
    "        decision = (smooth_dx > thresh)\n",
    "    else:\n",
    "        decision = (smooth_dx < -1*thresh)\n",
    "\n",
    "    plt.plot(df_results['timestamp_ms'], df_results['dx'])\n",
    "    plt.plot(df_results['timestamp_ms'], decision)\n",
    "    plt.show()\n",
    "    #step 3, use this thresholded value to decide if we are blinking subject to debounce.\n",
    "    #grab the blink time. within the bounds of the blink, find the duration and peak velocities using the derivative.\n",
    "    df_blinks = pd.DataFrame()\n",
    "    samples_per_blink = int(blink_dur_ms)  # happen to sample at 1kHz so 1 sample == 1 ms\n",
    "    samples_blink_debounce = int(samples_per_blink/2)\n",
    "    i, blinkrow = 0, {}\n",
    "    while i<len(decision):\n",
    "        if decision[i]: #we have a blink\n",
    "            blinkrow['timestamp_ms'] = df_results['timestamp_ms'].iloc[i] #timestamp of this blink\n",
    "            \n",
    "            df_thisblink = df_results.iloc[i:i+samples_per_blink] #grab the data associated with this blink\n",
    "            if reverse:\n",
    "                max_close = df_thisblink[df_thisblink['dx'] == df_thisblink['dx'].max()]\n",
    "                max_open  = df_thisblink[df_thisblink['dx'] == df_thisblink['dx'].min()]\n",
    "            else:\n",
    "                max_close = df_thisblink[df_thisblink['dx'] == df_thisblink['dx'].min()]\n",
    "                max_open  = df_thisblink[df_thisblink['dx'] == df_thisblink['dx'].max()]\n",
    "            \n",
    "            blinkrow['vel_close'] = abs(max_close['dx'].iloc[0]) #peak close velocity\n",
    "            blinkrow['vel_open']  = abs(max_open['dx'].iloc[-1]) #peak open velocity\n",
    "            blinkrow['duration_ms'] = max_open['timestamp_ms'].iloc[-1] - max_close['timestamp_ms'].iloc[0] #duration\n",
    "            \n",
    "            df_blinks = df_blinks.append(blinkrow, ignore_index=True)\n",
    "            i += samples_blink_debounce #move ahead debounce samples before checking for blinks again\n",
    "        else: i += 1\n",
    "            \n",
    "    return df_blinks\n",
    "\n",
    "def get_all_blink_sessions(blink_sessions, thresh=0.06, blink_dur_ms=250, lpf_samples=50, dx_lpf_samples=25, reverse=False):\n",
    "    \n",
    "    df_result = pd.DataFrame()\n",
    "    for sess in blink_sessions:\n",
    "        df_blinks = grab_blinks(sess,\n",
    "                                thresh=thresh, \n",
    "                                blink_dur_ms=blink_dur_ms, \n",
    "                                lpf_samples=lpf_samples, \n",
    "                                dx_lpf_samples=dx_lpf_samples, \n",
    "                                reverse=reverse)\n",
    "        df_result = df_result.append(df_blinks, ignore_index=True)\n",
    "        \n",
    "    return df_result"
   ]
  },
  {
   "cell_type": "code",
   "execution_count": 45,
   "metadata": {},
   "outputs": [
    {
     "data": {
      "image/png": "[encoded data removed]",
      "text/plain": [
       "<Figure size 432x288 with 1 Axes>"
      ]
     },
     "metadata": {
      "needs_background": "light"
     },
     "output_type": "display_data"
    },
    {
     "data": {
      "image/png": "[encoded data removed]",
      "text/plain": [
       "<Figure size 432x288 with 1 Axes>"
      ]
     },
     "metadata": {
      "needs_background": "light"
     },
     "output_type": "display_data"
    }
   ],
   "source": [
    "df_all_glasses_blinks = get_all_blink_sessions(blink_sess)\n",
    "pickle.dump(df_all_glasses_blinks, open( './cleaned_data/' + SESSION + '/glasses_all_blink_timestamps_uncorrected.p', \"wb\" ))"
   ]
  },
  {
   "cell_type": "code",
   "execution_count": 46,
   "metadata": {},
   "outputs": [],
   "source": [
    "df_all_glasses_blinks = pickle.load(open( './cleaned_data/' + SESSION + '/glasses_all_blink_timestamps_uncorrected.p', \"rb\" ))"
   ]
  },
  {
   "cell_type": "code",
   "execution_count": 47,
   "metadata": {},
   "outputs": [],
   "source": [
    "#STREAM A SECTION OF VIDEO WITH A DF OVERLAY OF BLINK TIMES\n",
    "\n",
    "#show video with overlay of a df with timestamps and an offset so we can manually check blink alignment of both the video DF and our video analysis DF\n",
    "#above we were aligning the video to the glasses; here we'll align our glasses to the video\n",
    "\n",
    "#lets just do everything in minutes like we were doing in the above\n",
    "def stream_with_blink_data_overlay(video_filename, blinktime_list_ms, video_start_timestamp_ms, start_time_min, end_time_min, ms_offset=0, fps=59.94, plot_blinksig=False):\n",
    "\n",
    "    start_frame = int(start_time_min*60*fps)\n",
    "    end_frame = int(end_time_min*60*fps)\n",
    "    \n",
    "    print(start_frame)\n",
    "    print(end_frame)\n",
    "    #blink times to frame list:\n",
    "    stream_starttime_sec = video_start_timestamp_ms/1000. + start_frame/fps\n",
    "    blink_duration_sec = 0.2 # how long to show it on screen; make sure if it's a new blink we put a 0 in between\n",
    "    frame_duration_sec = 1/fps #time between frames in sec\n",
    "    \n",
    "    #make array of proper length full of zeros\n",
    "    blink_sig = np.zeros(end_frame-start_frame)\n",
    "    \n",
    "    #whenever we have a blink, put ones in there for blink_dur frames.  Make sure the sample before that blink is zero\n",
    "    for btime in blinktime_list_ms:\n",
    "        btime_sec_stream = ((btime+ms_offset)/1000.)-stream_starttime_sec\n",
    "        if -blink_duration_sec < btime_sec_stream < (end_time_min-start_time_min)*60:\n",
    "            bframe = int(btime_sec_stream*fps)\n",
    "            print((btime/1000), bframe)\n",
    "            \n",
    "            if bframe < 1:\n",
    "                blink_sig[0:bframe+int(blink_duration_sec*fps)] = 1\n",
    "            elif bframe+int(blink_duration_sec*fps) > len(blink_sig):\n",
    "                blink_sig[bframe-1] = 0  \n",
    "                blink_sig[bframe:-1] = 1\n",
    "            else:\n",
    "                blink_sig[bframe-1] = 0  \n",
    "                blink_sig[bframe:bframe+int(blink_duration_sec*fps)] = 1\n",
    "                \n",
    "    if plot_blinksig:\n",
    "        fig, ax = plt.subplots(figsize=(20,4))\n",
    "        plt.plot(blink_sig)\n",
    "        plt.title('blink signal') \n",
    "        plt.show()\n",
    "     \n",
    "    WINDOW_NAME = 'blink_window'\n",
    "    cv2.namedWindow(WINDOW_NAME, cv2.WINDOW_AUTOSIZE)\n",
    "    cv2.startWindowThread()\n",
    "\n",
    "    vs = cv2.VideoCapture(video_filename)\n",
    "    vs.set(cv2.CAP_PROP_POS_FRAMES, start_frame-1)\n",
    "    time.sleep(1.0)\n",
    "    \n",
    "\n",
    "    prev_frame, blink_count = 0, 0\n",
    "    for fno in range(0, end_frame-start_frame):\n",
    "        _, frame = vs.read()  \n",
    "        #frame = imutils.resize(frame, width=480)\n",
    "    \n",
    "        if not fno:\n",
    "            os.system('''/usr/bin/osascript -e 'tell app \"Finder\" to set frontmost of process \"Python\" to true' ''') \n",
    "    \n",
    "        if blink_sig[fno] and not prev_frame:\n",
    "            blink_count += 1\n",
    "            \n",
    "        \n",
    "        cv2.putText(frame, \"COUNT: %d\"%(blink_count), (20, 30),\n",
    "            cv2.FONT_HERSHEY_SIMPLEX, 0.7, (0, 0, 255), 2)\n",
    "       \n",
    "        if blink_sig[fno]:\n",
    "            cv2.putText(frame, \"BLINKING NOW!!!!!!\", (300, 30),\n",
    "                cv2.FONT_HERSHEY_SIMPLEX, 0.7, (0, 0, 255), 2)\n",
    "\n",
    "        # show the frame\n",
    "        cv2.imshow(WINDOW_NAME, frame)\n",
    "        key = cv2.waitKey(1) & 0xFF\n",
    "\n",
    "        prev_frame = blink_sig[fno]\n",
    "        \n",
    "        # if the `q` key was pressed, break from the loop\n",
    "        if key == ord(\"q\"):\n",
    "            break\n",
    "\n",
    "    # do a bit of cleanup\n",
    "    cv2.waitKey(1)\n",
    "    cv2.destroyAllWindows()\n",
    "    cv2.waitKey(1)\n",
    "    \n",
    "    os.system('''/usr/bin/osascript -e 'tell app \"Finder\" to set frontmost of process \"Chrome\" to true' ''') \n",
    "    \n",
    "    \n",
    "def try_offsets_and_overlay(video_filename, blinktime_list_ms, video_start_timestamp_ms, start_time_min, end_time_min):\n",
    "    ms_offset = int(input('enter a MS offset:'))\n",
    "    first = True\n",
    "    while True:\n",
    "        stream_with_blink_data_overlay(video_filename, \n",
    "                               blinktime_list_ms, \n",
    "                               video_start_timestamp_ms, \n",
    "                               start_time_min, \n",
    "                               end_time_min,\n",
    "                               ms_offset,\n",
    "                               plot_blinksig=first)\n",
    "        first = False\n",
    "        \n",
    "        cont = input('enter new MS offset or q to exit')\n",
    "        \n",
    "        if str(cont) == 'q':\n",
    "            print('best offset = ', ms_offset)\n",
    "            return ms_offset\n",
    "        \n",
    "        ms_offset = int(cont)"
   ]
  },
  {
   "cell_type": "code",
   "execution_count": 49,
   "metadata": {},
   "outputs": [
    {
     "data": {
      "text/plain": [
       "\"\\noptimal_offset = try_offsets_and_overlay('/Volumes/ExtDrive_(ResEnv)/data_cap_val_2/' + SESSION + '/video_1.mp4',  #/openface/video_adobe.mp4 /video_crop_1.mp4\\n                           hand_timestamps,                   #list of blink times in clip\\n                           vid_start_timestamp,                                                       #start timestamp of video\\n                           (hand_timestamps[0]-400-vid_start_timestamp)/60000.0, #start timestamp of clip we're watching in min from start\\n                           (hand_timestamps[-1]+400-vid_start_timestamp)/60000.0) #end timestamp of clip we're watching in min from start\\n                           #(vid_meta_data['session_times'][SESS_NUM][1]-vid_start_timestamp)/60000.0) #end timestamp of clip we're watching in min from start\\n\""
      ]
     },
     "execution_count": 49,
     "metadata": {},
     "output_type": "execute_result"
    }
   ],
   "source": [
    "#hand labeled\n",
    "hand_timestamps = [1617390698453.3333, 1617390699886.6667, 1617390700670.0, 1617390701586.6667, 1617390705370.0, \n",
    "                         1617390705786.6667, 1617390706603.3333, 1617390708670.0, 1617390708886.6667, 1617390713570.0, \n",
    "                         1617390714370.0, 1617390715153.3333, 1617390717970.0, 1617390721920.0, 1617390723653.3333, \n",
    "                         1617390725353.3333, 1617390727203.3333, 1617390731653.3333, 1617390734586.6667, 1617390738236.6667, \n",
    "                         1617390744370.0, 1617390746070.0, 1617390748453.3333, 1617390752236.6667, 1617390754636.6667, \n",
    "                         1617390757336.6667, 1617390760053.3333, 1617390762603.3333, 1617390765903.3333, 1617390767186.6667, \n",
    "                         1617390770620.0, 1617390775886.6667, 1617390776986.6667, 1617390781986.6667, 1617390785753.3333, 1617390788270.0, 1617390790086.6667]\n",
    "\n",
    "\n",
    "\n",
    "optimal_offset = try_offsets_and_overlay('/Volumes/ExtDrive_(ResEnv)/data_cap_val_2/' + SESSION + '/video_1.mp4',  #/openface/video_adobe.mp4 /video_crop_1.mp4\n",
    "                           hand_timestamps,                   #list of blink times in clip\n",
    "                           vid_start_timestamp,                                                       #start timestamp of video\n",
    "                           (hand_timestamps[0]-400-vid_start_timestamp)/60000.0, #start timestamp of clip we're watching in min from start\n",
    "                           (hand_timestamps[-1]+400-vid_start_timestamp)/60000.0) #end timestamp of clip we're watching in min from start\n",
    "                           #(vid_meta_data['session_times'][SESS_NUM][1]-vid_start_timestamp)/60000.0) #end timestamp of clip we're watching in min from start\n"
   ]
  },
  {
   "cell_type": "code",
   "execution_count": 81,
   "metadata": {},
   "outputs": [
    {
     "name": "stdin",
     "output_type": "stream",
     "text": [
      "enter a MS offset: -50120\n"
     ]
    },
    {
     "name": "stdout",
     "output_type": "stream",
     "text": [
      "629852\n",
      "635393\n",
      "1617390748.599 26\n",
      "1617390749.29 67\n",
      "1617390749.986 109\n",
      "1617390750.734 154\n",
      "1617390751.313 188\n",
      "1617390751.671 210\n",
      "1617390755.484 438\n",
      "1617390755.808 458\n",
      "1617390756.701 511\n",
      "1617390758.835 639\n",
      "1617390759.105 655\n",
      "1617390763.548 922\n",
      "1617390764.422 974\n",
      "1617390764.769 995\n",
      "1617390765.178 1019\n",
      "1617390765.303 1027\n",
      "1617390765.767 1055\n",
      "1617390766.388 1092\n",
      "1617390767.188 1140\n",
      "1617390768.094 1194\n",
      "1617390769.795 1296\n",
      "1617390772.092 1434\n",
      "1617390773.813 1537\n",
      "1617390775.478 1637\n",
      "1617390777.184 1739\n",
      "1617390777.309 1747\n",
      "1617390781.801 2016\n",
      "1617390782.185 2039\n",
      "1617390783.262 2103\n",
      "1617390784.769 2194\n",
      "1617390785.482 2236\n",
      "1617390785.86 2259\n",
      "1617390787.182 2338\n",
      "1617390788.295 2405\n",
      "1617390788.847 2438\n",
      "1617390790.78 2554\n",
      "1617390791.369 2589\n",
      "1617390791.622 2605\n",
      "1617390792.185 2638\n",
      "1617390794.56 2781\n",
      "1617390796.238 2881\n",
      "1617390797.188 2938\n",
      "1617390798.668 3027\n",
      "1617390799.776 3093\n",
      "1617390802.469 3255\n",
      "1617390804.836 3397\n",
      "1617390807.575 3561\n",
      "1617390812.191 3837\n",
      "1617390812.828 3876\n",
      "1617390816.067 4070\n",
      "1617390817.188 4137\n",
      "1617390817.553 4159\n",
      "1617390820.858 4357\n",
      "1617390822.193 4437\n",
      "1617390826.138 4673\n",
      "1617390827.151 4734\n",
      "1617390832.194 5036\n",
      "1617390835.978 5263\n",
      "1617390837.197 5336\n",
      "1617390838.459 5412\n",
      "1617390838.956 5442\n",
      "1617390840.324 5524\n"
     ]
    },
    {
     "data": {
      "image/png": "[encoded data removed]",
      "text/plain": [
       "<Figure size 1440x288 with 1 Axes>"
      ]
     },
     "metadata": {
      "needs_background": "light"
     },
     "output_type": "display_data"
    },
    {
     "name": "stdin",
     "output_type": "stream",
     "text": [
      "enter new MS offset or q to exit q\n"
     ]
    },
    {
     "name": "stdout",
     "output_type": "stream",
     "text": [
      "best offset =  -50120\n"
     ]
    }
   ],
   "source": [
    "#now glasses data\n",
    "optimal_offset = try_offsets_and_overlay('/Volumes/ExtDrive_(ResEnv)/data_cap_val_2/' + SESSION + '/video_1.mp4',  #/openface/video_adobe.mp4 /video_crop_1.mp4\n",
    "                           df_all_glasses_blinks['timestamp_ms'].values,                              #list of blink times in clip\n",
    "                           vid_start_timestamp,                                                       #start timestamp of video\n",
    "                           (hand_timestamps[0]-400-vid_start_timestamp)/60000.0, #start timestamp of clip we're watching in min from start\n",
    "                           (hand_timestamps[-1]+400-vid_start_timestamp)/60000.0) #end timestamp of clip we're watching in min from start\n",
    "                           #(vid_meta_data['session_times'][SESS_NUM][1]-vid_start_timestamp)/60000.0) #end timestamp of clip we're watching in min from start\n"
   ]
  },
  {
   "cell_type": "markdown",
   "metadata": {},
   "source": [
    "### there is a clear alignment between the two above; we need to move the glasses data earlier in time by about 300 frames, or 200/59.94 =  -4 sec (4250ms)\n",
    "\n",
    "Let's bound our search between -4 and -5 ms offset applied to the glasses df"
   ]
  },
  {
   "cell_type": "code",
   "execution_count": 52,
   "metadata": {},
   "outputs": [],
   "source": [
    "#now lets align and retest\n",
    "flatten = lambda t: [item for sublist in t for item in sublist]\n",
    "\n",
    "def debounce_data(list_of_times, debounce_dur_ms=150):\n",
    "    \n",
    "    indices_to_remove = []\n",
    "    for i in range(1, len(list_of_times)):\n",
    "        if list_of_times[i-1] >= list_of_times[i] - debounce_dur_ms:\n",
    "            indices_to_remove.append(i)\n",
    "\n",
    "    for index in sorted(indices_to_remove, reverse=True):\n",
    "        del list_of_times[index]\n",
    "        \n",
    "    return list_of_times\n",
    "\n",
    "def chop_times(list_of_times, min_time, max_time):\n",
    "    return [c for c in list_of_times if min_time < c < max_time]"
   ]
  },
  {
   "cell_type": "code",
   "execution_count": 69,
   "metadata": {},
   "outputs": [],
   "source": [
    "def get_optimal_offset_larger_error(g_times, v_times, offset_lower_ms, offset_higher_ms, step_ms, thresh_ms): \n",
    "\n",
    "    #seems to be fine, need to discount all video blinks not in glasses range, but in from both sides by 2*s_meta['start_error_sec']*1000\n",
    "    #df_blink only has a few blinks in it-- short session?  Need all blinks\n",
    "\n",
    "    g_times = chop_times(g_times, v_times[0]+offset_lower_ms, v_times[-1]+offset_higher_ms)\n",
    "        \n",
    "    errors = []\n",
    "    #move through all offsets we can think about, brute force\n",
    "    best_offset, min_error = None, None \n",
    "    for offset in range(offset_lower_ms, offset_higher_ms, step_ms):\n",
    "        offset_error = 0\n",
    "        curr_index = 0\n",
    "        for vtime in v_times:\n",
    "            while g_times[curr_index]+offset <= vtime:\n",
    "                if curr_index==(len(g_times)-1): break\n",
    "                curr_index+=1\n",
    "            \n",
    "            if curr_index == 0:\n",
    "                curr_err = abs((g_times[0]+offset)-vtime)\n",
    "            elif curr_index == len(g_times)-1:\n",
    "                curr_err = min(abs((g_times[curr_index]+offset)-vtime), abs((g_times[curr_index-1]+offset)-vtime))   \n",
    "            else:\n",
    "                curr_err = min(vtime-(g_times[curr_index-1]+offset), (g_times[curr_index]+offset)-vtime)\n",
    "\n",
    "            if curr_err < thresh_ms: curr_err = 0\n",
    "            offset_error += curr_err\n",
    "            #print('curr, accum err:',curr_err, offset_error)\n",
    "        \n",
    "        errors.append(offset_error)\n",
    "        \n",
    "        if best_offset is None:\n",
    "            best_offset = [offset]\n",
    "            min_error = offset_error\n",
    "        elif offset_error < min_error:\n",
    "            #print('new min!')\n",
    "            best_offset = [offset]\n",
    "            min_error = offset_error\n",
    "            #print(min_error, best_offset)\n",
    "        elif offset_error == min_error:\n",
    "            print('shared min!')\n",
    "            best_offset.append(offset)\n",
    "            print(min_error, best_offset)\n",
    "        \n",
    "    fig, ax = plt.subplots(figsize=(20,4))\n",
    "    plt.plot(range(offset_lower_ms, offset_higher_ms, step_ms), errors)\n",
    "    plt.title('xcorr of offsets') \n",
    "    plt.show()    \n",
    "    \n",
    "    return best_offset"
   ]
  },
  {
   "cell_type": "code",
   "execution_count": null,
   "metadata": {},
   "outputs": [],
   "source": [
    "#try with hand_labeled\n",
    "MIN_ALIGN_ERROR = -52000\n",
    "MAX_ALIGN_ERROR = -49000\n",
    "\n",
    "#just pull g_times into a list\n",
    "g_times = df_all_glasses_blinks['timestamp_ms'].values\n",
    "best_offset = get_optimal_offset_larger_error(g_times, hand_timestamps, MIN_ALIGN_ERROR, MAX_ALIGN_ERROR, 5, 150)\n",
    "print('optimal offset with thresh of 75 ms:')\n",
    "print(best_offset)"
   ]
  },
  {
   "cell_type": "code",
   "execution_count": 77,
   "metadata": {},
   "outputs": [
    {
     "data": {
      "image/png": "[encoded data removed]",
      "text/plain": [
       "<Figure size 1728x288 with 1 Axes>"
      ]
     },
     "metadata": {
      "needs_background": "light"
     },
     "output_type": "display_data"
    }
   ],
   "source": [
    "best_offset = -50120\n",
    "\n",
    "g_times = df_all_glasses_blinks['timestamp_ms'].values\n",
    "g_times_show = chop_times(g_times, hand_timestamps[0]-best_offset, hand_timestamps[-1]-best_offset)\n",
    "g_times_show = [g+best_offset for g in g_times_show]\n",
    "\n",
    "fig, ax = plt.subplots(figsize=(24,4))\n",
    "plt.stem(hand_timestamps, np.ones(len(hand_timestamps)))\n",
    "plt.stem(g_times_show, 0.9*np.ones(len(g_times_show)))\n",
    "plt.show()\n"
   ]
  },
  {
   "cell_type": "code",
   "execution_count": null,
   "metadata": {},
   "outputs": [],
   "source": [
    "pickle.dump(best_offset[0], open( './cleaned_data/' + SESSION + '/best_offset.p', \"wb\" ))"
   ]
  },
  {
   "cell_type": "code",
   "execution_count": null,
   "metadata": {},
   "outputs": [],
   "source": [
    "pickle.dump(-50120, open( './cleaned_data/' + SESSION + '/best_offset.p', \"wb\" ))"
   ]
  }
 ],
 "metadata": {
  "kernelspec": {
   "display_name": "Python 3",
   "language": "python",
   "name": "python3"
  },
  "language_info": {
   "codemirror_mode": {
    "name": "ipython",
    "version": 3
   },
   "file_extension": ".py",
   "mimetype": "text/x-python",
   "name": "python",
   "nbconvert_exporter": "python",
   "pygments_lexer": "ipython3",
   "version": "3.9.4"
  }
 },
 "nbformat": 4,
 "nbformat_minor": 2
}
