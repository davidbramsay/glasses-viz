{
 "cells": [
  {
   "cell_type": "markdown",
   "metadata": {},
   "source": [
    "# Getting Started Comparing Hand Annotated Blinks with OF and Glasses\n",
    "We've hand annotated some of Patrick 3 with the 'Hand Annotate Videos' script, now let's see how we did.\n",
    "\n",
    "We need to load in our hand annotations `hand_annotations` from `hand_annotations.p`, which is a dictionary with key = index of video session, value = array of timestamps of hand labels.\n",
    "\n",
    "We need to load in our video sessions with the openface labels `vid_meta_data` from `video_blink_sessions.p`.  We'll just use the sessions we have hand annotations for.\n",
    "\n",
    "We need to load in our glasses blink data, time corrected.  We can either load in\n",
    "- (1) the results from our baseline classifier df, which is a df that includes a timestamp, duration, and peak velocities for each blink we identified, from `glasses_all_blink_timestamps_uncorrected.p`.  This is without the timestamp correction to align it with video, so we also need to load and apply `best_offset.p` to time align the blinks properly.\n",
    "- (2) we could load in the raw `blink_sess` from `sessions_blink.p`, which is the raw data right off the sensor.  This is also not time corrected and we'll need to apply `best_offset.p`\n",
    "\n",
    "Finally, we may need to load in `sessions_accel.p` if it turns out we need to use the accelerometer data to try and remove blink artifacts based on motion.  Again, this glasses data will need to have `best_offset.p` applied to its timestamps before using it."
   ]
  },
  {
   "cell_type": "code",
   "execution_count": 1,
   "metadata": {},
   "outputs": [],
   "source": [
    "import json\n",
    "from datetime import datetime , timezone\n",
    "import time\n",
    "import numpy as np\n",
    "import codecs\n",
    "import struct\n",
    "import matplotlib.pyplot as plt\n",
    "import pandas as pd\n",
    "import pickle\n",
    "import pycorrelate\n",
    "import collections\n",
    "import itertools\n",
    "from mpl_toolkits import mplot3d\n",
    "import cv2\n",
    "import imutils\n",
    "import os\n",
    "from scipy.spatial.transform import Rotation as R\n",
    "\n",
    "pd.options.display.float_format = '{:.3f}'.format\n",
    "pd.set_option('display.max_rows', 1000)\n",
    "%matplotlib inline"
   ]
  },
  {
   "cell_type": "markdown",
   "metadata": {},
   "source": [
    "### Step 1: Load Data (and correct glasses time offset to align everything)"
   ]
  },
  {
   "cell_type": "code",
   "execution_count": 2,
   "metadata": {},
   "outputs": [
    {
     "name": "stdout",
     "output_type": "stream",
     "text": [
      "Please Choose a Session to Work With:\n",
      "david_2,  patrick_1,  patrick_2,  beata_1,  david_3b,  irmandy_1,  juliana_1,  irmandy_2,  patrick_3,  "
     ]
    }
   ],
   "source": [
    "metadata = pickle.load(open('./cleaned_data/metadata.p', 'rb'))\n",
    "print('Please Choose a Session to Work With:')\n",
    "for k in metadata: print(k, end=',  ')"
   ]
  },
  {
   "cell_type": "code",
   "execution_count": 27,
   "metadata": {},
   "outputs": [],
   "source": [
    "SESSION = 'irmandy_2'"
   ]
  },
  {
   "cell_type": "code",
   "execution_count": 28,
   "metadata": {},
   "outputs": [],
   "source": [
    "hand_annotations = pickle.load(open('./cleaned_data/' + SESSION + '/hand_annotations.p', \"rb\" ))\n",
    "\n",
    "vid_meta_data = pickle.load(open('./cleaned_data/' + SESSION + '/video_blink_sessions.p', \"rb\" ))\n",
    "\n",
    "best_offset = pickle.load(open('./cleaned_data/' + SESSION + '/best_offset.p', \"rb\" ))\n",
    "\n",
    "accel_sess = pickle.load(open('./cleaned_data/' + SESSION + '/sessions_accel.p', \"rb\" ))\n",
    "for i in range(len(accel_sess)): accel_sess[i]['timestamp_ms'] = accel_sess[i]['timestamp_ms'] + best_offset"
   ]
  },
  {
   "cell_type": "code",
   "execution_count": 29,
   "metadata": {},
   "outputs": [
    {
     "name": "stdout",
     "output_type": "stream",
     "text": [
      "hand annotations represent 518 blinks with 683.97 secs of recording.  That's a blink rate of 45.44 blinks/min.\n",
      "skipped 1 snippets with 55.92 sec of recording.  These are probably worse for OF because they were hard to classify by eye.\n",
      "skipped sections include 0 blinks found by openface.\n"
     ]
    }
   ],
   "source": [
    "total_blinks, total_dur_sec, total_num_skipped, total_dur_skipped, of_blinks_skipped = 0, 0, 0, 0, 0\n",
    "for k in hand_annotations:\n",
    "    try:\n",
    "        total_blinks += len(hand_annotations[k])\n",
    "        total_dur_sec += vid_meta_data['duration_sessions_sec'][k]\n",
    "    except:\n",
    "        total_num_skipped +=1\n",
    "        total_dur_skipped += vid_meta_data['duration_sessions_sec'][k]\n",
    "        of_blinks_skipped += vid_meta_data['blinks_per_session'][k]\n",
    "\n",
    "print('hand annotations represent %d blinks with %3.2f secs of recording.  That\\'s a blink rate of %2.2f blinks/min.'%(total_blinks, total_dur_sec, 60*total_blinks/total_dur_sec))\n",
    "print('skipped %d snippets with %3.2f sec of recording.  These are probably worse for OF because they were hard to classify by eye.'%(total_num_skipped, total_dur_skipped))\n",
    "print('skipped sections include %d blinks found by openface.'%of_blinks_skipped)"
   ]
  },
  {
   "cell_type": "markdown",
   "metadata": {},
   "source": [
    "#### Now we will eliminate the sections we skipped when hand annotating\n",
    "We skipped some sections during annotation because of the ambiguity/difficulty and saved them as 'None'.  OF would likely struggle with these, but we can't even really tell ourselves; OF shouldn't have been confident.  We'll work just with our known good data now and eliminate values of 'None' from our hand annotations."
   ]
  },
  {
   "cell_type": "code",
   "execution_count": 30,
   "metadata": {},
   "outputs": [],
   "source": [
    "filtered = {k: v for k, v in hand_annotations.items() if v is not None}\n",
    "hand_annotations.clear()\n",
    "hand_annotations.update(filtered)"
   ]
  },
  {
   "cell_type": "code",
   "execution_count": 31,
   "metadata": {},
   "outputs": [
    {
     "name": "stdout",
     "output_type": "stream",
     "text": [
      "97 27.79555\n",
      "825 176.60921666666667\n",
      "499 118.0243\n",
      "478 114.93898333333334\n",
      "1014 211.71595\n",
      "921 200.83341666666666\n",
      "1035 265.26055\n",
      "401 93.50813333333333\n",
      "831 181.16486666666665\n",
      "1028 252.49946666666668\n",
      "653 145.83458333333334\n",
      "572 134.1835\n",
      "1008 208.81833333333333\n",
      "302 64.41323333333334\n",
      "------\n",
      "825 176.60921666666667\n",
      "499 118.0243\n",
      "478 114.93898333333334\n",
      "1014 211.71595\n",
      "921 200.83341666666666\n",
      "1035 265.26055\n",
      "401 93.50813333333333\n",
      "831 181.16486666666665\n",
      "1028 252.49946666666668\n",
      "653 145.83458333333334\n",
      "572 134.1835\n",
      "1008 208.81833333333333\n",
      "302 64.41323333333334\n"
     ]
    }
   ],
   "source": [
    "def string_to_timestamp_ms(datestring):\n",
    "    return datetime.strptime(datestring, '%m/%d/%y %I:%M:%S%p %Z').timestamp()*1000\n",
    "\n",
    "for k in hand_annotations: print(k, (vid_meta_data['session_times'][k][0]- string_to_timestamp_ms(metadata[SESSION]['vid_start']))/60000)\n",
    "\n",
    "#irmandy_2\n",
    "#del hand_annotations[97]\n",
    "\n",
    "#beata_1\n",
    "#del hand_annotations[359]\n",
    "#del hand_annotations[607]\n",
    "\n",
    "print('------')\n",
    "for k in hand_annotations: print(k, (vid_meta_data['session_times'][k][0]- string_to_timestamp_ms(metadata[SESSION]['vid_start']))/60000)\n"
   ]
  },
  {
   "cell_type": "markdown",
   "metadata": {},
   "source": [
    "### Step 2: For simplicity, add motion to df_glasses_blinks and remove accel_sess, since we won't need it anymore"
   ]
  },
  {
   "cell_type": "code",
   "execution_count": 32,
   "metadata": {},
   "outputs": [],
   "source": [
    "def df_between_timestamps(df, time_col, start_time, end_time):\n",
    "    return df[(start_time <= df[time_col]) & (df[time_col] <= end_time)].copy()\n",
    "\n",
    "def rotation_mag_between_rows(row_start, row_end):\n",
    "    rotation = R.from_quat(row_start[['quatReal', 'quatI', 'quatJ', 'quatK']]).inv() * R.from_quat(row_end[['quatReal', 'quatI', 'quatJ', 'quatK']])\n",
    "    return rotation.magnitude()\n",
    "    \n",
    "def get_rotation_mag_by_timestamp(timestamp):\n",
    "    for sess in accel_sess:\n",
    "        #if our timestamp is in this session\n",
    "        if sess['timestamp_ms'].iloc[0] <= timestamp <= sess['timestamp_ms'].iloc[-1]:\n",
    "            #get the two closest timestamps\n",
    "            df_closest = sess.iloc[(sess['timestamp_ms']-timestamp).abs().argsort()[:2]]\n",
    "            #return the rotation of these two\n",
    "            return rotation_mag_between_rows(df_closest.iloc[0], df_closest.iloc[1])\n",
    "    #if we fail to find it in our glasses data for acceleration, return np.nan\n",
    "    return np.nan"
   ]
  },
  {
   "cell_type": "markdown",
   "metadata": {},
   "source": [
    "We now have clean, easy to use and work with data that is all time aligned!\n",
    "\n",
    "`vid_meta_data` - a dict with sessions of good tracking from OF, timestamped at the start and end, as well as lists of timestamps of blink events.\n",
    "\n",
    "`hand_annotations` - a dict where the key indexes the session from `vid_meta_data`, and the value is a list of timestamps of blink events.\n",
    "\n",
    "`df_glasses_blinks` - a df where every row represents a blink captured by our glasses/basic glasses algorithm, timestamped, and including blink duration, vel_open, vel_close, and rotation_magnitude of the head during that blink."
   ]
  },
  {
   "cell_type": "markdown",
   "metadata": {},
   "source": [
    "### Step 3: Compare Hand Annotations with Blink Classification from OF and the Glasses\n",
    "\n",
    "We'll start by simply: \n",
    "\n",
    "(1) printing basic hand annotation data (duration annotated, blinks/sec, number of sessions, number of blinks, etc)\n",
    "\n",
    "(2) reducing our blink list for glasses and video into one list for each, which only includes blinks that occur during our hand anotation sections.\n",
    "\n",
    "(3) comparing the OF list and the glasses list to the hand annotation list.  Iterate over real blink times, removing first instance of classified blink that falls within some error bar.  Get metrics for true/false positives and compare.\n",
    "\n",
    "(4) store indices of glasses blinks that are false positives, and create a df for true positives and false positives.  Look at differences between vel/duration/rotation_mag when true or false positive.\n",
    "\n",
    "(5) plot(?) each over top of one another?  May be useful\n",
    "\n"
   ]
  },
  {
   "cell_type": "code",
   "execution_count": 33,
   "metadata": {},
   "outputs": [],
   "source": [
    "\n",
    "def grab_blinks(blink_sess, thresh=0.06, blink_dur_ms=175, lpf_samples=50, dx_lpf_samples=25, reverse=False):\n",
    "    #get array of (1)timestamps of blinks, (2) [peak close velocity, peak open velocity], (3) duration\n",
    "    \n",
    "    def moving_average(x, w):\n",
    "        return np.convolve(x, np.ones(w), 'same') / w\n",
    "    \n",
    "    #step 1: LPF input, take derivative, LPF derivative\n",
    "    smooth_input = moving_average(blink_sess['value'], lpf_samples)\n",
    "    dx = np.append([np.nan], np.diff(smooth_input))\n",
    "    smooth_dx = moving_average(dx, dx_lpf_samples)\n",
    "    df_results = pd.DataFrame({'timestamp_ms':blink_sess['timestamp_ms'], 'dx':smooth_dx})\n",
    "    \n",
    "    #step 2, apply threshold\n",
    "    if reverse:\n",
    "        decision = (smooth_dx > thresh)\n",
    "    else:\n",
    "        decision = (smooth_dx < -1*thresh)\n",
    "\n",
    "    #plt.plot(df_results['timestamp_ms'], df_results['dx'])\n",
    "    #plt.plot(df_results['timestamp_ms'], decision)\n",
    "    #plt.show()\n",
    "    \n",
    "    #step 3, use this thresholded value to decide if we are blinking subject to debounce.\n",
    "    #grab the blink time. within the bounds of the blink, find the duration and peak velocities using the derivative.\n",
    "    df_blinks = pd.DataFrame()\n",
    "    samples_per_blink = int(blink_dur_ms)  # happen to sample at 1kHz so 1 sample == 1 ms\n",
    "    samples_blink_debounce = int(samples_per_blink/2)\n",
    "    i, blinkrow = 0, {}\n",
    "    while i<len(decision):\n",
    "        if decision[i]: #we have a blink\n",
    "            blinkrow['timestamp_ms'] = df_results['timestamp_ms'].iloc[i] #timestamp of this blink\n",
    "            \n",
    "            df_thisblink = df_results.iloc[i:i+samples_per_blink] #grab the data associated with this blink\n",
    "            if reverse:\n",
    "                max_close = df_thisblink[df_thisblink['dx'] == df_thisblink['dx'].max()]\n",
    "                max_open  = df_thisblink[df_thisblink['dx'] == df_thisblink['dx'].min()]\n",
    "            else:\n",
    "                max_close = df_thisblink[df_thisblink['dx'] == df_thisblink['dx'].min()]\n",
    "                max_open  = df_thisblink[df_thisblink['dx'] == df_thisblink['dx'].max()]\n",
    "            \n",
    "            blinkrow['vel_close'] = abs(max_close['dx'].iloc[0]) #peak close velocity\n",
    "            blinkrow['vel_open']  = abs(max_open['dx'].iloc[-1]) #peak open velocity\n",
    "            blinkrow['duration_ms'] = max_open['timestamp_ms'].iloc[-1] - max_close['timestamp_ms'].iloc[0] #duration\n",
    "            \n",
    "            df_blinks = df_blinks.append(blinkrow, ignore_index=True)\n",
    "            i += samples_blink_debounce #move ahead debounce samples before checking for blinks again\n",
    "        else: i += 1\n",
    "            \n",
    "    return df_blinks\n",
    "\n",
    "def get_all_blink_sessions(blink_sessions, thresh=0.06, blink_dur_ms=250, lpf_samples=50, dx_lpf_samples=25, reverse=False):\n",
    "    \n",
    "    df_result = pd.DataFrame()\n",
    "    for sess in blink_sessions:\n",
    "        df_blinks = grab_blinks(sess,\n",
    "                                thresh=thresh, \n",
    "                                blink_dur_ms=blink_dur_ms, \n",
    "                                lpf_samples=lpf_samples, \n",
    "                                dx_lpf_samples=dx_lpf_samples, \n",
    "                                reverse=reverse)\n",
    "        df_result = df_result.append(df_blinks, ignore_index=True)\n",
    "        \n",
    "    return df_result"
   ]
  },
  {
   "cell_type": "code",
   "execution_count": 34,
   "metadata": {},
   "outputs": [],
   "source": [
    "def debounce_data(list_of_times, debounce_dur_ms=200):\n",
    "    \n",
    "    indices_to_remove = []\n",
    "    for i in range(1, len(list_of_times)):\n",
    "        if list_of_times[i-1] >= list_of_times[i] - debounce_dur_ms:\n",
    "            indices_to_remove.append(i)\n",
    "\n",
    "    for index in sorted(indices_to_remove, reverse=True):\n",
    "        del list_of_times[index]\n",
    "        \n",
    "    return list_of_times\n",
    "\n",
    "def test_results(annotated_blinklist, test_blinklist, tolerance_ms=400):\n",
    "    results = {'true_pos':0, 'real_pos':len(annotated_blinklist)}\n",
    "\n",
    "    for  atime in annotated_blinklist:\n",
    "        for ttime in test_blinklist:\n",
    "            if ttime-tolerance_ms <= atime <= ttime+tolerance_ms:\n",
    "                results['true_pos'] += 1\n",
    "                test_blinklist.remove(ttime)\n",
    "                break\n",
    "    results['false_pos'] = len(test_blinklist)\n",
    "    results['sensitivity'] = results['true_pos'] / results['real_pos'] * 100\n",
    "    results['false_discovery'] = results['false_pos'] / (results['false_pos'] + results['true_pos']) * 100\n",
    "    \n",
    "    return results, test_blinklist"
   ]
  },
  {
   "cell_type": "markdown",
   "metadata": {},
   "source": [
    "# DYNAMIC BLINK THRESHOLD"
   ]
  },
  {
   "cell_type": "code",
   "execution_count": 35,
   "metadata": {},
   "outputs": [
    {
     "name": "stdout",
     "output_type": "stream",
     "text": [
      "0.10884000000000008\n"
     ]
    }
   ],
   "source": [
    "AVERAGE_NUM = 5\n",
    "OUT_OF = 100\n",
    "LOWER_BOUND_THRESH = 0.05\n",
    "\n",
    "#start thresh at 0.05, capture 100 blinks.  assume bottom 5 are definitely not real and top 5 are definitely real, split the difference.\n",
    "blink_sess = pickle.load(open('./cleaned_data/' + SESSION + '/sessions_blink.p', 'rb'))\n",
    "\n",
    "#GRAB BLINKs at 0.05\n",
    "df_glasses_blinks = get_all_blink_sessions(blink_sess, thresh=LOWER_BOUND_THRESH, blink_dur_ms=175)\n",
    "#get first 100 vel_closed, sorted\n",
    "first_velocities = sorted(df_glasses_blinks['vel_close'].iloc[500:500+OUT_OF].tolist())\n",
    "\n",
    "not_blink = sum(first_velocities[:AVERAGE_NUM])/AVERAGE_NUM\n",
    "blink = sum(first_velocities[-AVERAGE_NUM:])/AVERAGE_NUM\n",
    "\n",
    "THRESH = not_blink + (blink-not_blink)/4\n",
    "\n",
    "print(THRESH)"
   ]
  },
  {
   "cell_type": "code",
   "execution_count": 36,
   "metadata": {},
   "outputs": [],
   "source": [
    "blink_sess = pickle.load(open('./cleaned_data/' + SESSION + '/sessions_blink.p', 'rb'))\n",
    "\n",
    "blink_dur = 175\n",
    "    \n",
    "df_glasses_blinks = get_all_blink_sessions(blink_sess, thresh=THRESH, blink_dur_ms=blink_dur)\n",
    "df_glasses_blinks['timestamp_ms'] = df_glasses_blinks['timestamp_ms'] + best_offset\n",
    "\n",
    "glasses_blinks_during_handannotate_times = []\n",
    "vblinks, ablinks = [], []\n",
    "for i in hand_annotations:\n",
    "    glasses_blinks_during_handannotate_times.append(df_between_timestamps(df_glasses_blinks, \n",
    "                                                  'timestamp_ms', \n",
    "                                                  vid_meta_data['session_times'][i][0], \n",
    "                                                  vid_meta_data['session_times'][i][1]))\n",
    "\n",
    "    vblinks.extend(vid_meta_data['blink_timestamps_per_session'][i])\n",
    "    ablinks.extend(hand_annotations[i])\n",
    "\n",
    "df_gblinks = pd.concat(glasses_blinks_during_handannotate_times)\n",
    "gblinks = df_gblinks['timestamp_ms'].tolist()    "
   ]
  },
  {
   "cell_type": "code",
   "execution_count": 37,
   "metadata": {},
   "outputs": [
    {
     "name": "stdout",
     "output_type": "stream",
     "text": [
      " 400: glasses:  {'true_pos': 242, 'real_pos': 464, 'false_pos': 139, 'sensitivity': 52.1551724137931, 'false_discovery': 36.48293963254593}\n",
      " 400 openface: {'true_pos': 270, 'real_pos': 464, 'false_pos': 118, 'sensitivity': 58.189655172413794, 'false_discovery': 30.412371134020617}\n",
      " 500: glasses:  {'true_pos': 254, 'real_pos': 464, 'false_pos': 127, 'sensitivity': 54.741379310344826, 'false_discovery': 33.33333333333333}\n",
      " 500 openface: {'true_pos': 277, 'real_pos': 464, 'false_pos': 111, 'sensitivity': 59.69827586206896, 'false_discovery': 28.60824742268041}\n",
      " 600: glasses:  {'true_pos': 260, 'real_pos': 464, 'false_pos': 121, 'sensitivity': 56.03448275862068, 'false_discovery': 31.758530183727036}\n",
      " 600 openface: {'true_pos': 281, 'real_pos': 464, 'false_pos': 107, 'sensitivity': 60.560344827586206, 'false_discovery': 27.577319587628867}\n",
      " 700: glasses:  {'true_pos': 266, 'real_pos': 464, 'false_pos': 115, 'sensitivity': 57.327586206896555, 'false_discovery': 30.183727034120732}\n",
      " 700 openface: {'true_pos': 286, 'real_pos': 464, 'false_pos': 102, 'sensitivity': 61.63793103448276, 'false_discovery': 26.288659793814436}\n",
      " 800: glasses:  {'true_pos': 270, 'real_pos': 464, 'false_pos': 111, 'sensitivity': 58.189655172413794, 'false_discovery': 29.133858267716533}\n",
      " 800 openface: {'true_pos': 288, 'real_pos': 464, 'false_pos': 100, 'sensitivity': 62.06896551724138, 'false_discovery': 25.773195876288657}\n",
      " 900: glasses:  {'true_pos': 278, 'real_pos': 464, 'false_pos': 103, 'sensitivity': 59.91379310344828, 'false_discovery': 27.034120734908136}\n",
      " 900 openface: {'true_pos': 295, 'real_pos': 464, 'false_pos': 93, 'sensitivity': 63.577586206896555, 'false_discovery': 23.969072164948454}\n",
      "1000: glasses:  {'true_pos': 281, 'real_pos': 464, 'false_pos': 100, 'sensitivity': 60.560344827586206, 'false_discovery': 26.246719160104988}\n",
      "1000 openface: {'true_pos': 300, 'real_pos': 464, 'false_pos': 88, 'sensitivity': 64.65517241379311, 'false_discovery': 22.68041237113402}\n",
      "1100: glasses:  {'true_pos': 284, 'real_pos': 464, 'false_pos': 97, 'sensitivity': 61.206896551724135, 'false_discovery': 25.45931758530184}\n",
      "1100 openface: {'true_pos': 302, 'real_pos': 464, 'false_pos': 86, 'sensitivity': 65.08620689655173, 'false_discovery': 22.164948453608247}\n",
      "1200: glasses:  {'true_pos': 289, 'real_pos': 464, 'false_pos': 92, 'sensitivity': 62.28448275862068, 'false_discovery': 24.146981627296586}\n",
      "1200 openface: {'true_pos': 305, 'real_pos': 464, 'false_pos': 83, 'sensitivity': 65.73275862068965, 'false_discovery': 21.391752577319586}\n",
      "1300: glasses:  {'true_pos': 296, 'real_pos': 464, 'false_pos': 85, 'sensitivity': 63.793103448275865, 'false_discovery': 22.30971128608924}\n",
      "1300 openface: {'true_pos': 310, 'real_pos': 464, 'false_pos': 78, 'sensitivity': 66.8103448275862, 'false_discovery': 20.103092783505154}\n",
      "1400: glasses:  {'true_pos': 303, 'real_pos': 464, 'false_pos': 78, 'sensitivity': 65.30172413793103, 'false_discovery': 20.47244094488189}\n",
      "1400 openface: {'true_pos': 310, 'real_pos': 464, 'false_pos': 78, 'sensitivity': 66.8103448275862, 'false_discovery': 20.103092783505154}\n",
      "1500: glasses:  {'true_pos': 305, 'real_pos': 464, 'false_pos': 76, 'sensitivity': 65.73275862068965, 'false_discovery': 19.94750656167979}\n",
      "1500 openface: {'true_pos': 314, 'real_pos': 464, 'false_pos': 74, 'sensitivity': 67.67241379310344, 'false_discovery': 19.072164948453608}\n"
     ]
    }
   ],
   "source": [
    "#test different error margins\n",
    "for margin in [400, 500, 600, 700, 800, 900, 1000, 1100, 1200, 1300, 1400, 1500]:\n",
    "    g = gblinks.copy()\n",
    "    v = vblinks.copy()\n",
    "    gresults, false_pos_times = test_results(ablinks, g, margin)\n",
    "    print('%4d: glasses: '%(margin),gresults)\n",
    "    vresults, _ = test_results(ablinks, v, margin)\n",
    "    print('%4d openface:'%(margin),vresults)\n",
    "    "
   ]
  },
  {
   "cell_type": "markdown",
   "metadata": {},
   "source": [
    "# RUN TO HERE\n",
    "then apply best margin"
   ]
  },
  {
   "cell_type": "code",
   "execution_count": 38,
   "metadata": {},
   "outputs": [
    {
     "name": "stdout",
     "output_type": "stream",
     "text": [
      "glasses:  {'true_pos': 305, 'real_pos': 464, 'false_pos': 76, 'sensitivity': 65.73275862068965, 'false_discovery': 19.94750656167979}\n",
      "openface: {'true_pos': 314, 'real_pos': 464, 'false_pos': 74, 'sensitivity': 67.67241379310344, 'false_discovery': 19.072164948453608}\n"
     ]
    }
   ],
   "source": [
    "BEST_MARGIN = 1500\n",
    "\n",
    "#gblinks_debounce = debounce_data(gblinks)\n",
    "gresults, false_pos_times = test_results(ablinks, gblinks, BEST_MARGIN)\n",
    "print('glasses: ',gresults)\n",
    "\n",
    "vresults, _ = test_results(ablinks, vblinks, BEST_MARGIN)\n",
    "print('openface:',vresults)"
   ]
  },
  {
   "cell_type": "code",
   "execution_count": 39,
   "metadata": {},
   "outputs": [
    {
     "data": {
      "text/html": [
       "<div>\n",
       "<style scoped>\n",
       "    .dataframe tbody tr th:only-of-type {\n",
       "        vertical-align: middle;\n",
       "    }\n",
       "\n",
       "    .dataframe tbody tr th {\n",
       "        vertical-align: top;\n",
       "    }\n",
       "\n",
       "    .dataframe thead th {\n",
       "        text-align: right;\n",
       "    }\n",
       "</style>\n",
       "<table border=\"1\" class=\"dataframe\">\n",
       "  <thead>\n",
       "    <tr style=\"text-align: right;\">\n",
       "      <th></th>\n",
       "      <th>duration_ms</th>\n",
       "      <th>timestamp_ms</th>\n",
       "      <th>vel_close</th>\n",
       "      <th>vel_open</th>\n",
       "      <th>asym</th>\n",
       "      <th>weighted_asym</th>\n",
       "    </tr>\n",
       "  </thead>\n",
       "  <tbody>\n",
       "    <tr>\n",
       "      <th>5837</th>\n",
       "      <td>83.000</td>\n",
       "      <td>1618619513058.000</td>\n",
       "      <td>0.190</td>\n",
       "      <td>0.083</td>\n",
       "      <td>0.106</td>\n",
       "      <td>0.390</td>\n",
       "    </tr>\n",
       "    <tr>\n",
       "      <th>5838</th>\n",
       "      <td>74.000</td>\n",
       "      <td>1618619516238.000</td>\n",
       "      <td>0.139</td>\n",
       "      <td>0.109</td>\n",
       "      <td>0.030</td>\n",
       "      <td>0.123</td>\n",
       "    </tr>\n",
       "    <tr>\n",
       "      <th>5839</th>\n",
       "      <td>77.000</td>\n",
       "      <td>1618619517461.000</td>\n",
       "      <td>0.193</td>\n",
       "      <td>0.142</td>\n",
       "      <td>0.051</td>\n",
       "      <td>0.153</td>\n",
       "    </tr>\n",
       "    <tr>\n",
       "      <th>5840</th>\n",
       "      <td>60.000</td>\n",
       "      <td>1618619518370.000</td>\n",
       "      <td>0.166</td>\n",
       "      <td>0.024</td>\n",
       "      <td>0.142</td>\n",
       "      <td>0.748</td>\n",
       "    </tr>\n",
       "    <tr>\n",
       "      <th>5841</th>\n",
       "      <td>82.000</td>\n",
       "      <td>1618619518554.000</td>\n",
       "      <td>0.110</td>\n",
       "      <td>0.108</td>\n",
       "      <td>0.002</td>\n",
       "      <td>0.011</td>\n",
       "    </tr>\n",
       "  </tbody>\n",
       "</table>\n",
       "</div>"
      ],
      "text/plain": [
       "      duration_ms      timestamp_ms  vel_close  vel_open  asym  weighted_asym\n",
       "5837       83.000 1618619513058.000      0.190     0.083 0.106          0.390\n",
       "5838       74.000 1618619516238.000      0.139     0.109 0.030          0.123\n",
       "5839       77.000 1618619517461.000      0.193     0.142 0.051          0.153\n",
       "5840       60.000 1618619518370.000      0.166     0.024 0.142          0.748\n",
       "5841       82.000 1618619518554.000      0.110     0.108 0.002          0.011"
      ]
     },
     "execution_count": 39,
     "metadata": {},
     "output_type": "execute_result"
    }
   ],
   "source": [
    "df_gblinks['asym'] = df_gblinks['vel_close']-df_gblinks['vel_open']\n",
    "df_gblinks['weighted_asym'] = (df_gblinks['vel_close']-df_gblinks['vel_open'])/(df_gblinks['vel_close']+df_gblinks['vel_open'])\n",
    "\n",
    "df_gblinks.head()\n"
   ]
  },
  {
   "cell_type": "code",
   "execution_count": 40,
   "metadata": {},
   "outputs": [],
   "source": [
    "gblinks_success = df_gblinks[~df_gblinks['timestamp_ms'].isin(false_pos_times)]\n",
    "gblinks_failed  = df_gblinks[df_gblinks['timestamp_ms'].isin(false_pos_times)]"
   ]
  },
  {
   "cell_type": "code",
   "execution_count": 41,
   "metadata": {},
   "outputs": [
    {
     "name": "stdout",
     "output_type": "stream",
     "text": [
      "305\n",
      "76\n"
     ]
    }
   ],
   "source": [
    "print(len(gblinks_success))\n",
    "print(len(gblinks_failed))"
   ]
  },
  {
   "cell_type": "code",
   "execution_count": 42,
   "metadata": {},
   "outputs": [
    {
     "data": {
      "text/plain": [
       "<AxesSubplot:>"
      ]
     },
     "execution_count": 42,
     "metadata": {},
     "output_type": "execute_result"
    },
    {
     "data": {
      "image/png": "[encoded data removed]",
      "text/plain": [
       "<Figure size 432x288 with 1 Axes>"
      ]
     },
     "metadata": {
      "needs_background": "light"
     },
     "output_type": "display_data"
    }
   ],
   "source": [
    "gblinks_success['vel_open'].hist(bins=20)\n",
    "gblinks_failed['vel_open'].hist(bins=20,alpha=0.5)"
   ]
  },
  {
   "cell_type": "code",
   "execution_count": 43,
   "metadata": {},
   "outputs": [
    {
     "data": {
      "text/plain": [
       "<AxesSubplot:>"
      ]
     },
     "execution_count": 43,
     "metadata": {},
     "output_type": "execute_result"
    },
    {
     "data": {
      "image/png": "[encoded data removed]",
      "text/plain": [
       "<Figure size 432x288 with 1 Axes>"
      ]
     },
     "metadata": {
      "needs_background": "light"
     },
     "output_type": "display_data"
    }
   ],
   "source": [
    "gblinks_success['vel_close'].hist(bins=20)\n",
    "gblinks_failed['vel_close'].hist(bins=20,alpha=0.5)"
   ]
  },
  {
   "cell_type": "code",
   "execution_count": 44,
   "metadata": {},
   "outputs": [
    {
     "data": {
      "text/plain": [
       "<AxesSubplot:>"
      ]
     },
     "execution_count": 44,
     "metadata": {},
     "output_type": "execute_result"
    },
    {
     "data": {
      "image/png": "[encoded data removed]",
      "text/plain": [
       "<Figure size 432x288 with 1 Axes>"
      ]
     },
     "metadata": {
      "needs_background": "light"
     },
     "output_type": "display_data"
    }
   ],
   "source": [
    "gblinks_success['duration_ms'].hist(bins=20)\n",
    "gblinks_failed['duration_ms'].hist(bins=20,alpha=0.5)"
   ]
  },
  {
   "cell_type": "code",
   "execution_count": 45,
   "metadata": {},
   "outputs": [
    {
     "data": {
      "text/plain": [
       "<AxesSubplot:>"
      ]
     },
     "execution_count": 45,
     "metadata": {},
     "output_type": "execute_result"
    },
    {
     "data": {
      "image/png": "[encoded data removed]",
      "text/plain": [
       "<Figure size 432x288 with 1 Axes>"
      ]
     },
     "metadata": {
      "needs_background": "light"
     },
     "output_type": "display_data"
    }
   ],
   "source": [
    "gblinks_success['asym'].hist(bins=20)\n",
    "gblinks_failed['asym'].hist(bins=20, alpha=0.5)"
   ]
  },
  {
   "cell_type": "code",
   "execution_count": 46,
   "metadata": {},
   "outputs": [
    {
     "data": {
      "text/plain": [
       "<AxesSubplot:>"
      ]
     },
     "execution_count": 46,
     "metadata": {},
     "output_type": "execute_result"
    },
    {
     "data": {
      "image/png": "[encoded data removed]",
      "text/plain": [
       "<Figure size 432x288 with 1 Axes>"
      ]
     },
     "metadata": {
      "needs_background": "light"
     },
     "output_type": "display_data"
    }
   ],
   "source": [
    "gblinks_success['weighted_asym'].hist(bins=20)\n",
    "gblinks_failed['weighted_asym'].hist(bins=20, alpha=0.5)"
   ]
  },
  {
   "cell_type": "code",
   "execution_count": 47,
   "metadata": {},
   "outputs": [
    {
     "name": "stdout",
     "output_type": "stream",
     "text": [
      "filtered out 248 results\n",
      "original glasses:  {'true_pos': 305, 'real_pos': 464, 'false_pos': 76, 'sensitivity': 65.73275862068965, 'false_discovery': 19.94750656167979}\n",
      "filtered glasses:  {'true_pos': 131, 'real_pos': 464, 'false_pos': 2, 'sensitivity': 28.23275862068966, 'false_discovery': 1.5037593984962405}\n",
      "filtered glasses:  {'true_pos': 296, 'real_pos': 464, 'false_pos': 72, 'sensitivity': 63.793103448275865, 'false_discovery': 19.565217391304348}\n"
     ]
    }
   ],
   "source": [
    "#lets filter our blink list by IF vel_close < 0.12 and/or vel_open < 0.05 and retest\n",
    "gblinks = df_gblinks['timestamp_ms'].tolist()\n",
    "#gblinks_filtered1 = df_gblinks[(df_gblinks['vel_open'] > 0.05) & (df_gblinks['vel_close'] > 0.12)]['timestamp_ms'].tolist()\n",
    "#gblinks_filtered2 = df_gblinks[(df_gblinks['vel_open'] > 0.05) | (df_gblinks['vel_close'] > 0.12)]['timestamp_ms'].tolist()\n",
    "gblinks_filtered1 = df_gblinks[(df_gblinks['weighted_asym'] < 0.5) & (df_gblinks['weighted_asym'] > 0.0)]['timestamp_ms'].tolist()\n",
    "gblinks_filtered2 = df_gblinks[(df_gblinks['duration_ms'] > 50) & (df_gblinks['vel_open'] < 0.4) & (df_gblinks['vel_close'] < 0.4)]['timestamp_ms'].tolist()\n",
    "\n",
    "\n",
    "\n",
    "\n",
    "print('filtered out', len(gblinks)-len(gblinks_filtered1),'results')\n",
    "gresults, false_pos_times = test_results(ablinks, gblinks, BEST_MARGIN)\n",
    "\n",
    "print('original glasses: ',gresults)\n",
    "gresults, false_pos_times = test_results(ablinks, gblinks_filtered1, BEST_MARGIN)\n",
    "print('filtered glasses: ',gresults)\n",
    "gresults, false_pos_times = test_results(ablinks, gblinks_filtered2, BEST_MARGIN)\n",
    "print('filtered glasses: ',gresults)"
   ]
  },
  {
   "cell_type": "code",
   "execution_count": 48,
   "metadata": {},
   "outputs": [
    {
     "name": "stdout",
     "output_type": "stream",
     "text": [
      "filtered out 29 results\n",
      "original glasses:  {'true_pos': 305, 'real_pos': 464, 'false_pos': 76, 'sensitivity': 65.73275862068965, 'false_discovery': 19.94750656167979}\n",
      "filtered glasses:  {'true_pos': 288, 'real_pos': 464, 'false_pos': 64, 'sensitivity': 62.06896551724138, 'false_discovery': 18.181818181818183}\n"
     ]
    }
   ],
   "source": [
    "gblinks = df_gblinks['timestamp_ms'].tolist()\n",
    "gblinks_filtered1 = df_gblinks[(df_gblinks['vel_open'] > 0.05) | (df_gblinks['vel_close'] > 0.12)]['timestamp_ms'].tolist()\n",
    "#gblinks_filtered2 = df_gblinks[((df_gblinks['vel_open'] > 0.06) | (df_gblinks['vel_close'] > 0.12)) & (df_gblinks['rotation_magnitude'] < 0.05)]['timestamp_ms'].tolist()\n",
    "\n",
    "\n",
    "print('filtered out', len(gblinks)-len(gblinks_filtered1),'results')\n",
    "gresults, false_pos_times = test_results(ablinks, gblinks, BEST_MARGIN)\n",
    "\n",
    "print('original glasses: ',gresults)\n",
    "gresults, false_pos_times = test_results(ablinks, gblinks_filtered1, BEST_MARGIN)\n",
    "print('filtered glasses: ',gresults)\n",
    "#gresults, false_pos_times = test_results(ablinks, gblinks_filtered2, BEST_MARGIN)\n",
    "#print('filtered glasses: ',gresults)"
   ]
  },
  {
   "cell_type": "code",
   "execution_count": 49,
   "metadata": {},
   "outputs": [
    {
     "name": "stdout",
     "output_type": "stream",
     "text": [
      "{'openface': {'true_pos': 314, 'real_pos': 464, 'false_pos': 74, 'sensitivity': 67.67241379310344, 'false_discovery': 19.072164948453608}, 'glasses': {'true_pos': 305, 'real_pos': 464, 'false_pos': 76, 'sensitivity': 65.73275862068965, 'false_discovery': 19.94750656167979}, 'glasses_filtered': {'true_pos': 288, 'real_pos': 464, 'false_pos': 64, 'sensitivity': 62.06896551724138, 'false_discovery': 18.181818181818183}}\n"
     ]
    }
   ],
   "source": [
    "#lets save our results!\n",
    "final_results = {}\n",
    "\n",
    "vblinks = []\n",
    "for i in hand_annotations: vblinks.extend(vid_meta_data['blink_timestamps_per_session'][i])\n",
    "vresults, _ = test_results(ablinks, vblinks, BEST_MARGIN)\n",
    "final_results['openface'] = vresults\n",
    "\n",
    "gblinks = df_gblinks['timestamp_ms'].tolist()\n",
    "gresults, _ = test_results(ablinks, gblinks, BEST_MARGIN)\n",
    "final_results['glasses'] = gresults\n",
    "\n",
    "gblinks_filtered = df_gblinks[(df_gblinks['vel_open'] > 0.05) | (df_gblinks['vel_close'] > 0.12)]['timestamp_ms'].tolist()\n",
    "gresults, _ = test_results(ablinks, gblinks_filtered, BEST_MARGIN)\n",
    "final_results['glasses_filtered'] = gresults\n",
    "\n",
    "print(final_results)"
   ]
  },
  {
   "cell_type": "code",
   "execution_count": 50,
   "metadata": {},
   "outputs": [],
   "source": [
    "final_results['best_margin'] = BEST_MARGIN\n",
    "final_results['applied_thresh'] = THRESH\n",
    "pickle.dump(final_results, open( './cleaned_data/' + SESSION + '/final_results_algo.p', \"wb\" ))"
   ]
  },
  {
   "cell_type": "code",
   "execution_count": null,
   "metadata": {},
   "outputs": [],
   "source": []
  }
 ],
 "metadata": {
  "kernelspec": {
   "display_name": "Python 3",
   "language": "python",
   "name": "python3"
  },
  "language_info": {
   "codemirror_mode": {
    "name": "ipython",
    "version": 3
   },
   "file_extension": ".py",
   "mimetype": "text/x-python",
   "name": "python",
   "nbconvert_exporter": "python",
   "pygments_lexer": "ipython3",
   "version": "3.9.7"
  }
 },
 "nbformat": 4,
 "nbformat_minor": 2
}
